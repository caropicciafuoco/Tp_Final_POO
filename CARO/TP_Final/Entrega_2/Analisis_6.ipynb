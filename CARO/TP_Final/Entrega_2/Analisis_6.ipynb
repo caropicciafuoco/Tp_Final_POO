{
 "cells": [
  {
   "cell_type": "markdown",
   "source": [
    "# TRABAJO PRACTICO FINAL PROGRAMACION ORIENTADA A OBJETOS\n",
    "\n",
    "### **Bases de datos**:\n",
    "\n",
    "Precios claros es un conjunto de datasets realizado a partir de los precios provistos por el gobierno de los productos en las distintas cadenas de supermercados. Este parte de la iniciativa de la Dirección Nacional de Defensa del Consumidor de que los consumidores cuenten con mayor información a la hora de tomar decisiones con respecto a los productos que adquieren. Particularmente estos dataset pertenecen al año 2020, lo cual es importante tener en consideracion a la hora de mirar los precios dada su elevada diferencia con la actualidad.\n",
    "\n",
    "La base de datos seleccionada cuenta con 6 datasets: uno de productos, uno con las sucursales y 3 con los precios de abril en distintos periodos, los cuales fueron relevados de la página del gobierno mediante técnicas de scraping por Open Data Córdoba, y por otro lado uno adicional que contiene las provincias y codigos de las mismas.\n",
    "\n",
    "**Link**: <https://www.kaggle.com/datasets/tinnqn/precios-claros-precios-de-argentina?select=sucursales.csv>"
   ],
   "metadata": {
    "collapsed": false
   }
  },
  {
   "cell_type": "markdown",
   "source": [
    "### **Variables:**\n",
    "A continuacion se da una breve definicien de cada variable en el dataset precios claros, el cual se utilizara a lo largo de toda la investigacion.\n",
    "\n",
    "**Producto**\n",
    "- `id` , `productos_id`: numero de identificacion del producto.\n",
    "- `categoria`: categoria del producto (nuestros productos son los que forman parte de la canasta basica: Agua, Leche, Arroz, Harinas y Pastas).\n",
    "- `marca`: marca del producto.\n",
    "- `presentacion`: presentacion del producto en cantidad (numeros).\n",
    "- `unidad_presentacion`: unidad de medida de la presentacion (cc, lt, kg o gr).\n",
    "- `precio`: precio del producto en el 2020.\n",
    "\n",
    "**Sucursal/Comercio**\n",
    "- `sucursal_id`: numero de identificacion de la sucursal del producto.\n",
    "- `sucursalTipo` , `tipo_comercio`: tipo de comercio de la sucursal (Supermercado, Hipermercado o Autoservicio).\n",
    "- `cadena`: es la cadena de supermercado en la que se vende el producto. Este es el target de nuestro modelo, por ello seleccionamos 3 cadenas con distintas categorias: Disco dirigido a personas de alto poder adquisitivo, que es de alta categoria, Hipermercado Carrefour a personas poder adquisitivo medio y Supermercados DIA de menor poder adquisitivo).\n",
    "\n",
    "\n",
    "**Variable dependiente ->** es el target mencionado, el cual depende del resto de variables: `cadena`\n",
    "**Variables independientes ->** son las variables que nos van a permitir predecir el target, es decir, todo el resto de variables mencionadas: `categoria`, `marca`, `presentacion`, `unidad_presentacion`, `precio` y `tipo_comercio`."
   ],
   "metadata": {
    "collapsed": false
   }
  },
  {
   "cell_type": "markdown",
   "source": [
    "### **Objetivo:**\n",
    "El objetivo de este trabajo es poder analizar los precios de los diferentes tipos de productos de la canasta basica, teniendo en cuenta la categoria, marca, tipo de cadena, presentacion y cadena en el que se realiza la venta del producto, para poder evaluar en que comercios y que marcas tienen los productos mas baratos.\n",
    "\n",
    "Ademas, la idea es crear un modelo de regresion logistica que nos permita predecir en base a las variables a cual cadena pertenece el producto, ya sea Disco, Hipermercado Carrefour o Supermercados DIA. Dado que pertenecen a diferentes categorias de supermercados, sus consumidores objetivo son distintos, por lo que sus precios tambien varian.\n",
    "\n",
    "Es por eso que el objetivo del modelo es predecir a cual de ellos pertenece el producto."
   ],
   "metadata": {
    "collapsed": false
   }
  },
  {
   "cell_type": "markdown",
   "source": [
    "### **Hipotesis:**\n",
    "Respecto a las variables seleccionadas se espera poder ver que en el comercio de Disco, dado que es una cadena dirigido a personas de alto poder adquisitivo, sus productos tambien tendran mayores precios, ademas de que se espera encontrar una menor cantidad de sucursales del mismo y menor variedad de productos de la canasta basica. Lo mismo sucedera son Supermercados DIA que al ser una cadena dirigida a consumidores de menor poder adquisitivo que los anteriores, se espera encontrar que sus precios tambien son menores, mientras que en Carrefour se espera encontrar un precio intermedio que en los dos anteriores."
   ],
   "metadata": {
    "collapsed": false
   }
  },
  {
   "cell_type": "markdown",
   "source": [
    "### **Tranformaciones a realizar:**\n",
    "- **Load & Merge**\n",
    "En primera instancia se van a cargar todos los datasets, para luego poder unirlos y filtrarlos segun los datos necesarios para el analisi, en este caso, las categorias de productos de canasta basica: Agua, Leche, Arroz, Harinas y Pastas, y la cadena de comercio: Disco, Hipermercado Carrefour y Supermercados Dia. Ademas, como para nuestro modelo necesitamos la columna de presentacion separado de la unidad en la que esta medido, separaremos la columna en esta instancia. El dataframe resultante es el que sera utilizado para el trabajo, el cual se llamara `precios_claros`.\n",
    "\n",
    "\n",
    "- **Preprocesamiento**\n",
    "Una vez listo el dataset es necesario realizar un preprocesamiento de los datos. En esta instancia se evaluaran los posibles nulos en nuestras variables realizar el tratamiento adecuado de los mismos (drop, imputer, etc), y se evaluaran tambien los podibles duplicados y outliers.\n",
    "\n",
    "- **Analisis Inicial**\n",
    "Se muestar un analisis de nuestros datos, evaluando tendencias, frequencias, etc, con el objetivo de tener un mejor conocimiento de los datos a tratar.\n",
    "\n",
    "- **Escalado**\n",
    "Se escalan las variables numericas `precio` y `presentacion` para que sean comparables entre si, a pesar de que su rango de datos en primera instancia sea distinto.\n",
    "\n",
    "- **Encoding**\n",
    "Se tratan las variables categorias, creando distintas columnas binarias con la presencia o no de la variable en el producto. Esto es fundamental para el modelo bucado. Ademas, aplicamos el encoding a la variable target.\n",
    "\n",
    "- **Modelo**\n",
    "Realizamos el primer modelo de regresion logistica y obtenemos un score mediante un cross validation, el cual se ira mejorando mediante diferentes metodos para lograr un accuracy mas elevado.\n",
    "!!!!! matriz, etc"
   ],
   "metadata": {
    "collapsed": false
   }
  },
  {
   "cell_type": "code",
   "execution_count": 37,
   "metadata": {
    "collapsed": true
   },
   "outputs": [
    {
     "name": "stdout",
     "output_type": "stream",
     "text": [
      "The autoreload extension is already loaded. To reload it, use:\n",
      "  %reload_ext autoreload\n"
     ]
    }
   ],
   "source": [
    "%load_ext autoreload\n",
    "%autoreload 2"
   ]
  },
  {
   "cell_type": "markdown",
   "source": [
    "Importamos las librerias que vamos a necesitar."
   ],
   "metadata": {
    "collapsed": false
   }
  },
  {
   "cell_type": "code",
   "execution_count": 38,
   "outputs": [],
   "source": [
    "import pandas as pd\n",
    "import numpy as np\n",
    "import seaborn as sns\n",
    "import matplotlib.pyplot as plt"
   ],
   "metadata": {
    "collapsed": false
   }
  },
  {
   "cell_type": "markdown",
   "source": [
    "## 1 - LOAD & MERGE"
   ],
   "metadata": {
    "collapsed": false
   }
  },
  {
   "cell_type": "code",
   "execution_count": 39,
   "outputs": [
    {
     "name": "stdout",
     "output_type": "stream",
     "text": [
      "['productos_categoria.csv', 'precios_20200426_20200426.csv', 'precios_20200412_20200413.csv', 'sucursales.csv', 'productos.csv', 'provincias.csv', 'precios_20200419_20200419.csv']\n"
     ]
    }
   ],
   "source": [
    "import os\n",
    "files = [f for f in os.listdir(\"data/\") if f.endswith(\".csv\")]\n",
    "print(files)"
   ],
   "metadata": {
    "collapsed": false
   }
  },
  {
   "cell_type": "code",
   "execution_count": 40,
   "outputs": [
    {
     "data": {
      "text/plain": "dict_keys(['productos_categoria', 'precios_20200426_20200426', 'precios_20200412_20200413', 'sucursales', 'productos', 'provincias', 'precios_20200419_20200419'])"
     },
     "execution_count": 40,
     "metadata": {},
     "output_type": "execute_result"
    }
   ],
   "source": [
    "from load_csv_tp import load_all_data\n",
    "data = load_all_data(\"data/\")\n",
    "data.keys()"
   ],
   "metadata": {
    "collapsed": false
   }
  },
  {
   "cell_type": "markdown",
   "source": [
    "Asigno los datasets en variables haciendole una copia para no sobreescribir el original."
   ],
   "metadata": {
    "collapsed": false
   }
  },
  {
   "cell_type": "markdown",
   "source": [
    "### Sucursales"
   ],
   "metadata": {
    "collapsed": false
   }
  },
  {
   "cell_type": "code",
   "execution_count": 41,
   "outputs": [
    {
     "data": {
      "text/plain": "         id  comercioId  banderaId      banderaDescripcion  \\\n0     1-1-7           1          1              Super MAMI   \n1    10-1-1          10          1  Hipermercado Carrefour   \n2   10-1-10          10          1  Hipermercado Carrefour   \n3   10-1-11          10          1  Hipermercado Carrefour   \n4  10-1-112          10          1  Hipermercado Carrefour   \n\n  comercioRazonSocial provincia            localidad  \\\n0     Dinosaurio S.A.      AR-X          SALSIPUEDES   \n1            INC S.A.      AR-B           San Isidro   \n2            INC S.A.      AR-B           Hurlingham   \n3            INC S.A.      AR-B  Malvinas Argentinas   \n4            INC S.A.      AR-A                Salta   \n\n                   direccion        lat        lng       sucursalNombre  \\\n0              E53 1011 None -31.126667 -64.295250         Super Mami 4   \n1  Bernardo De Irigoyen 2647 -34.491345 -58.589025           San Isidro   \n2           Av. Vergara 1910 -34.620610 -58.633769          Villa Tesei   \n3      Av. Arturo Illia 3770 -34.528883 -58.701631  Malvinas Argentinas   \n4           20 De Febrero 37 -24.789072 -65.413699                Salta   \n\n   sucursalTipo  \n0  Hipermercado  \n1  Hipermercado  \n2  Hipermercado  \n3  Hipermercado  \n4  Hipermercado  ",
      "text/html": "<div>\n<style scoped>\n    .dataframe tbody tr th:only-of-type {\n        vertical-align: middle;\n    }\n\n    .dataframe tbody tr th {\n        vertical-align: top;\n    }\n\n    .dataframe thead th {\n        text-align: right;\n    }\n</style>\n<table border=\"1\" class=\"dataframe\">\n  <thead>\n    <tr style=\"text-align: right;\">\n      <th></th>\n      <th>id</th>\n      <th>comercioId</th>\n      <th>banderaId</th>\n      <th>banderaDescripcion</th>\n      <th>comercioRazonSocial</th>\n      <th>provincia</th>\n      <th>localidad</th>\n      <th>direccion</th>\n      <th>lat</th>\n      <th>lng</th>\n      <th>sucursalNombre</th>\n      <th>sucursalTipo</th>\n    </tr>\n  </thead>\n  <tbody>\n    <tr>\n      <th>0</th>\n      <td>1-1-7</td>\n      <td>1</td>\n      <td>1</td>\n      <td>Super MAMI</td>\n      <td>Dinosaurio S.A.</td>\n      <td>AR-X</td>\n      <td>SALSIPUEDES</td>\n      <td>E53 1011 None</td>\n      <td>-31.126667</td>\n      <td>-64.295250</td>\n      <td>Super Mami 4</td>\n      <td>Hipermercado</td>\n    </tr>\n    <tr>\n      <th>1</th>\n      <td>10-1-1</td>\n      <td>10</td>\n      <td>1</td>\n      <td>Hipermercado Carrefour</td>\n      <td>INC S.A.</td>\n      <td>AR-B</td>\n      <td>San Isidro</td>\n      <td>Bernardo De Irigoyen 2647</td>\n      <td>-34.491345</td>\n      <td>-58.589025</td>\n      <td>San Isidro</td>\n      <td>Hipermercado</td>\n    </tr>\n    <tr>\n      <th>2</th>\n      <td>10-1-10</td>\n      <td>10</td>\n      <td>1</td>\n      <td>Hipermercado Carrefour</td>\n      <td>INC S.A.</td>\n      <td>AR-B</td>\n      <td>Hurlingham</td>\n      <td>Av. Vergara 1910</td>\n      <td>-34.620610</td>\n      <td>-58.633769</td>\n      <td>Villa Tesei</td>\n      <td>Hipermercado</td>\n    </tr>\n    <tr>\n      <th>3</th>\n      <td>10-1-11</td>\n      <td>10</td>\n      <td>1</td>\n      <td>Hipermercado Carrefour</td>\n      <td>INC S.A.</td>\n      <td>AR-B</td>\n      <td>Malvinas Argentinas</td>\n      <td>Av. Arturo Illia 3770</td>\n      <td>-34.528883</td>\n      <td>-58.701631</td>\n      <td>Malvinas Argentinas</td>\n      <td>Hipermercado</td>\n    </tr>\n    <tr>\n      <th>4</th>\n      <td>10-1-112</td>\n      <td>10</td>\n      <td>1</td>\n      <td>Hipermercado Carrefour</td>\n      <td>INC S.A.</td>\n      <td>AR-A</td>\n      <td>Salta</td>\n      <td>20 De Febrero 37</td>\n      <td>-24.789072</td>\n      <td>-65.413699</td>\n      <td>Salta</td>\n      <td>Hipermercado</td>\n    </tr>\n  </tbody>\n</table>\n</div>"
     },
     "execution_count": 41,
     "metadata": {},
     "output_type": "execute_result"
    }
   ],
   "source": [
    "sucursales = data['sucursales'].copy()\n",
    "sucursales.head()"
   ],
   "metadata": {
    "collapsed": false
   }
  },
  {
   "cell_type": "markdown",
   "source": [
    "### Productos"
   ],
   "metadata": {
    "collapsed": false
   }
  },
  {
   "cell_type": "code",
   "execution_count": 42,
   "outputs": [
    {
     "data": {
      "text/plain": "                   _id/$oid                             nombre categoria  \\\n0  5cbc69be7af152186c0cd784  Aceite de Girasol Cañuelas 1.5 Lt    Aceite   \n1  5cbc69be7af152186c0cd783  Aceite de Girasol Cañuelas 900 Cc    Aceite   \n2  5cbc69be7af152186c0cd54d  Aceite de Girasol Cocinero 1.5 Lt    Aceite   \n3  5cbc69be7af152186c0cd552  Aceite de Girasol Cocinero 900 Ml    Aceite   \n4  5cbc69be7af152186c0cd5e4    Aceite de Girasol Natura 1.5 Lt    Aceite   \n\n      marca presentacion             id  \n0  CAÑUELAS       1.5 lt  7792180001665  \n1  CAÑUELAS     900.0 cc  7792180001641  \n2  COCINERO       1.5 lt  7790060023684  \n3  COCINERO     900.0 ml  7790070012050  \n4    NATURA       1.5 lt  7790272001029  ",
      "text/html": "<div>\n<style scoped>\n    .dataframe tbody tr th:only-of-type {\n        vertical-align: middle;\n    }\n\n    .dataframe tbody tr th {\n        vertical-align: top;\n    }\n\n    .dataframe thead th {\n        text-align: right;\n    }\n</style>\n<table border=\"1\" class=\"dataframe\">\n  <thead>\n    <tr style=\"text-align: right;\">\n      <th></th>\n      <th>_id/$oid</th>\n      <th>nombre</th>\n      <th>categoria</th>\n      <th>marca</th>\n      <th>presentacion</th>\n      <th>id</th>\n    </tr>\n  </thead>\n  <tbody>\n    <tr>\n      <th>0</th>\n      <td>5cbc69be7af152186c0cd784</td>\n      <td>Aceite de Girasol Cañuelas 1.5 Lt</td>\n      <td>Aceite</td>\n      <td>CAÑUELAS</td>\n      <td>1.5 lt</td>\n      <td>7792180001665</td>\n    </tr>\n    <tr>\n      <th>1</th>\n      <td>5cbc69be7af152186c0cd783</td>\n      <td>Aceite de Girasol Cañuelas 900 Cc</td>\n      <td>Aceite</td>\n      <td>CAÑUELAS</td>\n      <td>900.0 cc</td>\n      <td>7792180001641</td>\n    </tr>\n    <tr>\n      <th>2</th>\n      <td>5cbc69be7af152186c0cd54d</td>\n      <td>Aceite de Girasol Cocinero 1.5 Lt</td>\n      <td>Aceite</td>\n      <td>COCINERO</td>\n      <td>1.5 lt</td>\n      <td>7790060023684</td>\n    </tr>\n    <tr>\n      <th>3</th>\n      <td>5cbc69be7af152186c0cd552</td>\n      <td>Aceite de Girasol Cocinero 900 Ml</td>\n      <td>Aceite</td>\n      <td>COCINERO</td>\n      <td>900.0 ml</td>\n      <td>7790070012050</td>\n    </tr>\n    <tr>\n      <th>4</th>\n      <td>5cbc69be7af152186c0cd5e4</td>\n      <td>Aceite de Girasol Natura 1.5 Lt</td>\n      <td>Aceite</td>\n      <td>NATURA</td>\n      <td>1.5 lt</td>\n      <td>7790272001029</td>\n    </tr>\n  </tbody>\n</table>\n</div>"
     },
     "execution_count": 42,
     "metadata": {},
     "output_type": "execute_result"
    }
   ],
   "source": [
    "productos = data['productos_categoria'].copy()\n",
    "productos.head()"
   ],
   "metadata": {
    "collapsed": false
   }
  },
  {
   "cell_type": "markdown",
   "source": [
    "### Precios\n",
    "Cargo los datasets de los precios de abril . Como se contaba con varios datasets del mes, se opto por concatenarlos uno debajo del otro para poder tratar los datos y realizar el analisis."
   ],
   "metadata": {
    "collapsed": false
   }
  },
  {
   "cell_type": "code",
   "execution_count": 43,
   "outputs": [
    {
     "data": {
      "text/plain": "   precio    producto_id sucursal_id\n0   29.90  0000000001663     2-1-014\n1   29.90  0000000002288     2-1-032\n2   39.90  0000000002288     2-1-096\n3  499.99  0000000205870     9-1-686\n4  519.99  0000000205870     9-2-248",
      "text/html": "<div>\n<style scoped>\n    .dataframe tbody tr th:only-of-type {\n        vertical-align: middle;\n    }\n\n    .dataframe tbody tr th {\n        vertical-align: top;\n    }\n\n    .dataframe thead th {\n        text-align: right;\n    }\n</style>\n<table border=\"1\" class=\"dataframe\">\n  <thead>\n    <tr style=\"text-align: right;\">\n      <th></th>\n      <th>precio</th>\n      <th>producto_id</th>\n      <th>sucursal_id</th>\n    </tr>\n  </thead>\n  <tbody>\n    <tr>\n      <th>0</th>\n      <td>29.90</td>\n      <td>0000000001663</td>\n      <td>2-1-014</td>\n    </tr>\n    <tr>\n      <th>1</th>\n      <td>29.90</td>\n      <td>0000000002288</td>\n      <td>2-1-032</td>\n    </tr>\n    <tr>\n      <th>2</th>\n      <td>39.90</td>\n      <td>0000000002288</td>\n      <td>2-1-096</td>\n    </tr>\n    <tr>\n      <th>3</th>\n      <td>499.99</td>\n      <td>0000000205870</td>\n      <td>9-1-686</td>\n    </tr>\n    <tr>\n      <th>4</th>\n      <td>519.99</td>\n      <td>0000000205870</td>\n      <td>9-2-248</td>\n    </tr>\n  </tbody>\n</table>\n</div>"
     },
     "execution_count": 43,
     "metadata": {},
     "output_type": "execute_result"
    }
   ],
   "source": [
    "precios = pd.concat([data['precios_20200412_20200413'].copy(), data['precios_20200419_20200419'].copy(), data['precios_20200426_20200426']])\n",
    "precios.head()"
   ],
   "metadata": {
    "collapsed": false
   }
  },
  {
   "cell_type": "markdown",
   "source": [
    "# - Merge\n",
    "Unimos los distintos dataset para pooder realizar el analisis.\n",
    "\n",
    "Para poder realizarlo en primer lugar voy a establecer como indice de los dataframes los id, con el objetivo de que al unirlo las columnas no se repitan. Y pasamos la columna id de productos a tipo objeto para poder unirla con precios."
   ],
   "metadata": {
    "collapsed": false
   }
  },
  {
   "cell_type": "code",
   "execution_count": 44,
   "outputs": [],
   "source": [
    "precios = precios.set_index(\"producto_id\")\n",
    "sucursales = sucursales.set_index('id')"
   ],
   "metadata": {
    "collapsed": false
   }
  },
  {
   "cell_type": "markdown",
   "source": [
    "**Filtrado de productos**\n",
    "\n",
    "Ademas, para no unir datos que no seran utilizados, en primera instancia filtraremos el dataset de productos para quedarnos unicamente con los lacteos."
   ],
   "metadata": {
    "collapsed": false
   }
  },
  {
   "cell_type": "code",
   "execution_count": 45,
   "outputs": [
    {
     "data": {
      "text/plain": "list[array(['Aceite', 'Aceite de oliva', 'Aderezos', 'Agua', 'Arroz',\n       'Bebes y niños', 'Bebidas con alcohol', 'Bebidas sin alcohol',\n       'Bebidas deportivas', 'Jugos en polvo', 'Cacao y café',\n       'Carnes congeladas', 'Otros congelados', 'Conservas',\n       'Endulzantes', 'Especias', 'Golosinas', 'Grasas', 'Harinas',\n       'Infusiones', 'Lacteos', 'Leche', 'Leche en polvo', 'Limpieza',\n       'Manteca', 'Mascotas', 'Mermeladas y dulces',\n       'Cereales azucarados', 'Panificados', nan, 'Pastas', 'Perfumeria',\n       'Postres y reposteria', 'Premezclas', 'Quesos', 'Salsas', 'Sopas',\n       'Verduras congeladas', 'Yogur'], dtype=object)]"
     },
     "execution_count": 45,
     "metadata": {},
     "output_type": "execute_result"
    }
   ],
   "source": [
    "list[productos.categoria.unique()]"
   ],
   "metadata": {
    "collapsed": false
   }
  },
  {
   "cell_type": "markdown",
   "source": [
    "Vemos las categorias que tiene nuestro dataset, ya que para el analisis buscabamos analizar los productos de la canasta basica. Al visualizar las diferentes categorias se observa que una de ellas pertenece a NANS. Antes de filtrar el dataset analizaremos estso NANS para ver si son relevantes para el trabajo."
   ],
   "metadata": {
    "collapsed": false
   }
  },
  {
   "cell_type": "code",
   "execution_count": 46,
   "outputs": [
    {
     "data": {
      "text/plain": "                     _id/$oid  \\\n706  5cbc69be7af152186c0cd637   \n994  5cbc69be7af152186c0cd868   \n\n                                                nombre categoria    marca  \\\n706  Mix de Frutos Secos y Semillas Nutritivo Natur...       NaN    ARCOR   \n994         Crema de Avellana con Cacao Nutella 140 Gr       NaN  NUTELLA   \n\n    presentacion             id  \n706      27.0 gr  7790580110413  \n994     140.0 gr  7898024395232  ",
      "text/html": "<div>\n<style scoped>\n    .dataframe tbody tr th:only-of-type {\n        vertical-align: middle;\n    }\n\n    .dataframe tbody tr th {\n        vertical-align: top;\n    }\n\n    .dataframe thead th {\n        text-align: right;\n    }\n</style>\n<table border=\"1\" class=\"dataframe\">\n  <thead>\n    <tr style=\"text-align: right;\">\n      <th></th>\n      <th>_id/$oid</th>\n      <th>nombre</th>\n      <th>categoria</th>\n      <th>marca</th>\n      <th>presentacion</th>\n      <th>id</th>\n    </tr>\n  </thead>\n  <tbody>\n    <tr>\n      <th>706</th>\n      <td>5cbc69be7af152186c0cd637</td>\n      <td>Mix de Frutos Secos y Semillas Nutritivo Natur...</td>\n      <td>NaN</td>\n      <td>ARCOR</td>\n      <td>27.0 gr</td>\n      <td>7790580110413</td>\n    </tr>\n    <tr>\n      <th>994</th>\n      <td>5cbc69be7af152186c0cd868</td>\n      <td>Crema de Avellana con Cacao Nutella 140 Gr</td>\n      <td>NaN</td>\n      <td>NUTELLA</td>\n      <td>140.0 gr</td>\n      <td>7898024395232</td>\n    </tr>\n  </tbody>\n</table>\n</div>"
     },
     "execution_count": 46,
     "metadata": {},
     "output_type": "execute_result"
    }
   ],
   "source": [
    "productos[productos.categoria.isna()]"
   ],
   "metadata": {
    "collapsed": false
   }
  },
  {
   "cell_type": "markdown",
   "source": [
    "Como este producto no son parte de la canasta basica, no es relevante que falte su categoria, ya que no vamos a utilizarlo para el analisis. Podemos ignorarlo o eliminarlo. Optaremos por eliminarlo."
   ],
   "metadata": {
    "collapsed": false
   }
  },
  {
   "cell_type": "code",
   "execution_count": 47,
   "outputs": [
    {
     "data": {
      "text/plain": "_id/$oid        0\nnombre          0\ncategoria       0\nmarca           0\npresentacion    0\nid              0\ndtype: int64"
     },
     "execution_count": 47,
     "metadata": {},
     "output_type": "execute_result"
    }
   ],
   "source": [
    "productos = productos.dropna(subset = \"categoria\")\n",
    "productos.isna().sum()"
   ],
   "metadata": {
    "collapsed": false
   }
  },
  {
   "cell_type": "markdown",
   "source": [
    "Una vez eliminados, filtraremos por las categorias pertenecientes a la canasta basica."
   ],
   "metadata": {
    "collapsed": false
   }
  },
  {
   "cell_type": "code",
   "execution_count": 48,
   "outputs": [
    {
     "data": {
      "text/plain": "                    _id/$oid                                        nombre  \\\n32  5cbc69be7af152186c0cd83c     Agua Mineral con Gas Villavicencio 1.5 Lt   \n33  5cbc69be7af152186c0cd5f5    Agua Mineral sin Gas Bajo Sodio Ser 1.5 Lt   \n34  5cbc69be7af152186c0cd692           Agua Mineral sin Gas Bonaqua 1.5 Lt   \n35  5cbc69be7af152186c0cd691           Agua Mineral sin Gas Bonaqua 500 Cc   \n36  5cbc69be7af152186c0cd7a7  Agua Mineral sin Gas Eco de Los Andes 500 Cc   \n\n   categoria             marca presentacion             id  \n32      Agua     VILLAVICENCIO       1.5 lt  7798062547788  \n33      Agua               SER       1.5 lt  7790315058706  \n34      Agua           BONAQUA       1.5 lt  7790895003875  \n35      Agua           BONAQUA     500.0 cc  7790895003868  \n36      Agua  ECO DE LOS ANDES     500.0 cc  7792799000011  ",
      "text/html": "<div>\n<style scoped>\n    .dataframe tbody tr th:only-of-type {\n        vertical-align: middle;\n    }\n\n    .dataframe tbody tr th {\n        vertical-align: top;\n    }\n\n    .dataframe thead th {\n        text-align: right;\n    }\n</style>\n<table border=\"1\" class=\"dataframe\">\n  <thead>\n    <tr style=\"text-align: right;\">\n      <th></th>\n      <th>_id/$oid</th>\n      <th>nombre</th>\n      <th>categoria</th>\n      <th>marca</th>\n      <th>presentacion</th>\n      <th>id</th>\n    </tr>\n  </thead>\n  <tbody>\n    <tr>\n      <th>32</th>\n      <td>5cbc69be7af152186c0cd83c</td>\n      <td>Agua Mineral con Gas Villavicencio 1.5 Lt</td>\n      <td>Agua</td>\n      <td>VILLAVICENCIO</td>\n      <td>1.5 lt</td>\n      <td>7798062547788</td>\n    </tr>\n    <tr>\n      <th>33</th>\n      <td>5cbc69be7af152186c0cd5f5</td>\n      <td>Agua Mineral sin Gas Bajo Sodio Ser 1.5 Lt</td>\n      <td>Agua</td>\n      <td>SER</td>\n      <td>1.5 lt</td>\n      <td>7790315058706</td>\n    </tr>\n    <tr>\n      <th>34</th>\n      <td>5cbc69be7af152186c0cd692</td>\n      <td>Agua Mineral sin Gas Bonaqua 1.5 Lt</td>\n      <td>Agua</td>\n      <td>BONAQUA</td>\n      <td>1.5 lt</td>\n      <td>7790895003875</td>\n    </tr>\n    <tr>\n      <th>35</th>\n      <td>5cbc69be7af152186c0cd691</td>\n      <td>Agua Mineral sin Gas Bonaqua 500 Cc</td>\n      <td>Agua</td>\n      <td>BONAQUA</td>\n      <td>500.0 cc</td>\n      <td>7790895003868</td>\n    </tr>\n    <tr>\n      <th>36</th>\n      <td>5cbc69be7af152186c0cd7a7</td>\n      <td>Agua Mineral sin Gas Eco de Los Andes 500 Cc</td>\n      <td>Agua</td>\n      <td>ECO DE LOS ANDES</td>\n      <td>500.0 cc</td>\n      <td>7792799000011</td>\n    </tr>\n  </tbody>\n</table>\n</div>"
     },
     "execution_count": 48,
     "metadata": {},
     "output_type": "execute_result"
    }
   ],
   "source": [
    "canasta_basica = [\"Agua\", \"Leche\" , \"Arroz\", \"Harinas\", \"Pastas\"]\n",
    "\n",
    "productos = productos[(productos.categoria.isin(canasta_basica))]\n",
    "productos.head()"
   ],
   "metadata": {
    "collapsed": false
   }
  },
  {
   "cell_type": "markdown",
   "source": [
    "Verificamos que las categorias en el nuevo df sean las seleccionadas"
   ],
   "metadata": {
    "collapsed": false
   }
  },
  {
   "cell_type": "code",
   "execution_count": 49,
   "outputs": [
    {
     "data": {
      "text/plain": "list[array(['Agua', 'Arroz', 'Harinas', 'Leche', 'Pastas'], dtype=object)]"
     },
     "execution_count": 49,
     "metadata": {},
     "output_type": "execute_result"
    }
   ],
   "source": [
    "list[productos.categoria.unique()]"
   ],
   "metadata": {
    "collapsed": false
   }
  },
  {
   "cell_type": "markdown",
   "source": [
    "Ahora si uno los dataframes."
   ],
   "metadata": {
    "collapsed": false
   }
  },
  {
   "cell_type": "code",
   "execution_count": 50,
   "outputs": [
    {
     "data": {
      "text/plain": "                       _id/$oid                                     nombre  \\\n0      5cbc69be7af152186c0cd83c  Agua Mineral con Gas Villavicencio 1.5 Lt   \n1      5cbc69be7af152186c0cd83c  Agua Mineral con Gas Villavicencio 1.5 Lt   \n2      5cbc69be7af152186c0cd83c  Agua Mineral con Gas Villavicencio 1.5 Lt   \n3      5cbc69be7af152186c0cd83c  Agua Mineral con Gas Villavicencio 1.5 Lt   \n4      5cbc69be7af152186c0cd83c  Agua Mineral con Gas Villavicencio 1.5 Lt   \n...                         ...                                        ...   \n14242  5cbc69be7af152186c0cd585              Risotto 4 Quesos Gallo 200 Gr   \n14243  5cbc69be7af152186c0cd585              Risotto 4 Quesos Gallo 200 Gr   \n14244  5cbc69be7af152186c0cd585              Risotto 4 Quesos Gallo 200 Gr   \n14245  5cbc69be7af152186c0cd585              Risotto 4 Quesos Gallo 200 Gr   \n14246  5cbc69be7af152186c0cd585              Risotto 4 Quesos Gallo 200 Gr   \n\n      categoria          marca presentacion             id  precio  \\\n0          Agua  VILLAVICENCIO       1.5 lt  7798062547788   70.00   \n1          Agua  VILLAVICENCIO       1.5 lt  7798062547788   85.00   \n2          Agua  VILLAVICENCIO       1.5 lt  7798062547788   69.00   \n3          Agua  VILLAVICENCIO       1.5 lt  7798062547788   75.50   \n4          Agua  VILLAVICENCIO       1.5 lt  7798062547788   73.00   \n...         ...            ...          ...            ...     ...   \n14242     Arroz          GALLO     200.0 gr  7790070411754  139.00   \n14243     Arroz          GALLO     200.0 gr  7790070411754  110.90   \n14244     Arroz          GALLO     200.0 gr  7790070411754  139.00   \n14245     Arroz          GALLO     200.0 gr  7790070411754  123.55   \n14246     Arroz          GALLO     200.0 gr  7790070411754  123.55   \n\n      sucursal_id  comercioId  banderaId          banderaDescripcion  \\\n0        10-1-112        10.0        1.0      Hipermercado Carrefour   \n1        10-1-142        10.0        1.0      Hipermercado Carrefour   \n2        10-1-178        10.0        1.0      Hipermercado Carrefour   \n3        10-1-233        10.0        1.0      Hipermercado Carrefour   \n4         10-1-29        10.0        1.0      Hipermercado Carrefour   \n...           ...         ...        ...                         ...   \n14242      49-1-2        49.0        1.0  Super Tuti1 y Super Tuti 3   \n14243       5-1-3         5.0        1.0    California Supermercados   \n14244      50-1-2        50.0        1.0    Super Tuti2 y Super Todo   \n14245      6-1-26         6.0        1.0       Supermercados Comodin   \n14246       6-2-1         6.0        2.0                Maxi Comodin   \n\n            comercioRazonSocial provincia  \\\n0                      INC S.A.      AR-A   \n1                      INC S.A.      AR-V   \n2                      INC S.A.      AR-K   \n3                      INC S.A.      AR-E   \n4                      INC S.A.      AR-M   \n...                         ...       ...   \n14242   ARNALDO P. APPELLA S.A.      AR-B   \n14243           California S.A.      AR-N   \n14244  SUPERMERCADO TUTI 2 S.A.      AR-B   \n14245              Alberdi S.A.      AR-T   \n14246              Alberdi S.A.      AR-Y   \n\n                                 localidad                      direccion  \\\n0                                    Salta               20 De Febrero 37   \n1                               Río Grande             Av. San Martín 685   \n2      San Fernando del Valle de Catamarca         Hipólito Yrigoyen 1283   \n3                                Concordia             Av. Eva Perón 2250   \n4                                  Mendoza                  Las Heras 798   \n...                                    ...                            ...   \n14242                           9 de Julio   Av. 25 De Mayo Y Garmendia 0   \n14243                              Posadas               Av. Lavalle 5495   \n14244                           9 de Julio            Bartolome Mitre 917   \n14245                San Miguel de Tucumán  Avda. Alem Esq. Lavaissé 1796   \n14246                              Palpala     Ruta Nac. 66 Km 5 1/2 None   \n\n             lat        lng       sucursalNombre  sucursalTipo  \n0     -24.789072 -65.413699                Salta  Hipermercado  \n1     -53.785009 -67.702990           Río Grande  Supermercado  \n2     -28.477093 -65.778283            Catamarca  Supermercado  \n3     -31.368882 -58.011377            Concordia  Hipermercado  \n4     -32.885049 -68.848197  Mendoza Azul Centro  Hipermercado  \n...          ...        ...                  ...           ...  \n14242 -35.437917 -60.889431         Super TUTI 3  Supermercado  \n14243 -27.396928 -55.909301              Local 3  Hipermercado  \n14244 -35.444167 -60.881026           Super Todo  Supermercado  \n14245 -26.852726 -65.224345           Comodin 26  Supermercado  \n14246 -24.246972 -65.235856         Maxi Comodin  Hipermercado  \n\n[14247 rows x 19 columns]",
      "text/html": "<div>\n<style scoped>\n    .dataframe tbody tr th:only-of-type {\n        vertical-align: middle;\n    }\n\n    .dataframe tbody tr th {\n        vertical-align: top;\n    }\n\n    .dataframe thead th {\n        text-align: right;\n    }\n</style>\n<table border=\"1\" class=\"dataframe\">\n  <thead>\n    <tr style=\"text-align: right;\">\n      <th></th>\n      <th>_id/$oid</th>\n      <th>nombre</th>\n      <th>categoria</th>\n      <th>marca</th>\n      <th>presentacion</th>\n      <th>id</th>\n      <th>precio</th>\n      <th>sucursal_id</th>\n      <th>comercioId</th>\n      <th>banderaId</th>\n      <th>banderaDescripcion</th>\n      <th>comercioRazonSocial</th>\n      <th>provincia</th>\n      <th>localidad</th>\n      <th>direccion</th>\n      <th>lat</th>\n      <th>lng</th>\n      <th>sucursalNombre</th>\n      <th>sucursalTipo</th>\n    </tr>\n  </thead>\n  <tbody>\n    <tr>\n      <th>0</th>\n      <td>5cbc69be7af152186c0cd83c</td>\n      <td>Agua Mineral con Gas Villavicencio 1.5 Lt</td>\n      <td>Agua</td>\n      <td>VILLAVICENCIO</td>\n      <td>1.5 lt</td>\n      <td>7798062547788</td>\n      <td>70.00</td>\n      <td>10-1-112</td>\n      <td>10.0</td>\n      <td>1.0</td>\n      <td>Hipermercado Carrefour</td>\n      <td>INC S.A.</td>\n      <td>AR-A</td>\n      <td>Salta</td>\n      <td>20 De Febrero 37</td>\n      <td>-24.789072</td>\n      <td>-65.413699</td>\n      <td>Salta</td>\n      <td>Hipermercado</td>\n    </tr>\n    <tr>\n      <th>1</th>\n      <td>5cbc69be7af152186c0cd83c</td>\n      <td>Agua Mineral con Gas Villavicencio 1.5 Lt</td>\n      <td>Agua</td>\n      <td>VILLAVICENCIO</td>\n      <td>1.5 lt</td>\n      <td>7798062547788</td>\n      <td>85.00</td>\n      <td>10-1-142</td>\n      <td>10.0</td>\n      <td>1.0</td>\n      <td>Hipermercado Carrefour</td>\n      <td>INC S.A.</td>\n      <td>AR-V</td>\n      <td>Río Grande</td>\n      <td>Av. San Martín 685</td>\n      <td>-53.785009</td>\n      <td>-67.702990</td>\n      <td>Río Grande</td>\n      <td>Supermercado</td>\n    </tr>\n    <tr>\n      <th>2</th>\n      <td>5cbc69be7af152186c0cd83c</td>\n      <td>Agua Mineral con Gas Villavicencio 1.5 Lt</td>\n      <td>Agua</td>\n      <td>VILLAVICENCIO</td>\n      <td>1.5 lt</td>\n      <td>7798062547788</td>\n      <td>69.00</td>\n      <td>10-1-178</td>\n      <td>10.0</td>\n      <td>1.0</td>\n      <td>Hipermercado Carrefour</td>\n      <td>INC S.A.</td>\n      <td>AR-K</td>\n      <td>San Fernando del Valle de Catamarca</td>\n      <td>Hipólito Yrigoyen 1283</td>\n      <td>-28.477093</td>\n      <td>-65.778283</td>\n      <td>Catamarca</td>\n      <td>Supermercado</td>\n    </tr>\n    <tr>\n      <th>3</th>\n      <td>5cbc69be7af152186c0cd83c</td>\n      <td>Agua Mineral con Gas Villavicencio 1.5 Lt</td>\n      <td>Agua</td>\n      <td>VILLAVICENCIO</td>\n      <td>1.5 lt</td>\n      <td>7798062547788</td>\n      <td>75.50</td>\n      <td>10-1-233</td>\n      <td>10.0</td>\n      <td>1.0</td>\n      <td>Hipermercado Carrefour</td>\n      <td>INC S.A.</td>\n      <td>AR-E</td>\n      <td>Concordia</td>\n      <td>Av. Eva Perón 2250</td>\n      <td>-31.368882</td>\n      <td>-58.011377</td>\n      <td>Concordia</td>\n      <td>Hipermercado</td>\n    </tr>\n    <tr>\n      <th>4</th>\n      <td>5cbc69be7af152186c0cd83c</td>\n      <td>Agua Mineral con Gas Villavicencio 1.5 Lt</td>\n      <td>Agua</td>\n      <td>VILLAVICENCIO</td>\n      <td>1.5 lt</td>\n      <td>7798062547788</td>\n      <td>73.00</td>\n      <td>10-1-29</td>\n      <td>10.0</td>\n      <td>1.0</td>\n      <td>Hipermercado Carrefour</td>\n      <td>INC S.A.</td>\n      <td>AR-M</td>\n      <td>Mendoza</td>\n      <td>Las Heras 798</td>\n      <td>-32.885049</td>\n      <td>-68.848197</td>\n      <td>Mendoza Azul Centro</td>\n      <td>Hipermercado</td>\n    </tr>\n    <tr>\n      <th>...</th>\n      <td>...</td>\n      <td>...</td>\n      <td>...</td>\n      <td>...</td>\n      <td>...</td>\n      <td>...</td>\n      <td>...</td>\n      <td>...</td>\n      <td>...</td>\n      <td>...</td>\n      <td>...</td>\n      <td>...</td>\n      <td>...</td>\n      <td>...</td>\n      <td>...</td>\n      <td>...</td>\n      <td>...</td>\n      <td>...</td>\n      <td>...</td>\n    </tr>\n    <tr>\n      <th>14242</th>\n      <td>5cbc69be7af152186c0cd585</td>\n      <td>Risotto 4 Quesos Gallo 200 Gr</td>\n      <td>Arroz</td>\n      <td>GALLO</td>\n      <td>200.0 gr</td>\n      <td>7790070411754</td>\n      <td>139.00</td>\n      <td>49-1-2</td>\n      <td>49.0</td>\n      <td>1.0</td>\n      <td>Super Tuti1 y Super Tuti 3</td>\n      <td>ARNALDO P. APPELLA S.A.</td>\n      <td>AR-B</td>\n      <td>9 de Julio</td>\n      <td>Av. 25 De Mayo Y Garmendia 0</td>\n      <td>-35.437917</td>\n      <td>-60.889431</td>\n      <td>Super TUTI 3</td>\n      <td>Supermercado</td>\n    </tr>\n    <tr>\n      <th>14243</th>\n      <td>5cbc69be7af152186c0cd585</td>\n      <td>Risotto 4 Quesos Gallo 200 Gr</td>\n      <td>Arroz</td>\n      <td>GALLO</td>\n      <td>200.0 gr</td>\n      <td>7790070411754</td>\n      <td>110.90</td>\n      <td>5-1-3</td>\n      <td>5.0</td>\n      <td>1.0</td>\n      <td>California Supermercados</td>\n      <td>California S.A.</td>\n      <td>AR-N</td>\n      <td>Posadas</td>\n      <td>Av. Lavalle 5495</td>\n      <td>-27.396928</td>\n      <td>-55.909301</td>\n      <td>Local 3</td>\n      <td>Hipermercado</td>\n    </tr>\n    <tr>\n      <th>14244</th>\n      <td>5cbc69be7af152186c0cd585</td>\n      <td>Risotto 4 Quesos Gallo 200 Gr</td>\n      <td>Arroz</td>\n      <td>GALLO</td>\n      <td>200.0 gr</td>\n      <td>7790070411754</td>\n      <td>139.00</td>\n      <td>50-1-2</td>\n      <td>50.0</td>\n      <td>1.0</td>\n      <td>Super Tuti2 y Super Todo</td>\n      <td>SUPERMERCADO TUTI 2 S.A.</td>\n      <td>AR-B</td>\n      <td>9 de Julio</td>\n      <td>Bartolome Mitre 917</td>\n      <td>-35.444167</td>\n      <td>-60.881026</td>\n      <td>Super Todo</td>\n      <td>Supermercado</td>\n    </tr>\n    <tr>\n      <th>14245</th>\n      <td>5cbc69be7af152186c0cd585</td>\n      <td>Risotto 4 Quesos Gallo 200 Gr</td>\n      <td>Arroz</td>\n      <td>GALLO</td>\n      <td>200.0 gr</td>\n      <td>7790070411754</td>\n      <td>123.55</td>\n      <td>6-1-26</td>\n      <td>6.0</td>\n      <td>1.0</td>\n      <td>Supermercados Comodin</td>\n      <td>Alberdi S.A.</td>\n      <td>AR-T</td>\n      <td>San Miguel de Tucumán</td>\n      <td>Avda. Alem Esq. Lavaissé 1796</td>\n      <td>-26.852726</td>\n      <td>-65.224345</td>\n      <td>Comodin 26</td>\n      <td>Supermercado</td>\n    </tr>\n    <tr>\n      <th>14246</th>\n      <td>5cbc69be7af152186c0cd585</td>\n      <td>Risotto 4 Quesos Gallo 200 Gr</td>\n      <td>Arroz</td>\n      <td>GALLO</td>\n      <td>200.0 gr</td>\n      <td>7790070411754</td>\n      <td>123.55</td>\n      <td>6-2-1</td>\n      <td>6.0</td>\n      <td>2.0</td>\n      <td>Maxi Comodin</td>\n      <td>Alberdi S.A.</td>\n      <td>AR-Y</td>\n      <td>Palpala</td>\n      <td>Ruta Nac. 66 Km 5 1/2 None</td>\n      <td>-24.246972</td>\n      <td>-65.235856</td>\n      <td>Maxi Comodin</td>\n      <td>Hipermercado</td>\n    </tr>\n  </tbody>\n</table>\n<p>14247 rows × 19 columns</p>\n</div>"
     },
     "execution_count": 50,
     "metadata": {},
     "output_type": "execute_result"
    }
   ],
   "source": [
    "precios_claros = pd.merge(productos, precios, how = \"left\", left_on= 'id', right_on= 'producto_id')\\\n",
    "    .merge(sucursales, how = \"left\", left_on = 'sucursal_id', right_on = 'id')\n",
    "\n",
    "precios_claros"
   ],
   "metadata": {
    "collapsed": false
   }
  },
  {
   "cell_type": "markdown",
   "source": [
    "Antes de empezar el analisis, miramos que columnas tiene para ver con cuales quedarnos para el analisis."
   ],
   "metadata": {
    "collapsed": false
   }
  },
  {
   "cell_type": "code",
   "execution_count": 51,
   "outputs": [
    {
     "data": {
      "text/plain": "Index(['_id/$oid', 'nombre', 'categoria', 'marca', 'presentacion', 'id',\n       'precio', 'sucursal_id', 'comercioId', 'banderaId',\n       'banderaDescripcion', 'comercioRazonSocial', 'provincia', 'localidad',\n       'direccion', 'lat', 'lng', 'sucursalNombre', 'sucursalTipo'],\n      dtype='object')"
     },
     "execution_count": 51,
     "metadata": {},
     "output_type": "execute_result"
    }
   ],
   "source": [
    "precios_claros.columns"
   ],
   "metadata": {
    "collapsed": false
   }
  },
  {
   "cell_type": "markdown",
   "source": [
    "Seleccionamos las columnas con las que vamos a trabajar."
   ],
   "metadata": {
    "collapsed": false
   }
  },
  {
   "cell_type": "code",
   "execution_count": 52,
   "outputs": [
    {
     "data": {
      "text/plain": "                  id categoria          marca presentacion  precio  \\\n0      7798062547788      Agua  VILLAVICENCIO       1.5 lt   70.00   \n1      7798062547788      Agua  VILLAVICENCIO       1.5 lt   85.00   \n2      7798062547788      Agua  VILLAVICENCIO       1.5 lt   69.00   \n3      7798062547788      Agua  VILLAVICENCIO       1.5 lt   75.50   \n4      7798062547788      Agua  VILLAVICENCIO       1.5 lt   73.00   \n...              ...       ...            ...          ...     ...   \n14242  7790070411754     Arroz          GALLO     200.0 gr  139.00   \n14243  7790070411754     Arroz          GALLO     200.0 gr  110.90   \n14244  7790070411754     Arroz          GALLO     200.0 gr  139.00   \n14245  7790070411754     Arroz          GALLO     200.0 gr  123.55   \n14246  7790070411754     Arroz          GALLO     200.0 gr  123.55   \n\n      sucursal_id  sucursalTipo          banderaDescripcion  \n0        10-1-112  Hipermercado      Hipermercado Carrefour  \n1        10-1-142  Supermercado      Hipermercado Carrefour  \n2        10-1-178  Supermercado      Hipermercado Carrefour  \n3        10-1-233  Hipermercado      Hipermercado Carrefour  \n4         10-1-29  Hipermercado      Hipermercado Carrefour  \n...           ...           ...                         ...  \n14242      49-1-2  Supermercado  Super Tuti1 y Super Tuti 3  \n14243       5-1-3  Hipermercado    California Supermercados  \n14244      50-1-2  Supermercado    Super Tuti2 y Super Todo  \n14245      6-1-26  Supermercado       Supermercados Comodin  \n14246       6-2-1  Hipermercado                Maxi Comodin  \n\n[14247 rows x 8 columns]",
      "text/html": "<div>\n<style scoped>\n    .dataframe tbody tr th:only-of-type {\n        vertical-align: middle;\n    }\n\n    .dataframe tbody tr th {\n        vertical-align: top;\n    }\n\n    .dataframe thead th {\n        text-align: right;\n    }\n</style>\n<table border=\"1\" class=\"dataframe\">\n  <thead>\n    <tr style=\"text-align: right;\">\n      <th></th>\n      <th>id</th>\n      <th>categoria</th>\n      <th>marca</th>\n      <th>presentacion</th>\n      <th>precio</th>\n      <th>sucursal_id</th>\n      <th>sucursalTipo</th>\n      <th>banderaDescripcion</th>\n    </tr>\n  </thead>\n  <tbody>\n    <tr>\n      <th>0</th>\n      <td>7798062547788</td>\n      <td>Agua</td>\n      <td>VILLAVICENCIO</td>\n      <td>1.5 lt</td>\n      <td>70.00</td>\n      <td>10-1-112</td>\n      <td>Hipermercado</td>\n      <td>Hipermercado Carrefour</td>\n    </tr>\n    <tr>\n      <th>1</th>\n      <td>7798062547788</td>\n      <td>Agua</td>\n      <td>VILLAVICENCIO</td>\n      <td>1.5 lt</td>\n      <td>85.00</td>\n      <td>10-1-142</td>\n      <td>Supermercado</td>\n      <td>Hipermercado Carrefour</td>\n    </tr>\n    <tr>\n      <th>2</th>\n      <td>7798062547788</td>\n      <td>Agua</td>\n      <td>VILLAVICENCIO</td>\n      <td>1.5 lt</td>\n      <td>69.00</td>\n      <td>10-1-178</td>\n      <td>Supermercado</td>\n      <td>Hipermercado Carrefour</td>\n    </tr>\n    <tr>\n      <th>3</th>\n      <td>7798062547788</td>\n      <td>Agua</td>\n      <td>VILLAVICENCIO</td>\n      <td>1.5 lt</td>\n      <td>75.50</td>\n      <td>10-1-233</td>\n      <td>Hipermercado</td>\n      <td>Hipermercado Carrefour</td>\n    </tr>\n    <tr>\n      <th>4</th>\n      <td>7798062547788</td>\n      <td>Agua</td>\n      <td>VILLAVICENCIO</td>\n      <td>1.5 lt</td>\n      <td>73.00</td>\n      <td>10-1-29</td>\n      <td>Hipermercado</td>\n      <td>Hipermercado Carrefour</td>\n    </tr>\n    <tr>\n      <th>...</th>\n      <td>...</td>\n      <td>...</td>\n      <td>...</td>\n      <td>...</td>\n      <td>...</td>\n      <td>...</td>\n      <td>...</td>\n      <td>...</td>\n    </tr>\n    <tr>\n      <th>14242</th>\n      <td>7790070411754</td>\n      <td>Arroz</td>\n      <td>GALLO</td>\n      <td>200.0 gr</td>\n      <td>139.00</td>\n      <td>49-1-2</td>\n      <td>Supermercado</td>\n      <td>Super Tuti1 y Super Tuti 3</td>\n    </tr>\n    <tr>\n      <th>14243</th>\n      <td>7790070411754</td>\n      <td>Arroz</td>\n      <td>GALLO</td>\n      <td>200.0 gr</td>\n      <td>110.90</td>\n      <td>5-1-3</td>\n      <td>Hipermercado</td>\n      <td>California Supermercados</td>\n    </tr>\n    <tr>\n      <th>14244</th>\n      <td>7790070411754</td>\n      <td>Arroz</td>\n      <td>GALLO</td>\n      <td>200.0 gr</td>\n      <td>139.00</td>\n      <td>50-1-2</td>\n      <td>Supermercado</td>\n      <td>Super Tuti2 y Super Todo</td>\n    </tr>\n    <tr>\n      <th>14245</th>\n      <td>7790070411754</td>\n      <td>Arroz</td>\n      <td>GALLO</td>\n      <td>200.0 gr</td>\n      <td>123.55</td>\n      <td>6-1-26</td>\n      <td>Supermercado</td>\n      <td>Supermercados Comodin</td>\n    </tr>\n    <tr>\n      <th>14246</th>\n      <td>7790070411754</td>\n      <td>Arroz</td>\n      <td>GALLO</td>\n      <td>200.0 gr</td>\n      <td>123.55</td>\n      <td>6-2-1</td>\n      <td>Hipermercado</td>\n      <td>Maxi Comodin</td>\n    </tr>\n  </tbody>\n</table>\n<p>14247 rows × 8 columns</p>\n</div>"
     },
     "execution_count": 52,
     "metadata": {},
     "output_type": "execute_result"
    }
   ],
   "source": [
    "precios_claros = precios_claros[[\"id\", \"categoria\", \"marca\", \"presentacion\", \"precio\", 'sucursal_id' ,\"sucursalTipo\", 'banderaDescripcion']]\n",
    "precios_claros"
   ],
   "metadata": {
    "collapsed": false
   }
  },
  {
   "cell_type": "markdown",
   "source": [
    "Como el objetivo del trabajo es poder predecir a que tipo de cadena pertenece el producto y en nuestro dataset actual hay demasiadas cadenas, filtraremos el dataset por algunas cadenas de comercios, las que se conideran mas relevantes e influyentes en el mercado. !!!Como considero cada cadena"
   ],
   "metadata": {
    "collapsed": false
   }
  },
  {
   "cell_type": "code",
   "execution_count": 53,
   "outputs": [
    {
     "data": {
      "text/plain": "                  id categoria          marca presentacion  precio  \\\n0      7798062547788      Agua  VILLAVICENCIO       1.5 lt   70.00   \n1      7798062547788      Agua  VILLAVICENCIO       1.5 lt   85.00   \n2      7798062547788      Agua  VILLAVICENCIO       1.5 lt   69.00   \n3      7798062547788      Agua  VILLAVICENCIO       1.5 lt   75.50   \n4      7798062547788      Agua  VILLAVICENCIO       1.5 lt   73.00   \n...              ...       ...            ...          ...     ...   \n14172  7790236001263    Pastas     LA SALTEÑA     400.0 gr   79.99   \n14173  7790236001263    Pastas     LA SALTEÑA     400.0 gr   75.00   \n14199  7790236001263    Pastas     LA SALTEÑA     400.0 gr   77.00   \n14200  7790236001263    Pastas     LA SALTEÑA     400.0 gr   75.00   \n14203  7790070411754     Arroz          GALLO     200.0 gr  136.00   \n\n      sucursal_id  sucursalTipo      banderaDescripcion  \n0        10-1-112  Hipermercado  Hipermercado Carrefour  \n1        10-1-142  Supermercado  Hipermercado Carrefour  \n2        10-1-178  Supermercado  Hipermercado Carrefour  \n3        10-1-233  Hipermercado  Hipermercado Carrefour  \n4         10-1-29  Hipermercado  Hipermercado Carrefour  \n...           ...           ...                     ...  \n14172   15-1-1059  Supermercado       Supermercados DIA  \n14173    15-1-800  Autoservicio       Supermercados DIA  \n14199       9-2-4  Supermercado                   Disco  \n14200     9-2-583  Supermercado                   Disco  \n14203     10-1-49  Hipermercado  Hipermercado Carrefour  \n\n[2486 rows x 8 columns]",
      "text/html": "<div>\n<style scoped>\n    .dataframe tbody tr th:only-of-type {\n        vertical-align: middle;\n    }\n\n    .dataframe tbody tr th {\n        vertical-align: top;\n    }\n\n    .dataframe thead th {\n        text-align: right;\n    }\n</style>\n<table border=\"1\" class=\"dataframe\">\n  <thead>\n    <tr style=\"text-align: right;\">\n      <th></th>\n      <th>id</th>\n      <th>categoria</th>\n      <th>marca</th>\n      <th>presentacion</th>\n      <th>precio</th>\n      <th>sucursal_id</th>\n      <th>sucursalTipo</th>\n      <th>banderaDescripcion</th>\n    </tr>\n  </thead>\n  <tbody>\n    <tr>\n      <th>0</th>\n      <td>7798062547788</td>\n      <td>Agua</td>\n      <td>VILLAVICENCIO</td>\n      <td>1.5 lt</td>\n      <td>70.00</td>\n      <td>10-1-112</td>\n      <td>Hipermercado</td>\n      <td>Hipermercado Carrefour</td>\n    </tr>\n    <tr>\n      <th>1</th>\n      <td>7798062547788</td>\n      <td>Agua</td>\n      <td>VILLAVICENCIO</td>\n      <td>1.5 lt</td>\n      <td>85.00</td>\n      <td>10-1-142</td>\n      <td>Supermercado</td>\n      <td>Hipermercado Carrefour</td>\n    </tr>\n    <tr>\n      <th>2</th>\n      <td>7798062547788</td>\n      <td>Agua</td>\n      <td>VILLAVICENCIO</td>\n      <td>1.5 lt</td>\n      <td>69.00</td>\n      <td>10-1-178</td>\n      <td>Supermercado</td>\n      <td>Hipermercado Carrefour</td>\n    </tr>\n    <tr>\n      <th>3</th>\n      <td>7798062547788</td>\n      <td>Agua</td>\n      <td>VILLAVICENCIO</td>\n      <td>1.5 lt</td>\n      <td>75.50</td>\n      <td>10-1-233</td>\n      <td>Hipermercado</td>\n      <td>Hipermercado Carrefour</td>\n    </tr>\n    <tr>\n      <th>4</th>\n      <td>7798062547788</td>\n      <td>Agua</td>\n      <td>VILLAVICENCIO</td>\n      <td>1.5 lt</td>\n      <td>73.00</td>\n      <td>10-1-29</td>\n      <td>Hipermercado</td>\n      <td>Hipermercado Carrefour</td>\n    </tr>\n    <tr>\n      <th>...</th>\n      <td>...</td>\n      <td>...</td>\n      <td>...</td>\n      <td>...</td>\n      <td>...</td>\n      <td>...</td>\n      <td>...</td>\n      <td>...</td>\n    </tr>\n    <tr>\n      <th>14172</th>\n      <td>7790236001263</td>\n      <td>Pastas</td>\n      <td>LA SALTEÑA</td>\n      <td>400.0 gr</td>\n      <td>79.99</td>\n      <td>15-1-1059</td>\n      <td>Supermercado</td>\n      <td>Supermercados DIA</td>\n    </tr>\n    <tr>\n      <th>14173</th>\n      <td>7790236001263</td>\n      <td>Pastas</td>\n      <td>LA SALTEÑA</td>\n      <td>400.0 gr</td>\n      <td>75.00</td>\n      <td>15-1-800</td>\n      <td>Autoservicio</td>\n      <td>Supermercados DIA</td>\n    </tr>\n    <tr>\n      <th>14199</th>\n      <td>7790236001263</td>\n      <td>Pastas</td>\n      <td>LA SALTEÑA</td>\n      <td>400.0 gr</td>\n      <td>77.00</td>\n      <td>9-2-4</td>\n      <td>Supermercado</td>\n      <td>Disco</td>\n    </tr>\n    <tr>\n      <th>14200</th>\n      <td>7790236001263</td>\n      <td>Pastas</td>\n      <td>LA SALTEÑA</td>\n      <td>400.0 gr</td>\n      <td>75.00</td>\n      <td>9-2-583</td>\n      <td>Supermercado</td>\n      <td>Disco</td>\n    </tr>\n    <tr>\n      <th>14203</th>\n      <td>7790070411754</td>\n      <td>Arroz</td>\n      <td>GALLO</td>\n      <td>200.0 gr</td>\n      <td>136.00</td>\n      <td>10-1-49</td>\n      <td>Hipermercado</td>\n      <td>Hipermercado Carrefour</td>\n    </tr>\n  </tbody>\n</table>\n<p>2486 rows × 8 columns</p>\n</div>"
     },
     "execution_count": 53,
     "metadata": {},
     "output_type": "execute_result"
    }
   ],
   "source": [
    "cadenas = [\"Disco\", \"Hipermercado Carrefour\", \"Supermercados DIA\"]\n",
    "precios_claros = precios_claros[precios_claros.banderaDescripcion.isin(cadenas)]\n",
    "precios_claros"
   ],
   "metadata": {
    "collapsed": false
   }
  },
  {
   "cell_type": "markdown",
   "source": [
    "Establecemos mejores nombres a nuestras columnas, en base a los cuales se realizara el listado de variables del trabajo."
   ],
   "metadata": {
    "collapsed": false
   }
  },
  {
   "cell_type": "code",
   "execution_count": 54,
   "outputs": [],
   "source": [
    "precios_claros = precios_claros.rename(columns = { 'id' : 'producto_id', \"sucursalTipo\" : \"tipo_cadena\", 'banderaDescripcion' : \"cadena\"})"
   ],
   "metadata": {
    "collapsed": false
   }
  },
  {
   "cell_type": "markdown",
   "source": [
    "Como para el analisis necesitamos la presentacion del producto separada de la unidad de medida, primero separaremos la columna para realizar un ultimo filtrado previo al preprocesamiento de los datos."
   ],
   "metadata": {
    "collapsed": false
   }
  },
  {
   "cell_type": "code",
   "execution_count": 55,
   "outputs": [],
   "source": [
    "precios_claros[['presentacion', 'unidad_presentacion']] = precios_claros['presentacion'].str.split(' ',expand=True)"
   ],
   "metadata": {
    "collapsed": false
   }
  },
  {
   "cell_type": "markdown",
   "source": [
    "Cambiamos la variable a tipo numerico y verificamos que se haya cambiado efectivamente"
   ],
   "metadata": {
    "collapsed": false
   }
  },
  {
   "cell_type": "code",
   "execution_count": 56,
   "outputs": [
    {
     "data": {
      "text/plain": "producto_id             object\ncategoria               object\nmarca                   object\npresentacion           float64\nprecio                 float64\nsucursal_id             object\ntipo_cadena             object\ncadena                  object\nunidad_presentacion     object\ndtype: object"
     },
     "execution_count": 56,
     "metadata": {},
     "output_type": "execute_result"
    }
   ],
   "source": [
    "precios_claros[\"presentacion\"] = pd.to_numeric(precios_claros.presentacion)\n",
    "precios_claros.dtypes"
   ],
   "metadata": {
    "collapsed": false
   }
  },
  {
   "cell_type": "markdown",
   "source": [
    "## 2 - PREPROCESAMIENTO"
   ],
   "metadata": {
    "collapsed": false
   }
  },
  {
   "cell_type": "markdown",
   "source": [
    "Veo las columnas que hay"
   ],
   "metadata": {
    "collapsed": false
   }
  },
  {
   "cell_type": "code",
   "execution_count": 57,
   "outputs": [
    {
     "data": {
      "text/plain": "Index(['producto_id', 'categoria', 'marca', 'presentacion', 'precio',\n       'sucursal_id', 'tipo_cadena', 'cadena', 'unidad_presentacion'],\n      dtype='object')"
     },
     "execution_count": 57,
     "metadata": {},
     "output_type": "execute_result"
    }
   ],
   "source": [
    "precios_claros.columns"
   ],
   "metadata": {
    "collapsed": false
   }
  },
  {
   "cell_type": "markdown",
   "source": [
    "Las dimensiones:"
   ],
   "metadata": {
    "collapsed": false
   }
  },
  {
   "cell_type": "code",
   "execution_count": 58,
   "outputs": [
    {
     "name": "stdout",
     "output_type": "stream",
     "text": [
      "El dataset cuenta con 2486 resgistros y 9 columnas\n"
     ]
    }
   ],
   "source": [
    "dimensiones = precios_claros.shape\n",
    "print(f'El dataset cuenta con {dimensiones[0]} resgistros y {dimensiones[1]} columnas')"
   ],
   "metadata": {
    "collapsed": false
   }
  },
  {
   "cell_type": "markdown",
   "source": [
    "Miramos la tipologia de los datos de las variables. De igual manera seran tratados mas adelante."
   ],
   "metadata": {
    "collapsed": false
   }
  },
  {
   "cell_type": "code",
   "execution_count": 59,
   "outputs": [
    {
     "data": {
      "text/plain": "producto_id             object\ncategoria               object\nmarca                   object\npresentacion           float64\nprecio                 float64\nsucursal_id             object\ntipo_cadena             object\ncadena                  object\nunidad_presentacion     object\ndtype: object"
     },
     "execution_count": 59,
     "metadata": {},
     "output_type": "execute_result"
    }
   ],
   "source": [
    "precios_claros.dtypes"
   ],
   "metadata": {
    "collapsed": false
   }
  },
  {
   "cell_type": "markdown",
   "source": [
    "## - Duplicados\n",
    "\n",
    "Miramos cuantos duplicados tiene el dataset y los miramos para ver si hay que eliminarlos para evitar el overfitting."
   ],
   "metadata": {
    "collapsed": false
   }
  },
  {
   "cell_type": "code",
   "execution_count": 60,
   "outputs": [
    {
     "name": "stdout",
     "output_type": "stream",
     "text": [
      "El dataset parece tener 1731 filas duplicadas\n"
     ]
    }
   ],
   "source": [
    "print(f\"El dataset parece tener {len(precios_claros) - len(precios_claros[precios_claros.duplicated()])} filas duplicadas\")"
   ],
   "metadata": {
    "collapsed": false
   }
  },
  {
   "cell_type": "markdown",
   "source": [
    "Cuando miramos esos datos vemos que en realidad no son duplicados, es decir, las primeras columnas contienen el mismo dato porque hacen referencia al mismo producto, pero en realidad hace referencia a ese producto en distintas sucursales con distintos precios. Dado esto, no vamos a eliminarlos porque es precisamente ese el objetivo de analisis en este trabajo, mirar los productos y sus precios comparandolos en distintas cadenas y tipos de cadena."
   ],
   "metadata": {
    "collapsed": false
   }
  },
  {
   "cell_type": "code",
   "execution_count": 61,
   "outputs": [
    {
     "data": {
      "text/plain": "         producto_id categoria          marca  presentacion  precio  \\\n68     7798062547788      Agua  VILLAVICENCIO           1.5    70.0   \n70     7798062547788      Agua  VILLAVICENCIO           1.5    85.0   \n73     7798062547788      Agua  VILLAVICENCIO           1.5    73.0   \n75     7798062547788      Agua  VILLAVICENCIO           1.5    88.0   \n76     7798062547788      Agua  VILLAVICENCIO           1.5    83.0   \n...              ...       ...            ...           ...     ...   \n14076  7790236001263    Pastas     LA SALTEÑA         400.0    72.0   \n14107  7790236001263    Pastas     LA SALTEÑA         400.0    75.0   \n14136  7790236001263    Pastas     LA SALTEÑA         400.0    69.0   \n14137  7790236001263    Pastas     LA SALTEÑA         400.0    85.0   \n14143  7790236001263    Pastas     LA SALTEÑA         400.0    72.0   \n\n      sucursal_id   tipo_cadena                  cadena unidad_presentacion  \n68       10-1-112  Hipermercado  Hipermercado Carrefour                  lt  \n70       10-1-142  Supermercado  Hipermercado Carrefour                  lt  \n73        10-1-29  Hipermercado  Hipermercado Carrefour                  lt  \n75        10-1-48  Hipermercado  Hipermercado Carrefour                  lt  \n76        10-1-53  Hipermercado  Hipermercado Carrefour                  lt  \n...           ...           ...                     ...                 ...  \n14076     10-1-48  Hipermercado  Hipermercado Carrefour                  gr  \n14107   15-1-1803  Supermercado       Supermercados DIA                  gr  \n14136    10-1-142  Supermercado  Hipermercado Carrefour                  gr  \n14137    10-1-147  Hipermercado  Hipermercado Carrefour                  gr  \n14143     10-1-48  Hipermercado  Hipermercado Carrefour                  gr  \n\n[755 rows x 9 columns]",
      "text/html": "<div>\n<style scoped>\n    .dataframe tbody tr th:only-of-type {\n        vertical-align: middle;\n    }\n\n    .dataframe tbody tr th {\n        vertical-align: top;\n    }\n\n    .dataframe thead th {\n        text-align: right;\n    }\n</style>\n<table border=\"1\" class=\"dataframe\">\n  <thead>\n    <tr style=\"text-align: right;\">\n      <th></th>\n      <th>producto_id</th>\n      <th>categoria</th>\n      <th>marca</th>\n      <th>presentacion</th>\n      <th>precio</th>\n      <th>sucursal_id</th>\n      <th>tipo_cadena</th>\n      <th>cadena</th>\n      <th>unidad_presentacion</th>\n    </tr>\n  </thead>\n  <tbody>\n    <tr>\n      <th>68</th>\n      <td>7798062547788</td>\n      <td>Agua</td>\n      <td>VILLAVICENCIO</td>\n      <td>1.5</td>\n      <td>70.0</td>\n      <td>10-1-112</td>\n      <td>Hipermercado</td>\n      <td>Hipermercado Carrefour</td>\n      <td>lt</td>\n    </tr>\n    <tr>\n      <th>70</th>\n      <td>7798062547788</td>\n      <td>Agua</td>\n      <td>VILLAVICENCIO</td>\n      <td>1.5</td>\n      <td>85.0</td>\n      <td>10-1-142</td>\n      <td>Supermercado</td>\n      <td>Hipermercado Carrefour</td>\n      <td>lt</td>\n    </tr>\n    <tr>\n      <th>73</th>\n      <td>7798062547788</td>\n      <td>Agua</td>\n      <td>VILLAVICENCIO</td>\n      <td>1.5</td>\n      <td>73.0</td>\n      <td>10-1-29</td>\n      <td>Hipermercado</td>\n      <td>Hipermercado Carrefour</td>\n      <td>lt</td>\n    </tr>\n    <tr>\n      <th>75</th>\n      <td>7798062547788</td>\n      <td>Agua</td>\n      <td>VILLAVICENCIO</td>\n      <td>1.5</td>\n      <td>88.0</td>\n      <td>10-1-48</td>\n      <td>Hipermercado</td>\n      <td>Hipermercado Carrefour</td>\n      <td>lt</td>\n    </tr>\n    <tr>\n      <th>76</th>\n      <td>7798062547788</td>\n      <td>Agua</td>\n      <td>VILLAVICENCIO</td>\n      <td>1.5</td>\n      <td>83.0</td>\n      <td>10-1-53</td>\n      <td>Hipermercado</td>\n      <td>Hipermercado Carrefour</td>\n      <td>lt</td>\n    </tr>\n    <tr>\n      <th>...</th>\n      <td>...</td>\n      <td>...</td>\n      <td>...</td>\n      <td>...</td>\n      <td>...</td>\n      <td>...</td>\n      <td>...</td>\n      <td>...</td>\n      <td>...</td>\n    </tr>\n    <tr>\n      <th>14076</th>\n      <td>7790236001263</td>\n      <td>Pastas</td>\n      <td>LA SALTEÑA</td>\n      <td>400.0</td>\n      <td>72.0</td>\n      <td>10-1-48</td>\n      <td>Hipermercado</td>\n      <td>Hipermercado Carrefour</td>\n      <td>gr</td>\n    </tr>\n    <tr>\n      <th>14107</th>\n      <td>7790236001263</td>\n      <td>Pastas</td>\n      <td>LA SALTEÑA</td>\n      <td>400.0</td>\n      <td>75.0</td>\n      <td>15-1-1803</td>\n      <td>Supermercado</td>\n      <td>Supermercados DIA</td>\n      <td>gr</td>\n    </tr>\n    <tr>\n      <th>14136</th>\n      <td>7790236001263</td>\n      <td>Pastas</td>\n      <td>LA SALTEÑA</td>\n      <td>400.0</td>\n      <td>69.0</td>\n      <td>10-1-142</td>\n      <td>Supermercado</td>\n      <td>Hipermercado Carrefour</td>\n      <td>gr</td>\n    </tr>\n    <tr>\n      <th>14137</th>\n      <td>7790236001263</td>\n      <td>Pastas</td>\n      <td>LA SALTEÑA</td>\n      <td>400.0</td>\n      <td>85.0</td>\n      <td>10-1-147</td>\n      <td>Hipermercado</td>\n      <td>Hipermercado Carrefour</td>\n      <td>gr</td>\n    </tr>\n    <tr>\n      <th>14143</th>\n      <td>7790236001263</td>\n      <td>Pastas</td>\n      <td>LA SALTEÑA</td>\n      <td>400.0</td>\n      <td>72.0</td>\n      <td>10-1-48</td>\n      <td>Hipermercado</td>\n      <td>Hipermercado Carrefour</td>\n      <td>gr</td>\n    </tr>\n  </tbody>\n</table>\n<p>755 rows × 9 columns</p>\n</div>"
     },
     "execution_count": 61,
     "metadata": {},
     "output_type": "execute_result"
    }
   ],
   "source": [
    " precios_claros[precios_claros.duplicated()]"
   ],
   "metadata": {
    "collapsed": false
   }
  },
  {
   "cell_type": "markdown",
   "source": [
    "Igualmente podemos analizar que productos con su respectiva sucursal tienen repetidos los precios. Esto se da debido a que se tomaron los precios 3 veces en el mes. Como sacar el promedio podria ser alejado a la realidad por la existencia de outliers, nos quedaremos con el primer precio tomado de cada producto en el mes."
   ],
   "metadata": {
    "collapsed": false
   }
  },
  {
   "cell_type": "code",
   "execution_count": 62,
   "outputs": [],
   "source": [
    "precios_claros.drop_duplicates(subset = ['producto_id', 'sucursal_id'], keep = \"first\", inplace = True)"
   ],
   "metadata": {
    "collapsed": false
   }
  },
  {
   "cell_type": "code",
   "execution_count": 63,
   "outputs": [
    {
     "name": "stdout",
     "output_type": "stream",
     "text": [
      "La cantidad de registros sin duplicados es de 1729\n"
     ]
    }
   ],
   "source": [
    "sin_duplicados = len(precios_claros)\n",
    "print(f\"La cantidad de registros sin duplicados es de {sin_duplicados}\")"
   ],
   "metadata": {
    "collapsed": false
   }
  },
  {
   "cell_type": "code",
   "execution_count": 64,
   "outputs": [],
   "source": [
    "precios_claros.drop(columns = ['producto_id', 'sucursal_id'], inplace = True)"
   ],
   "metadata": {
    "collapsed": false
   }
  },
  {
   "cell_type": "markdown",
   "source": [
    "Verificamos su eliminacion"
   ],
   "metadata": {
    "collapsed": false
   }
  },
  {
   "cell_type": "code",
   "execution_count": 65,
   "outputs": [
    {
     "data": {
      "text/plain": "Index(['categoria', 'marca', 'presentacion', 'precio', 'tipo_cadena', 'cadena',\n       'unidad_presentacion'],\n      dtype='object')"
     },
     "execution_count": 65,
     "metadata": {},
     "output_type": "execute_result"
    }
   ],
   "source": [
    "precios_claros.columns"
   ],
   "metadata": {
    "collapsed": false
   }
  },
  {
   "cell_type": "markdown",
   "source": [
    "## - Faltantes\n",
    "\n",
    "Porcentaje de faltantes de variables por columna. Nuestro dataset no contiene faltantes, por lo que no hay que hacer ningun tipo de tratamiento especial."
   ],
   "metadata": {
    "collapsed": false
   }
  },
  {
   "cell_type": "code",
   "execution_count": 66,
   "outputs": [
    {
     "data": {
      "text/plain": "categoria              0.0\nmarca                  0.0\npresentacion           0.0\nprecio                 0.0\ntipo_cadena            0.0\ncadena                 0.0\nunidad_presentacion    0.0\ndtype: float64"
     },
     "execution_count": 66,
     "metadata": {},
     "output_type": "execute_result"
    }
   ],
   "source": [
    "round(precios_claros.isnull().sum().sort_values(ascending=False)/len(precios_claros) * 100 ,3)"
   ],
   "metadata": {
    "collapsed": false
   }
  },
  {
   "cell_type": "markdown",
   "source": [
    "## - Outliers\n",
    "\n",
    "Antes de poder empezar es fundamentar analizar la posible existencia de outliers en nuestros datos para poder tratarlos de manera adecuada."
   ],
   "metadata": {
    "collapsed": false
   },
   "outputs": []
  },
  {
   "cell_type": "code",
   "execution_count": 67,
   "outputs": [
    {
     "data": {
      "text/plain": "count    1729.00\nmean       84.51\nstd        45.02\nmin         9.59\n25%        54.75\n50%        71.00\n75%        92.00\nmax       224.00\nName: precio, dtype: float64"
     },
     "execution_count": 67,
     "metadata": {},
     "output_type": "execute_result"
    }
   ],
   "source": [
    "precios_claros.precio.describe().round(2)"
   ],
   "metadata": {
    "collapsed": false
   }
  },
  {
   "cell_type": "markdown",
   "source": [
    "Mediante el boxplot podemos observar que el cuadrado azul es donde hay mayor concentracion y es el rango intercuantil. Lo que esta fuera de los bigotes son los que parecen ser outliers o podrian ser malas imputaciones."
   ],
   "metadata": {
    "collapsed": false
   },
   "outputs": []
  },
  {
   "cell_type": "code",
   "execution_count": 68,
   "outputs": [
    {
     "data": {
      "text/plain": "<AxesSubplot: title={'center': 'Boxplot de presentacion'}, xlabel='presentacion'>"
     },
     "execution_count": 68,
     "metadata": {},
     "output_type": "execute_result"
    },
    {
     "data": {
      "text/plain": "<Figure size 1400x500 with 2 Axes>",
      "image/png": "[encoded data removed]"
     },
     "metadata": {},
     "output_type": "display_data"
    }
   ],
   "source": [
    "fig, ax = plt.subplots(1,2,figsize=(14,5))\n",
    "\n",
    "ax[0].set_title(f\"Boxplot de precio\")\n",
    "sns.boxplot(data = precios_claros, x = \"precio\",  ax = ax[0])\n",
    "\n",
    "ax[1].set_title(f\"Boxplot de presentacion\")\n",
    "sns.boxplot(data = precios_claros, x = \"presentacion\",  ax = ax[1])"
   ],
   "metadata": {
    "collapsed": false
   }
  },
  {
   "cell_type": "markdown",
   "source": [
    "Filtramos el dataset para evaluar estos pecios y al hacerlo podemos ver que en realidad se trata de productos con precio mas elevado porque su presentacion tambien es mayor. Es por ello que tomaremos la decision de no eliminarlos."
   ],
   "metadata": {
    "collapsed": false
   },
   "outputs": []
  },
  {
   "cell_type": "code",
   "execution_count": 69,
   "outputs": [
    {
     "data": {
      "text/plain": "     categoria    marca  presentacion  precio   tipo_cadena  \\\n2944     Arroz    GALLO           1.0   134.0  Hipermercado   \n2941     Arroz    GALLO           1.0   135.0  Hipermercado   \n3061     Arroz    GALLO           1.0   135.0  Supermercado   \n3071     Arroz    GALLO           1.0   135.0  Hipermercado   \n2948     Arroz    GALLO           1.0   146.0  Hipermercado   \n...        ...      ...           ...     ...           ...   \n4165   Harinas  MAIZENA         520.0   139.0  Hipermercado   \n4229   Harinas  MAIZENA         520.0   139.0  Supermercado   \n4163   Harinas  MAIZENA         520.0   140.0  Hipermercado   \n4166   Harinas  MAIZENA         520.0   143.0  Hipermercado   \n4154   Harinas  MAIZENA         520.0   159.0  Supermercado   \n\n                      cadena unidad_presentacion  \n2944  Hipermercado Carrefour                  kg  \n2941  Hipermercado Carrefour                  kg  \n3061                   Disco                  kg  \n3071  Hipermercado Carrefour                  kg  \n2948  Hipermercado Carrefour                  kg  \n...                      ...                 ...  \n4165  Hipermercado Carrefour                  gr  \n4229  Hipermercado Carrefour                  gr  \n4163  Hipermercado Carrefour                  gr  \n4166  Hipermercado Carrefour                  gr  \n4154                   Disco                  gr  \n\n[300 rows x 7 columns]",
      "text/html": "<div>\n<style scoped>\n    .dataframe tbody tr th:only-of-type {\n        vertical-align: middle;\n    }\n\n    .dataframe tbody tr th {\n        vertical-align: top;\n    }\n\n    .dataframe thead th {\n        text-align: right;\n    }\n</style>\n<table border=\"1\" class=\"dataframe\">\n  <thead>\n    <tr style=\"text-align: right;\">\n      <th></th>\n      <th>categoria</th>\n      <th>marca</th>\n      <th>presentacion</th>\n      <th>precio</th>\n      <th>tipo_cadena</th>\n      <th>cadena</th>\n      <th>unidad_presentacion</th>\n    </tr>\n  </thead>\n  <tbody>\n    <tr>\n      <th>2944</th>\n      <td>Arroz</td>\n      <td>GALLO</td>\n      <td>1.0</td>\n      <td>134.0</td>\n      <td>Hipermercado</td>\n      <td>Hipermercado Carrefour</td>\n      <td>kg</td>\n    </tr>\n    <tr>\n      <th>2941</th>\n      <td>Arroz</td>\n      <td>GALLO</td>\n      <td>1.0</td>\n      <td>135.0</td>\n      <td>Hipermercado</td>\n      <td>Hipermercado Carrefour</td>\n      <td>kg</td>\n    </tr>\n    <tr>\n      <th>3061</th>\n      <td>Arroz</td>\n      <td>GALLO</td>\n      <td>1.0</td>\n      <td>135.0</td>\n      <td>Supermercado</td>\n      <td>Disco</td>\n      <td>kg</td>\n    </tr>\n    <tr>\n      <th>3071</th>\n      <td>Arroz</td>\n      <td>GALLO</td>\n      <td>1.0</td>\n      <td>135.0</td>\n      <td>Hipermercado</td>\n      <td>Hipermercado Carrefour</td>\n      <td>kg</td>\n    </tr>\n    <tr>\n      <th>2948</th>\n      <td>Arroz</td>\n      <td>GALLO</td>\n      <td>1.0</td>\n      <td>146.0</td>\n      <td>Hipermercado</td>\n      <td>Hipermercado Carrefour</td>\n      <td>kg</td>\n    </tr>\n    <tr>\n      <th>...</th>\n      <td>...</td>\n      <td>...</td>\n      <td>...</td>\n      <td>...</td>\n      <td>...</td>\n      <td>...</td>\n      <td>...</td>\n    </tr>\n    <tr>\n      <th>4165</th>\n      <td>Harinas</td>\n      <td>MAIZENA</td>\n      <td>520.0</td>\n      <td>139.0</td>\n      <td>Hipermercado</td>\n      <td>Hipermercado Carrefour</td>\n      <td>gr</td>\n    </tr>\n    <tr>\n      <th>4229</th>\n      <td>Harinas</td>\n      <td>MAIZENA</td>\n      <td>520.0</td>\n      <td>139.0</td>\n      <td>Supermercado</td>\n      <td>Hipermercado Carrefour</td>\n      <td>gr</td>\n    </tr>\n    <tr>\n      <th>4163</th>\n      <td>Harinas</td>\n      <td>MAIZENA</td>\n      <td>520.0</td>\n      <td>140.0</td>\n      <td>Hipermercado</td>\n      <td>Hipermercado Carrefour</td>\n      <td>gr</td>\n    </tr>\n    <tr>\n      <th>4166</th>\n      <td>Harinas</td>\n      <td>MAIZENA</td>\n      <td>520.0</td>\n      <td>143.0</td>\n      <td>Hipermercado</td>\n      <td>Hipermercado Carrefour</td>\n      <td>gr</td>\n    </tr>\n    <tr>\n      <th>4154</th>\n      <td>Harinas</td>\n      <td>MAIZENA</td>\n      <td>520.0</td>\n      <td>159.0</td>\n      <td>Supermercado</td>\n      <td>Disco</td>\n      <td>gr</td>\n    </tr>\n  </tbody>\n</table>\n<p>300 rows × 7 columns</p>\n</div>"
     },
     "execution_count": 69,
     "metadata": {},
     "output_type": "execute_result"
    }
   ],
   "source": [
    "precios_claros[precios_claros.precio >= 125].sort_values(ascending = True, by = [\"presentacion\", \"precio\"])"
   ],
   "metadata": {
    "collapsed": false
   }
  },
  {
   "cell_type": "markdown",
   "source": [
    "## 3 - ANALISIS INICIAL\n",
    "\n",
    "Para comenzar haremos un analisis de los precios de los productos seleccionados."
   ],
   "metadata": {
    "collapsed": false
   }
  },
  {
   "cell_type": "code",
   "execution_count": 70,
   "outputs": [
    {
     "data": {
      "text/plain": "      categoria          marca  presentacion  precio   tipo_cadena  \\\n0          Agua  VILLAVICENCIO           1.5   70.00  Hipermercado   \n1          Agua  VILLAVICENCIO           1.5   85.00  Supermercado   \n2          Agua  VILLAVICENCIO           1.5   69.00  Supermercado   \n3          Agua  VILLAVICENCIO           1.5   75.50  Hipermercado   \n4          Agua  VILLAVICENCIO           1.5   73.00  Hipermercado   \n...         ...            ...           ...     ...           ...   \n14172    Pastas     LA SALTEÑA         400.0   79.99  Supermercado   \n14173    Pastas     LA SALTEÑA         400.0   75.00  Autoservicio   \n14199    Pastas     LA SALTEÑA         400.0   77.00  Supermercado   \n14200    Pastas     LA SALTEÑA         400.0   75.00  Supermercado   \n14203     Arroz          GALLO         200.0  136.00  Hipermercado   \n\n                       cadena unidad_presentacion  \n0      Hipermercado Carrefour                  lt  \n1      Hipermercado Carrefour                  lt  \n2      Hipermercado Carrefour                  lt  \n3      Hipermercado Carrefour                  lt  \n4      Hipermercado Carrefour                  lt  \n...                       ...                 ...  \n14172       Supermercados DIA                  gr  \n14173       Supermercados DIA                  gr  \n14199                   Disco                  gr  \n14200                   Disco                  gr  \n14203  Hipermercado Carrefour                  gr  \n\n[1729 rows x 7 columns]",
      "text/html": "<div>\n<style scoped>\n    .dataframe tbody tr th:only-of-type {\n        vertical-align: middle;\n    }\n\n    .dataframe tbody tr th {\n        vertical-align: top;\n    }\n\n    .dataframe thead th {\n        text-align: right;\n    }\n</style>\n<table border=\"1\" class=\"dataframe\">\n  <thead>\n    <tr style=\"text-align: right;\">\n      <th></th>\n      <th>categoria</th>\n      <th>marca</th>\n      <th>presentacion</th>\n      <th>precio</th>\n      <th>tipo_cadena</th>\n      <th>cadena</th>\n      <th>unidad_presentacion</th>\n    </tr>\n  </thead>\n  <tbody>\n    <tr>\n      <th>0</th>\n      <td>Agua</td>\n      <td>VILLAVICENCIO</td>\n      <td>1.5</td>\n      <td>70.00</td>\n      <td>Hipermercado</td>\n      <td>Hipermercado Carrefour</td>\n      <td>lt</td>\n    </tr>\n    <tr>\n      <th>1</th>\n      <td>Agua</td>\n      <td>VILLAVICENCIO</td>\n      <td>1.5</td>\n      <td>85.00</td>\n      <td>Supermercado</td>\n      <td>Hipermercado Carrefour</td>\n      <td>lt</td>\n    </tr>\n    <tr>\n      <th>2</th>\n      <td>Agua</td>\n      <td>VILLAVICENCIO</td>\n      <td>1.5</td>\n      <td>69.00</td>\n      <td>Supermercado</td>\n      <td>Hipermercado Carrefour</td>\n      <td>lt</td>\n    </tr>\n    <tr>\n      <th>3</th>\n      <td>Agua</td>\n      <td>VILLAVICENCIO</td>\n      <td>1.5</td>\n      <td>75.50</td>\n      <td>Hipermercado</td>\n      <td>Hipermercado Carrefour</td>\n      <td>lt</td>\n    </tr>\n    <tr>\n      <th>4</th>\n      <td>Agua</td>\n      <td>VILLAVICENCIO</td>\n      <td>1.5</td>\n      <td>73.00</td>\n      <td>Hipermercado</td>\n      <td>Hipermercado Carrefour</td>\n      <td>lt</td>\n    </tr>\n    <tr>\n      <th>...</th>\n      <td>...</td>\n      <td>...</td>\n      <td>...</td>\n      <td>...</td>\n      <td>...</td>\n      <td>...</td>\n      <td>...</td>\n    </tr>\n    <tr>\n      <th>14172</th>\n      <td>Pastas</td>\n      <td>LA SALTEÑA</td>\n      <td>400.0</td>\n      <td>79.99</td>\n      <td>Supermercado</td>\n      <td>Supermercados DIA</td>\n      <td>gr</td>\n    </tr>\n    <tr>\n      <th>14173</th>\n      <td>Pastas</td>\n      <td>LA SALTEÑA</td>\n      <td>400.0</td>\n      <td>75.00</td>\n      <td>Autoservicio</td>\n      <td>Supermercados DIA</td>\n      <td>gr</td>\n    </tr>\n    <tr>\n      <th>14199</th>\n      <td>Pastas</td>\n      <td>LA SALTEÑA</td>\n      <td>400.0</td>\n      <td>77.00</td>\n      <td>Supermercado</td>\n      <td>Disco</td>\n      <td>gr</td>\n    </tr>\n    <tr>\n      <th>14200</th>\n      <td>Pastas</td>\n      <td>LA SALTEÑA</td>\n      <td>400.0</td>\n      <td>75.00</td>\n      <td>Supermercado</td>\n      <td>Disco</td>\n      <td>gr</td>\n    </tr>\n    <tr>\n      <th>14203</th>\n      <td>Arroz</td>\n      <td>GALLO</td>\n      <td>200.0</td>\n      <td>136.00</td>\n      <td>Hipermercado</td>\n      <td>Hipermercado Carrefour</td>\n      <td>gr</td>\n    </tr>\n  </tbody>\n</table>\n<p>1729 rows × 7 columns</p>\n</div>"
     },
     "execution_count": 70,
     "metadata": {},
     "output_type": "execute_result"
    }
   ],
   "source": [
    "precios_claros"
   ],
   "metadata": {
    "collapsed": false
   }
  },
  {
   "cell_type": "code",
   "execution_count": 71,
   "outputs": [
    {
     "name": "stdout",
     "output_type": "stream",
     "text": [
      "Cantidad de registros por cadena:\n"
     ]
    },
    {
     "data": {
      "text/plain": "Hipermercado Carrefour    1267\nDisco                      243\nSupermercados DIA          219\nName: cadena, dtype: int64"
     },
     "execution_count": 71,
     "metadata": {},
     "output_type": "execute_result"
    }
   ],
   "source": [
    "print(\"Cantidad de registros por cadena:\")\n",
    "precios_claros.cadena.value_counts()"
   ],
   "metadata": {
    "collapsed": false
   }
  },
  {
   "cell_type": "code",
   "execution_count": 72,
   "outputs": [],
   "source": [
    "dia = precios_claros[precios_claros.cadena == \"Supermercados DIA\"]\n",
    "disco = precios_claros[precios_claros.cadena == \"Disco\"]\n",
    "carrefour = precios_claros[precios_claros.cadena == \"Hipermercado Carrefour\"]"
   ],
   "metadata": {
    "collapsed": false
   }
  },
  {
   "cell_type": "code",
   "execution_count": 73,
   "outputs": [
    {
     "name": "stdout",
     "output_type": "stream",
     "text": [
      "La marca con mayor cantidad de registros en dia es LUCCHETTI, en carrefour tambien es LUCCHETTI y en disco es MATARAZZO.\n"
     ]
    }
   ],
   "source": [
    "print(f\"La marca con mayor cantidad de registros en dia es {dia.marca.mode()[0]}, en carrefour tambien es {carrefour.marca.mode()[0]} y en disco es {disco.marca.mode()[0]}.\")"
   ],
   "metadata": {
    "collapsed": false
   }
  },
  {
   "cell_type": "code",
   "execution_count": 74,
   "outputs": [
    {
     "name": "stdout",
     "output_type": "stream",
     "text": [
      "En dia hay mayor cantidad de productos pertenecientes a la categoria Agua, en carrefour a Pastas y en disco tambien a Pastas.\n"
     ]
    }
   ],
   "source": [
    "print(f\"En dia hay mayor cantidad de productos pertenecientes a la categoria {dia.categoria.mode()[0]}, en carrefour a {carrefour.categoria.mode()[0]} y en disco tambien a {disco.categoria.mode()[0]}.\")"
   ],
   "metadata": {
    "collapsed": false
   }
  },
  {
   "cell_type": "code",
   "execution_count": 75,
   "outputs": [
    {
     "name": "stdout",
     "output_type": "stream",
     "text": [
      "Los productos en dia en su mayoria pertenecen al tipo de cadena Supermercado, en carrefour a Hipermercado y en disco tambien a Supermercado.\n"
     ]
    }
   ],
   "source": [
    "print(f\"Los productos en dia en su mayoria pertenecen al tipo de cadena {dia.tipo_cadena.mode()[0]}, en carrefour a {carrefour.tipo_cadena.mode()[0]} y en disco tambien a {disco.tipo_cadena.mode()[0]}.\")"
   ],
   "metadata": {
    "collapsed": false
   }
  },
  {
   "cell_type": "markdown",
   "source": [
    "A continuacion se oserva los precios promedio por adena. Se puede ver que en la mayoria de categorias se cumple nuestra prediccion de que los precios son mas baratos en dia, seguidos de carrefour y ultimo por disco. Sin embargo, en la categoria agua dia es la cadena con promedio de precio mas elevado."
   ],
   "metadata": {
    "collapsed": false
   }
  },
  {
   "cell_type": "code",
   "execution_count": 76,
   "outputs": [
    {
     "data": {
      "text/plain": "categoria\nAgua       83.422903\nArroz      84.668125\nHarinas    71.890769\nLeche      42.463043\nPastas     76.044754\nName: precio, dtype: float64"
     },
     "execution_count": 76,
     "metadata": {},
     "output_type": "execute_result"
    }
   ],
   "source": [
    "dia.groupby(\"categoria\").precio.mean()"
   ],
   "metadata": {
    "collapsed": false
   }
  },
  {
   "cell_type": "code",
   "execution_count": 77,
   "outputs": [
    {
     "data": {
      "text/plain": "categoria\nAgua       78.850582\nArroz      94.694744\nHarinas    70.235460\nLeche      45.044565\nPastas     93.626199\nName: precio, dtype: float64"
     },
     "execution_count": 77,
     "metadata": {},
     "output_type": "execute_result"
    }
   ],
   "source": [
    "carrefour.groupby(\"categoria\").precio.mean()"
   ],
   "metadata": {
    "collapsed": false
   }
  },
  {
   "cell_type": "code",
   "execution_count": 78,
   "outputs": [
    {
     "data": {
      "text/plain": "categoria\nAgua        80.025062\nArroz      102.785714\nHarinas     75.071333\nLeche       58.875000\nPastas      93.470909\nName: precio, dtype: float64"
     },
     "execution_count": 78,
     "metadata": {},
     "output_type": "execute_result"
    }
   ],
   "source": [
    "disco.groupby(\"categoria\").precio.mean()"
   ],
   "metadata": {
    "collapsed": false
   }
  },
  {
   "cell_type": "code",
   "execution_count": 79,
   "outputs": [
    {
     "name": "stdout",
     "output_type": "stream",
     "text": [
      "Como se puede ver, Agua es la categoria con mayor cantidad de marcas, y carreforu la caadena con mayor variedad de marcas de la canasta basica\n"
     ]
    },
    {
     "data": {
      "text/plain": "<Figure size 1400x500 with 2 Axes>",
      "image/png": "[encoded data removed]"
     },
     "metadata": {},
     "output_type": "display_data"
    }
   ],
   "source": [
    "import matplotlib.pyplot as plt\n",
    "fig, axs = plt.subplots(1, 2, figsize=(14,5), constrained_layout = True)\n",
    "\n",
    "por_categoria = (precios_claros.groupby('categoria').marca.nunique()).sort_values().reset_index()\n",
    "por_cadena = (precios_claros.groupby('cadena').marca.nunique()).sort_values().reset_index()\n",
    "\n",
    "axs[0].barh(por_categoria.categoria , por_categoria.marca, label= \"marcas\", color = \"purple\")\n",
    "axs[0].set_title('Cantidad de marcas por categoria')\n",
    "axs[0].legend()\n",
    "# Second subplot\n",
    "axs[1].barh(por_cadena.cadena, por_cadena.marca, label= \"marcas\", color = \"green\")\n",
    "axs[1].set_title(\"Marcas por cadena\")\n",
    "axs[1].legend()\n",
    "# Global figure methods\n",
    "plt.suptitle('Distribcion de marcas')\n",
    "print(f\"Como se puede ver, Agua es la categoria con mayor cantidad de marcas, y carreforu la caadena con mayor variedad de marcas de la canasta basica\")\n",
    "plt.show()\n"
   ],
   "metadata": {
    "collapsed": false
   }
  },
  {
   "cell_type": "markdown",
   "source": [
    "## 4 -  ESCALADO\n",
    "\n",
    "Aplicamos el escalado a las variables con el objetivo de estandarizarlas, es decir, de ponerlas en el mismo rango de valores para que sean comparables entre si."
   ],
   "metadata": {
    "collapsed": false
   }
  },
  {
   "cell_type": "code",
   "execution_count": 80,
   "outputs": [
    {
     "data": {
      "text/plain": "categoria               object\nmarca                   object\npresentacion           float64\nprecio                 float64\ntipo_cadena             object\ncadena                  object\nunidad_presentacion     object\ndtype: object"
     },
     "execution_count": 80,
     "metadata": {},
     "output_type": "execute_result"
    }
   ],
   "source": [
    "precios_claros.dtypes"
   ],
   "metadata": {
    "collapsed": false
   }
  },
  {
   "cell_type": "code",
   "execution_count": 81,
   "outputs": [
    {
     "name": "stdout",
     "output_type": "stream",
     "text": [
      "Hacer un escalado a la variables: \n",
      "\t- presentacion\n",
      "\t- precio\n"
     ]
    }
   ],
   "source": [
    "numericas = precios_claros.select_dtypes(exclude=['object']).columns\n",
    "\n",
    "print(\"Hacer un escalado a la variables: \")\n",
    "for variable in numericas:\n",
    "    print(f\"\\t- {variable}\")"
   ],
   "metadata": {
    "collapsed": false
   }
  },
  {
   "cell_type": "markdown",
   "source": [
    "Variable `presentacion`\n",
    "\n",
    "Como se ve en los graficos, esta variable no tiene una distribucion normaly esto se da porque los productos estan en diferentes unidades de medida. Por ello, previo a escalar la variable, podemos pasar los cc a lt y los gr a kg."
   ],
   "metadata": {
    "collapsed": false
   }
  },
  {
   "cell_type": "code",
   "execution_count": 82,
   "outputs": [
    {
     "data": {
      "text/plain": "<AxesSubplot: title={'center': 'Boxplot depresentacion'}, xlabel='presentacion'>"
     },
     "execution_count": 82,
     "metadata": {},
     "output_type": "execute_result"
    },
    {
     "data": {
      "text/plain": "<Figure size 1400x500 with 2 Axes>",
      "image/png": "[encoded data removed]"
     },
     "metadata": {},
     "output_type": "display_data"
    }
   ],
   "source": [
    "variable = 'presentacion'\n",
    "\n",
    "fig, ax = plt.subplots(1,2,figsize=(14,5))\n",
    "\n",
    "ax[0].set_title(f\"Distribucion de {variable}\")\n",
    "sns.histplot(data = precios_claros, x = f\"{variable}\", kde=True, ax = ax[0])\n",
    "\n",
    "ax[1].set_title(f\"Boxplot de{variable}\")\n",
    "\n",
    "sns.boxplot(data = precios_claros, x = f\"{variable}\", ax=ax[1])"
   ],
   "metadata": {
    "collapsed": false
   }
  },
  {
   "cell_type": "code",
   "execution_count": 83,
   "outputs": [
    {
     "data": {
      "text/plain": "count    1729.00\nmean      310.05\nstd       238.63\nmin         1.00\n25%         1.50\n50%       500.00\n75%       500.00\nmax       750.00\nName: presentacion, dtype: float64"
     },
     "execution_count": 83,
     "metadata": {},
     "output_type": "execute_result"
    }
   ],
   "source": [
    "precios_claros.presentacion.describe().round(2)"
   ],
   "metadata": {
    "collapsed": false
   }
  },
  {
   "cell_type": "markdown",
   "source": [
    "Como 1 litro equivale a 1000 centimetros cubicos y 1 kilo gramo equivale a 1000 gramos, dividimos la presentacion de aquellos productos que esten medidos en cc y gr por 1000 y cambiamos su unidad de medida."
   ],
   "metadata": {
    "collapsed": false
   }
  },
  {
   "cell_type": "code",
   "execution_count": 84,
   "outputs": [],
   "source": [
    "precios_claros.loc[precios_claros['unidad_presentacion'] == \"cc\", 'presentacion'] = precios_claros.presentacion / 1000\n",
    "precios_claros['unidad_presentacion'] = precios_claros['unidad_presentacion'].str.replace(\"cc\", \"lt\", regex = False)"
   ],
   "metadata": {
    "collapsed": false
   }
  },
  {
   "cell_type": "code",
   "execution_count": 85,
   "outputs": [],
   "source": [
    "precios_claros.loc[precios_claros['unidad_presentacion'] == \"gr\", 'presentacion'] = precios_claros.presentacion / 1000\n",
    "precios_claros['unidad_presentacion'] = precios_claros['unidad_presentacion'].str.replace(\"gr\", \"kg\", regex = False)"
   ],
   "metadata": {
    "collapsed": false
   }
  },
  {
   "cell_type": "markdown",
   "source": [
    "Vemos que ahora las unicas unidades de medida son litros y kg."
   ],
   "metadata": {
    "collapsed": false
   }
  },
  {
   "cell_type": "code",
   "execution_count": 86,
   "outputs": [
    {
     "data": {
      "text/plain": "kg    1203\nlt     526\nName: unidad_presentacion, dtype: int64"
     },
     "execution_count": 86,
     "metadata": {},
     "output_type": "execute_result"
    }
   ],
   "source": [
    "precios_claros.unidad_presentacion.value_counts(dropna = False)"
   ],
   "metadata": {
    "collapsed": false
   }
  },
  {
   "cell_type": "code",
   "execution_count": 87,
   "outputs": [
    {
     "data": {
      "text/plain": "<AxesSubplot: title={'center': 'Boxplot depresentacion'}, xlabel='presentacion'>"
     },
     "execution_count": 87,
     "metadata": {},
     "output_type": "execute_result"
    },
    {
     "data": {
      "text/plain": "<Figure size 1400x500 with 2 Axes>",
      "image/png": "[encoded data removed]"
     },
     "metadata": {},
     "output_type": "display_data"
    }
   ],
   "source": [
    "variable = 'presentacion'\n",
    "\n",
    "fig, ax = plt.subplots(1,2,figsize=(14,5))\n",
    "\n",
    "ax[0].set_title(f\"Distribucion de {variable}\")\n",
    "sns.histplot(data = precios_claros, x = f\"{variable}\", kde=True, ax = ax[0])\n",
    "\n",
    "ax[1].set_title(f\"Boxplot de{variable}\")\n",
    "\n",
    "sns.boxplot(data = precios_claros, x = f\"{variable}\", ax=ax[1])"
   ],
   "metadata": {
    "collapsed": false
   }
  },
  {
   "cell_type": "markdown",
   "source": [
    "En esta instancia se puede ver nuevamente que los que parece ser malas imputaciones es porque el producto es de mayor presentacion."
   ],
   "metadata": {
    "collapsed": false
   }
  },
  {
   "cell_type": "code",
   "execution_count": 88,
   "outputs": [
    {
     "data": {
      "text/plain": "     categoria          marca  presentacion  precio   tipo_cadena  \\\n880       Agua            KIN          6.00  125.00  Hipermercado   \n886       Agua            KIN          6.00  121.49  Autoservicio   \n887       Agua            KIN          6.00  123.39  Autoservicio   \n888       Agua            KIN          6.00   93.00  Supermercado   \n891       Agua            KIN          6.00  125.00  Supermercado   \n...        ...            ...           ...     ...           ...   \n1345      Agua  VILLA DEL SUR          6.25  175.00  Hipermercado   \n1384      Agua  VILLA DEL SUR          6.25  197.99  Supermercado   \n1385      Agua  VILLA DEL SUR          6.25  198.99  Autoservicio   \n1386      Agua  VILLA DEL SUR          6.25  175.00  Autoservicio   \n1423      Agua  VILLA DEL SUR          6.25  187.00  Supermercado   \n\n                      cadena unidad_presentacion  \n880   Hipermercado Carrefour                  lt  \n886        Supermercados DIA                  lt  \n887        Supermercados DIA                  lt  \n888        Supermercados DIA                  lt  \n891                    Disco                  lt  \n...                      ...                 ...  \n1345  Hipermercado Carrefour                  lt  \n1384       Supermercados DIA                  lt  \n1385       Supermercados DIA                  lt  \n1386       Supermercados DIA                  lt  \n1423                   Disco                  lt  \n\n[84 rows x 7 columns]",
      "text/html": "<div>\n<style scoped>\n    .dataframe tbody tr th:only-of-type {\n        vertical-align: middle;\n    }\n\n    .dataframe tbody tr th {\n        vertical-align: top;\n    }\n\n    .dataframe thead th {\n        text-align: right;\n    }\n</style>\n<table border=\"1\" class=\"dataframe\">\n  <thead>\n    <tr style=\"text-align: right;\">\n      <th></th>\n      <th>categoria</th>\n      <th>marca</th>\n      <th>presentacion</th>\n      <th>precio</th>\n      <th>tipo_cadena</th>\n      <th>cadena</th>\n      <th>unidad_presentacion</th>\n    </tr>\n  </thead>\n  <tbody>\n    <tr>\n      <th>880</th>\n      <td>Agua</td>\n      <td>KIN</td>\n      <td>6.00</td>\n      <td>125.00</td>\n      <td>Hipermercado</td>\n      <td>Hipermercado Carrefour</td>\n      <td>lt</td>\n    </tr>\n    <tr>\n      <th>886</th>\n      <td>Agua</td>\n      <td>KIN</td>\n      <td>6.00</td>\n      <td>121.49</td>\n      <td>Autoservicio</td>\n      <td>Supermercados DIA</td>\n      <td>lt</td>\n    </tr>\n    <tr>\n      <th>887</th>\n      <td>Agua</td>\n      <td>KIN</td>\n      <td>6.00</td>\n      <td>123.39</td>\n      <td>Autoservicio</td>\n      <td>Supermercados DIA</td>\n      <td>lt</td>\n    </tr>\n    <tr>\n      <th>888</th>\n      <td>Agua</td>\n      <td>KIN</td>\n      <td>6.00</td>\n      <td>93.00</td>\n      <td>Supermercado</td>\n      <td>Supermercados DIA</td>\n      <td>lt</td>\n    </tr>\n    <tr>\n      <th>891</th>\n      <td>Agua</td>\n      <td>KIN</td>\n      <td>6.00</td>\n      <td>125.00</td>\n      <td>Supermercado</td>\n      <td>Disco</td>\n      <td>lt</td>\n    </tr>\n    <tr>\n      <th>...</th>\n      <td>...</td>\n      <td>...</td>\n      <td>...</td>\n      <td>...</td>\n      <td>...</td>\n      <td>...</td>\n      <td>...</td>\n    </tr>\n    <tr>\n      <th>1345</th>\n      <td>Agua</td>\n      <td>VILLA DEL SUR</td>\n      <td>6.25</td>\n      <td>175.00</td>\n      <td>Hipermercado</td>\n      <td>Hipermercado Carrefour</td>\n      <td>lt</td>\n    </tr>\n    <tr>\n      <th>1384</th>\n      <td>Agua</td>\n      <td>VILLA DEL SUR</td>\n      <td>6.25</td>\n      <td>197.99</td>\n      <td>Supermercado</td>\n      <td>Supermercados DIA</td>\n      <td>lt</td>\n    </tr>\n    <tr>\n      <th>1385</th>\n      <td>Agua</td>\n      <td>VILLA DEL SUR</td>\n      <td>6.25</td>\n      <td>198.99</td>\n      <td>Autoservicio</td>\n      <td>Supermercados DIA</td>\n      <td>lt</td>\n    </tr>\n    <tr>\n      <th>1386</th>\n      <td>Agua</td>\n      <td>VILLA DEL SUR</td>\n      <td>6.25</td>\n      <td>175.00</td>\n      <td>Autoservicio</td>\n      <td>Supermercados DIA</td>\n      <td>lt</td>\n    </tr>\n    <tr>\n      <th>1423</th>\n      <td>Agua</td>\n      <td>VILLA DEL SUR</td>\n      <td>6.25</td>\n      <td>187.00</td>\n      <td>Supermercado</td>\n      <td>Disco</td>\n      <td>lt</td>\n    </tr>\n  </tbody>\n</table>\n<p>84 rows × 7 columns</p>\n</div>"
     },
     "execution_count": 88,
     "metadata": {},
     "output_type": "execute_result"
    }
   ],
   "source": [
    "precios_claros[precios_claros.presentacion > 3]"
   ],
   "metadata": {
    "collapsed": false
   }
  },
  {
   "cell_type": "markdown",
   "source": [
    "Ahora si le podemos aplicar el escalador."
   ],
   "metadata": {
    "collapsed": false
   }
  },
  {
   "cell_type": "code",
   "execution_count": 89,
   "outputs": [
    {
     "name": "stdout",
     "output_type": "stream",
     "text": [
      "Como los datos en presentacion tienen outliers, imputamos el RobustScaler, que escala los valores restandole la mediana y dividiendolo por el rango intercuartil\n"
     ]
    },
    {
     "data": {
      "text/plain": "  categoria          marca  presentacion  precio   tipo_cadena  \\\n0      Agua  VILLAVICENCIO           2.0    70.0  Hipermercado   \n1      Agua  VILLAVICENCIO           2.0    85.0  Supermercado   \n2      Agua  VILLAVICENCIO           2.0    69.0  Supermercado   \n3      Agua  VILLAVICENCIO           2.0    75.5  Hipermercado   \n4      Agua  VILLAVICENCIO           2.0    73.0  Hipermercado   \n\n                   cadena unidad_presentacion  \n0  Hipermercado Carrefour                  lt  \n1  Hipermercado Carrefour                  lt  \n2  Hipermercado Carrefour                  lt  \n3  Hipermercado Carrefour                  lt  \n4  Hipermercado Carrefour                  lt  ",
      "text/html": "<div>\n<style scoped>\n    .dataframe tbody tr th:only-of-type {\n        vertical-align: middle;\n    }\n\n    .dataframe tbody tr th {\n        vertical-align: top;\n    }\n\n    .dataframe thead th {\n        text-align: right;\n    }\n</style>\n<table border=\"1\" class=\"dataframe\">\n  <thead>\n    <tr style=\"text-align: right;\">\n      <th></th>\n      <th>categoria</th>\n      <th>marca</th>\n      <th>presentacion</th>\n      <th>precio</th>\n      <th>tipo_cadena</th>\n      <th>cadena</th>\n      <th>unidad_presentacion</th>\n    </tr>\n  </thead>\n  <tbody>\n    <tr>\n      <th>0</th>\n      <td>Agua</td>\n      <td>VILLAVICENCIO</td>\n      <td>2.0</td>\n      <td>70.0</td>\n      <td>Hipermercado</td>\n      <td>Hipermercado Carrefour</td>\n      <td>lt</td>\n    </tr>\n    <tr>\n      <th>1</th>\n      <td>Agua</td>\n      <td>VILLAVICENCIO</td>\n      <td>2.0</td>\n      <td>85.0</td>\n      <td>Supermercado</td>\n      <td>Hipermercado Carrefour</td>\n      <td>lt</td>\n    </tr>\n    <tr>\n      <th>2</th>\n      <td>Agua</td>\n      <td>VILLAVICENCIO</td>\n      <td>2.0</td>\n      <td>69.0</td>\n      <td>Supermercado</td>\n      <td>Hipermercado Carrefour</td>\n      <td>lt</td>\n    </tr>\n    <tr>\n      <th>3</th>\n      <td>Agua</td>\n      <td>VILLAVICENCIO</td>\n      <td>2.0</td>\n      <td>75.5</td>\n      <td>Hipermercado</td>\n      <td>Hipermercado Carrefour</td>\n      <td>lt</td>\n    </tr>\n    <tr>\n      <th>4</th>\n      <td>Agua</td>\n      <td>VILLAVICENCIO</td>\n      <td>2.0</td>\n      <td>73.0</td>\n      <td>Hipermercado</td>\n      <td>Hipermercado Carrefour</td>\n      <td>lt</td>\n    </tr>\n  </tbody>\n</table>\n</div>"
     },
     "execution_count": 89,
     "metadata": {},
     "output_type": "execute_result"
    }
   ],
   "source": [
    "from sklearn.preprocessing import RobustScaler\n",
    "\n",
    "escalador = RobustScaler()\n",
    "\n",
    "variable = 'presentacion'\n",
    "\n",
    "precios_claros[[variable]] = escalador.fit_transform(precios_claros[[variable]])\n",
    "\n",
    "print(f\"Como los datos en {variable} tienen outliers, imputamos el RobustScaler, que escala los valores restandole la mediana y dividiendolo por el rango intercuartil\")\n",
    "\n",
    "precios_claros.head()"
   ],
   "metadata": {
    "collapsed": false
   }
  },
  {
   "cell_type": "markdown",
   "source": [
    "Variable `precio`\n",
    "\n",
    "Al igual que en el caso anterior, aplicaremos el robust scaler."
   ],
   "metadata": {
    "collapsed": false
   }
  },
  {
   "cell_type": "code",
   "execution_count": 90,
   "outputs": [
    {
     "data": {
      "text/plain": "<AxesSubplot: title={'center': 'Boxplot deprecio'}, xlabel='precio'>"
     },
     "execution_count": 90,
     "metadata": {},
     "output_type": "execute_result"
    },
    {
     "data": {
      "text/plain": "<Figure size 1400x500 with 2 Axes>",
      "image/png": "[encoded data removed]"
     },
     "metadata": {},
     "output_type": "display_data"
    }
   ],
   "source": [
    "variable = 'precio'\n",
    "\n",
    "fig, ax = plt.subplots(1,2,figsize=(14,5))\n",
    "\n",
    "ax[0].set_title(f\"Distribucion de {variable}\")\n",
    "sns.histplot(data = precios_claros, x = f\"{variable}\", kde=True, ax = ax[0])\n",
    "\n",
    "ax[1].set_title(f\"Boxplot de{variable}\")\n",
    "\n",
    "sns.boxplot(data = precios_claros, x = f\"{variable}\", ax=ax[1])"
   ],
   "metadata": {
    "collapsed": false
   }
  },
  {
   "cell_type": "code",
   "execution_count": 91,
   "outputs": [
    {
     "name": "stdout",
     "output_type": "stream",
     "text": [
      "Como los datos en precio tienen outliers, imputamos el RobustScaler, que escala los valores restandole la mediana y dividiendolo por el rango intercuartil\n"
     ]
    },
    {
     "data": {
      "text/plain": "  categoria          marca  presentacion    precio   tipo_cadena  \\\n0      Agua  VILLAVICENCIO           2.0 -0.026846  Hipermercado   \n1      Agua  VILLAVICENCIO           2.0  0.375839  Supermercado   \n2      Agua  VILLAVICENCIO           2.0 -0.053691  Supermercado   \n3      Agua  VILLAVICENCIO           2.0  0.120805  Hipermercado   \n4      Agua  VILLAVICENCIO           2.0  0.053691  Hipermercado   \n\n                   cadena unidad_presentacion  \n0  Hipermercado Carrefour                  lt  \n1  Hipermercado Carrefour                  lt  \n2  Hipermercado Carrefour                  lt  \n3  Hipermercado Carrefour                  lt  \n4  Hipermercado Carrefour                  lt  ",
      "text/html": "<div>\n<style scoped>\n    .dataframe tbody tr th:only-of-type {\n        vertical-align: middle;\n    }\n\n    .dataframe tbody tr th {\n        vertical-align: top;\n    }\n\n    .dataframe thead th {\n        text-align: right;\n    }\n</style>\n<table border=\"1\" class=\"dataframe\">\n  <thead>\n    <tr style=\"text-align: right;\">\n      <th></th>\n      <th>categoria</th>\n      <th>marca</th>\n      <th>presentacion</th>\n      <th>precio</th>\n      <th>tipo_cadena</th>\n      <th>cadena</th>\n      <th>unidad_presentacion</th>\n    </tr>\n  </thead>\n  <tbody>\n    <tr>\n      <th>0</th>\n      <td>Agua</td>\n      <td>VILLAVICENCIO</td>\n      <td>2.0</td>\n      <td>-0.026846</td>\n      <td>Hipermercado</td>\n      <td>Hipermercado Carrefour</td>\n      <td>lt</td>\n    </tr>\n    <tr>\n      <th>1</th>\n      <td>Agua</td>\n      <td>VILLAVICENCIO</td>\n      <td>2.0</td>\n      <td>0.375839</td>\n      <td>Supermercado</td>\n      <td>Hipermercado Carrefour</td>\n      <td>lt</td>\n    </tr>\n    <tr>\n      <th>2</th>\n      <td>Agua</td>\n      <td>VILLAVICENCIO</td>\n      <td>2.0</td>\n      <td>-0.053691</td>\n      <td>Supermercado</td>\n      <td>Hipermercado Carrefour</td>\n      <td>lt</td>\n    </tr>\n    <tr>\n      <th>3</th>\n      <td>Agua</td>\n      <td>VILLAVICENCIO</td>\n      <td>2.0</td>\n      <td>0.120805</td>\n      <td>Hipermercado</td>\n      <td>Hipermercado Carrefour</td>\n      <td>lt</td>\n    </tr>\n    <tr>\n      <th>4</th>\n      <td>Agua</td>\n      <td>VILLAVICENCIO</td>\n      <td>2.0</td>\n      <td>0.053691</td>\n      <td>Hipermercado</td>\n      <td>Hipermercado Carrefour</td>\n      <td>lt</td>\n    </tr>\n  </tbody>\n</table>\n</div>"
     },
     "execution_count": 91,
     "metadata": {},
     "output_type": "execute_result"
    }
   ],
   "source": [
    "from sklearn.preprocessing import RobustScaler\n",
    "\n",
    "escalador = RobustScaler()\n",
    "\n",
    "variable = 'precio'\n",
    "\n",
    "precios_claros[[variable]] = escalador.fit_transform(precios_claros[[variable]])\n",
    "\n",
    "print(f\"Como los datos en {variable} tienen outliers, imputamos el RobustScaler, que escala los valores restandole la mediana y dividiendolo por el rango intercuartil\")\n",
    "\n",
    "precios_claros.head()"
   ],
   "metadata": {
    "collapsed": false
   }
  },
  {
   "cell_type": "markdown",
   "source": [
    "## 5 -  ENCODING - Variables Categoricas"
   ],
   "metadata": {
    "collapsed": false
   }
  },
  {
   "cell_type": "code",
   "execution_count": 92,
   "outputs": [
    {
     "name": "stdout",
     "output_type": "stream",
     "text": [
      "Hacer un encoding a la variables: \n",
      "\t- categoria: ['Agua' 'Arroz' 'Harinas' 'Leche' 'Pastas']\n",
      "\t- marca: ['VILLAVICENCIO' 'SER' 'BONAQUA' 'ECO DE LOS ANDES' 'KIN' 'NESTLÉ'\n",
      " 'VILLA DEL SUR' 'GLACIAR' 'GALLO' 'MOLINOS ALA' 'LUCCHETTI' 'MAIZENA'\n",
      " 'PUREZA' 'CAÑUELAS' 'FAVORITA' 'QUAKER' 'ARCOR' 'LA SERENÍSIMA' 'ARMONÍA'\n",
      " 'GIACOMO' 'DON VICENTE' 'MATARAZZO' 'KNORR' 'LA SALTEÑA']\n",
      "\t- tipo_cadena: ['Hipermercado' 'Supermercado' 'Autoservicio']\n",
      "\t- cadena: ['Hipermercado Carrefour' 'Supermercados DIA' 'Disco']\n",
      "\t- unidad_presentacion: ['lt' 'kg']\n"
     ]
    }
   ],
   "source": [
    "categoricas = precios_claros.select_dtypes(exclude=['float', 'integer']).columns\n",
    "print(\"Hacer un encoding a la variables: \")\n",
    "for variable in categoricas:\n",
    "    print(f\"\\t- {variable}: {precios_claros[variable].unique()}\")"
   ],
   "metadata": {
    "collapsed": false
   }
  },
  {
   "cell_type": "code",
   "execution_count": 93,
   "outputs": [
    {
     "data": {
      "text/plain": "[array(['Agua', 'Arroz', 'Harinas', 'Leche', 'Pastas'], dtype=object)]"
     },
     "metadata": {},
     "output_type": "display_data"
    },
    {
     "data": {
      "text/plain": "array(['categoria_Agua', 'categoria_Arroz', 'categoria_Harinas',\n       'categoria_Leche', 'categoria_Pastas'], dtype=object)"
     },
     "metadata": {},
     "output_type": "display_data"
    },
    {
     "name": "stdout",
     "output_type": "stream",
     "text": [
      "Como categoria es una variable multicategorica, creo una columna binaria para cada categoria\n"
     ]
    },
    {
     "data": {
      "text/plain": "           marca  presentacion    precio   tipo_cadena  \\\n0  VILLAVICENCIO           2.0 -0.026846  Hipermercado   \n1  VILLAVICENCIO           2.0  0.375839  Supermercado   \n2  VILLAVICENCIO           2.0 -0.053691  Supermercado   \n3  VILLAVICENCIO           2.0  0.120805  Hipermercado   \n4  VILLAVICENCIO           2.0  0.053691  Hipermercado   \n\n                   cadena unidad_presentacion  categoria_Agua  \\\n0  Hipermercado Carrefour                  lt             1.0   \n1  Hipermercado Carrefour                  lt             1.0   \n2  Hipermercado Carrefour                  lt             1.0   \n3  Hipermercado Carrefour                  lt             1.0   \n4  Hipermercado Carrefour                  lt             1.0   \n\n   categoria_Arroz  categoria_Harinas  categoria_Leche  categoria_Pastas  \n0              0.0                0.0              0.0               0.0  \n1              0.0                0.0              0.0               0.0  \n2              0.0                0.0              0.0               0.0  \n3              0.0                0.0              0.0               0.0  \n4              0.0                0.0              0.0               0.0  ",
      "text/html": "<div>\n<style scoped>\n    .dataframe tbody tr th:only-of-type {\n        vertical-align: middle;\n    }\n\n    .dataframe tbody tr th {\n        vertical-align: top;\n    }\n\n    .dataframe thead th {\n        text-align: right;\n    }\n</style>\n<table border=\"1\" class=\"dataframe\">\n  <thead>\n    <tr style=\"text-align: right;\">\n      <th></th>\n      <th>marca</th>\n      <th>presentacion</th>\n      <th>precio</th>\n      <th>tipo_cadena</th>\n      <th>cadena</th>\n      <th>unidad_presentacion</th>\n      <th>categoria_Agua</th>\n      <th>categoria_Arroz</th>\n      <th>categoria_Harinas</th>\n      <th>categoria_Leche</th>\n      <th>categoria_Pastas</th>\n    </tr>\n  </thead>\n  <tbody>\n    <tr>\n      <th>0</th>\n      <td>VILLAVICENCIO</td>\n      <td>2.0</td>\n      <td>-0.026846</td>\n      <td>Hipermercado</td>\n      <td>Hipermercado Carrefour</td>\n      <td>lt</td>\n      <td>1.0</td>\n      <td>0.0</td>\n      <td>0.0</td>\n      <td>0.0</td>\n      <td>0.0</td>\n    </tr>\n    <tr>\n      <th>1</th>\n      <td>VILLAVICENCIO</td>\n      <td>2.0</td>\n      <td>0.375839</td>\n      <td>Supermercado</td>\n      <td>Hipermercado Carrefour</td>\n      <td>lt</td>\n      <td>1.0</td>\n      <td>0.0</td>\n      <td>0.0</td>\n      <td>0.0</td>\n      <td>0.0</td>\n    </tr>\n    <tr>\n      <th>2</th>\n      <td>VILLAVICENCIO</td>\n      <td>2.0</td>\n      <td>-0.053691</td>\n      <td>Supermercado</td>\n      <td>Hipermercado Carrefour</td>\n      <td>lt</td>\n      <td>1.0</td>\n      <td>0.0</td>\n      <td>0.0</td>\n      <td>0.0</td>\n      <td>0.0</td>\n    </tr>\n    <tr>\n      <th>3</th>\n      <td>VILLAVICENCIO</td>\n      <td>2.0</td>\n      <td>0.120805</td>\n      <td>Hipermercado</td>\n      <td>Hipermercado Carrefour</td>\n      <td>lt</td>\n      <td>1.0</td>\n      <td>0.0</td>\n      <td>0.0</td>\n      <td>0.0</td>\n      <td>0.0</td>\n    </tr>\n    <tr>\n      <th>4</th>\n      <td>VILLAVICENCIO</td>\n      <td>2.0</td>\n      <td>0.053691</td>\n      <td>Hipermercado</td>\n      <td>Hipermercado Carrefour</td>\n      <td>lt</td>\n      <td>1.0</td>\n      <td>0.0</td>\n      <td>0.0</td>\n      <td>0.0</td>\n      <td>0.0</td>\n    </tr>\n  </tbody>\n</table>\n</div>"
     },
     "execution_count": 93,
     "metadata": {},
     "output_type": "execute_result"
    }
   ],
   "source": [
    "from sklearn.preprocessing import OneHotEncoder\n",
    "\n",
    "ohe = OneHotEncoder(sparse=False)\n",
    "\n",
    "df = precios_claros\n",
    "variable = 'categoria'\n",
    "\n",
    "ohe.fit(df[[variable]])\n",
    "\n",
    "display(ohe.categories_)\n",
    "\n",
    "display(ohe.get_feature_names_out())\n",
    "\n",
    "variable_encoded = ohe.transform(df[[variable]])\n",
    "\n",
    "df[ohe.get_feature_names_out()] = variable_encoded\n",
    "\n",
    "df.drop(columns = variable, inplace = True)\n",
    "\n",
    "print(f\"Como {variable} es una variable multicategorica, creo una columna binaria para cada categoria\")\n",
    "\n",
    "df.head()"
   ],
   "metadata": {
    "collapsed": false
   }
  },
  {
   "cell_type": "code",
   "execution_count": 94,
   "outputs": [
    {
     "data": {
      "text/plain": "[array(['ARCOR', 'ARMONÍA', 'BONAQUA', 'CAÑUELAS', 'DON VICENTE',\n        'ECO DE LOS ANDES', 'FAVORITA', 'GALLO', 'GIACOMO', 'GLACIAR',\n        'KIN', 'KNORR', 'LA SALTEÑA', 'LA SERENÍSIMA', 'LUCCHETTI',\n        'MAIZENA', 'MATARAZZO', 'MOLINOS ALA', 'NESTLÉ', 'PUREZA',\n        'QUAKER', 'SER', 'VILLA DEL SUR', 'VILLAVICENCIO'], dtype=object)]"
     },
     "metadata": {},
     "output_type": "display_data"
    },
    {
     "data": {
      "text/plain": "array(['marca_ARCOR', 'marca_ARMONÍA', 'marca_BONAQUA', 'marca_CAÑUELAS',\n       'marca_DON VICENTE', 'marca_ECO DE LOS ANDES', 'marca_FAVORITA',\n       'marca_GALLO', 'marca_GIACOMO', 'marca_GLACIAR', 'marca_KIN',\n       'marca_KNORR', 'marca_LA SALTEÑA', 'marca_LA SERENÍSIMA',\n       'marca_LUCCHETTI', 'marca_MAIZENA', 'marca_MATARAZZO',\n       'marca_MOLINOS ALA', 'marca_NESTLÉ', 'marca_PUREZA',\n       'marca_QUAKER', 'marca_SER', 'marca_VILLA DEL SUR',\n       'marca_VILLAVICENCIO'], dtype=object)"
     },
     "metadata": {},
     "output_type": "display_data"
    },
    {
     "name": "stdout",
     "output_type": "stream",
     "text": [
      "Como marca es una variable multicategorica, creo una columna binaria para cada categoria\n"
     ]
    },
    {
     "data": {
      "text/plain": "   presentacion    precio   tipo_cadena                  cadena  \\\n0           2.0 -0.026846  Hipermercado  Hipermercado Carrefour   \n1           2.0  0.375839  Supermercado  Hipermercado Carrefour   \n2           2.0 -0.053691  Supermercado  Hipermercado Carrefour   \n3           2.0  0.120805  Hipermercado  Hipermercado Carrefour   \n4           2.0  0.053691  Hipermercado  Hipermercado Carrefour   \n\n  unidad_presentacion  categoria_Agua  categoria_Arroz  categoria_Harinas  \\\n0                  lt             1.0              0.0                0.0   \n1                  lt             1.0              0.0                0.0   \n2                  lt             1.0              0.0                0.0   \n3                  lt             1.0              0.0                0.0   \n4                  lt             1.0              0.0                0.0   \n\n   categoria_Leche  categoria_Pastas  ...  marca_LUCCHETTI  marca_MAIZENA  \\\n0              0.0               0.0  ...              0.0            0.0   \n1              0.0               0.0  ...              0.0            0.0   \n2              0.0               0.0  ...              0.0            0.0   \n3              0.0               0.0  ...              0.0            0.0   \n4              0.0               0.0  ...              0.0            0.0   \n\n   marca_MATARAZZO  marca_MOLINOS ALA  marca_NESTLÉ  marca_PUREZA  \\\n0              0.0                0.0           0.0           0.0   \n1              0.0                0.0           0.0           0.0   \n2              0.0                0.0           0.0           0.0   \n3              0.0                0.0           0.0           0.0   \n4              0.0                0.0           0.0           0.0   \n\n   marca_QUAKER  marca_SER  marca_VILLA DEL SUR  marca_VILLAVICENCIO  \n0           0.0        0.0                  0.0                  1.0  \n1           0.0        0.0                  0.0                  1.0  \n2           0.0        0.0                  0.0                  1.0  \n3           0.0        0.0                  0.0                  1.0  \n4           0.0        0.0                  0.0                  1.0  \n\n[5 rows x 34 columns]",
      "text/html": "<div>\n<style scoped>\n    .dataframe tbody tr th:only-of-type {\n        vertical-align: middle;\n    }\n\n    .dataframe tbody tr th {\n        vertical-align: top;\n    }\n\n    .dataframe thead th {\n        text-align: right;\n    }\n</style>\n<table border=\"1\" class=\"dataframe\">\n  <thead>\n    <tr style=\"text-align: right;\">\n      <th></th>\n      <th>presentacion</th>\n      <th>precio</th>\n      <th>tipo_cadena</th>\n      <th>cadena</th>\n      <th>unidad_presentacion</th>\n      <th>categoria_Agua</th>\n      <th>categoria_Arroz</th>\n      <th>categoria_Harinas</th>\n      <th>categoria_Leche</th>\n      <th>categoria_Pastas</th>\n      <th>...</th>\n      <th>marca_LUCCHETTI</th>\n      <th>marca_MAIZENA</th>\n      <th>marca_MATARAZZO</th>\n      <th>marca_MOLINOS ALA</th>\n      <th>marca_NESTLÉ</th>\n      <th>marca_PUREZA</th>\n      <th>marca_QUAKER</th>\n      <th>marca_SER</th>\n      <th>marca_VILLA DEL SUR</th>\n      <th>marca_VILLAVICENCIO</th>\n    </tr>\n  </thead>\n  <tbody>\n    <tr>\n      <th>0</th>\n      <td>2.0</td>\n      <td>-0.026846</td>\n      <td>Hipermercado</td>\n      <td>Hipermercado Carrefour</td>\n      <td>lt</td>\n      <td>1.0</td>\n      <td>0.0</td>\n      <td>0.0</td>\n      <td>0.0</td>\n      <td>0.0</td>\n      <td>...</td>\n      <td>0.0</td>\n      <td>0.0</td>\n      <td>0.0</td>\n      <td>0.0</td>\n      <td>0.0</td>\n      <td>0.0</td>\n      <td>0.0</td>\n      <td>0.0</td>\n      <td>0.0</td>\n      <td>1.0</td>\n    </tr>\n    <tr>\n      <th>1</th>\n      <td>2.0</td>\n      <td>0.375839</td>\n      <td>Supermercado</td>\n      <td>Hipermercado Carrefour</td>\n      <td>lt</td>\n      <td>1.0</td>\n      <td>0.0</td>\n      <td>0.0</td>\n      <td>0.0</td>\n      <td>0.0</td>\n      <td>...</td>\n      <td>0.0</td>\n      <td>0.0</td>\n      <td>0.0</td>\n      <td>0.0</td>\n      <td>0.0</td>\n      <td>0.0</td>\n      <td>0.0</td>\n      <td>0.0</td>\n      <td>0.0</td>\n      <td>1.0</td>\n    </tr>\n    <tr>\n      <th>2</th>\n      <td>2.0</td>\n      <td>-0.053691</td>\n      <td>Supermercado</td>\n      <td>Hipermercado Carrefour</td>\n      <td>lt</td>\n      <td>1.0</td>\n      <td>0.0</td>\n      <td>0.0</td>\n      <td>0.0</td>\n      <td>0.0</td>\n      <td>...</td>\n      <td>0.0</td>\n      <td>0.0</td>\n      <td>0.0</td>\n      <td>0.0</td>\n      <td>0.0</td>\n      <td>0.0</td>\n      <td>0.0</td>\n      <td>0.0</td>\n      <td>0.0</td>\n      <td>1.0</td>\n    </tr>\n    <tr>\n      <th>3</th>\n      <td>2.0</td>\n      <td>0.120805</td>\n      <td>Hipermercado</td>\n      <td>Hipermercado Carrefour</td>\n      <td>lt</td>\n      <td>1.0</td>\n      <td>0.0</td>\n      <td>0.0</td>\n      <td>0.0</td>\n      <td>0.0</td>\n      <td>...</td>\n      <td>0.0</td>\n      <td>0.0</td>\n      <td>0.0</td>\n      <td>0.0</td>\n      <td>0.0</td>\n      <td>0.0</td>\n      <td>0.0</td>\n      <td>0.0</td>\n      <td>0.0</td>\n      <td>1.0</td>\n    </tr>\n    <tr>\n      <th>4</th>\n      <td>2.0</td>\n      <td>0.053691</td>\n      <td>Hipermercado</td>\n      <td>Hipermercado Carrefour</td>\n      <td>lt</td>\n      <td>1.0</td>\n      <td>0.0</td>\n      <td>0.0</td>\n      <td>0.0</td>\n      <td>0.0</td>\n      <td>...</td>\n      <td>0.0</td>\n      <td>0.0</td>\n      <td>0.0</td>\n      <td>0.0</td>\n      <td>0.0</td>\n      <td>0.0</td>\n      <td>0.0</td>\n      <td>0.0</td>\n      <td>0.0</td>\n      <td>1.0</td>\n    </tr>\n  </tbody>\n</table>\n<p>5 rows × 34 columns</p>\n</div>"
     },
     "execution_count": 94,
     "metadata": {},
     "output_type": "execute_result"
    }
   ],
   "source": [
    "from sklearn.preprocessing import OneHotEncoder\n",
    "\n",
    "ohe = OneHotEncoder(sparse=False)\n",
    "\n",
    "df = precios_claros\n",
    "variable = 'marca'\n",
    "\n",
    "ohe.fit(df[[variable]])\n",
    "\n",
    "display(ohe.categories_)\n",
    "\n",
    "display(ohe.get_feature_names_out())\n",
    "\n",
    "variable_encoded = ohe.transform(df[[variable]])\n",
    "\n",
    "df[ohe.get_feature_names_out()] = variable_encoded\n",
    "\n",
    "df.drop(columns = variable, inplace = True)\n",
    "\n",
    "print(f\"Como {variable} es una variable multicategorica, creo una columna binaria para cada categoria\")\n",
    "\n",
    "df.head()"
   ],
   "metadata": {
    "collapsed": false
   }
  },
  {
   "cell_type": "code",
   "execution_count": 95,
   "outputs": [
    {
     "data": {
      "text/plain": "[array(['Autoservicio', 'Hipermercado', 'Supermercado'], dtype=object)]"
     },
     "metadata": {},
     "output_type": "display_data"
    },
    {
     "data": {
      "text/plain": "array(['tipo_cadena_Autoservicio', 'tipo_cadena_Hipermercado',\n       'tipo_cadena_Supermercado'], dtype=object)"
     },
     "metadata": {},
     "output_type": "display_data"
    },
    {
     "name": "stdout",
     "output_type": "stream",
     "text": [
      "Como tipo_cadena es una variable multicategorica, creo una columna binaria para cada categoria\n"
     ]
    },
    {
     "data": {
      "text/plain": "   presentacion    precio                  cadena unidad_presentacion  \\\n0           2.0 -0.026846  Hipermercado Carrefour                  lt   \n1           2.0  0.375839  Hipermercado Carrefour                  lt   \n2           2.0 -0.053691  Hipermercado Carrefour                  lt   \n3           2.0  0.120805  Hipermercado Carrefour                  lt   \n4           2.0  0.053691  Hipermercado Carrefour                  lt   \n\n   categoria_Agua  categoria_Arroz  categoria_Harinas  categoria_Leche  \\\n0             1.0              0.0                0.0              0.0   \n1             1.0              0.0                0.0              0.0   \n2             1.0              0.0                0.0              0.0   \n3             1.0              0.0                0.0              0.0   \n4             1.0              0.0                0.0              0.0   \n\n   categoria_Pastas  marca_ARCOR  ...  marca_MOLINOS ALA  marca_NESTLÉ  \\\n0               0.0          0.0  ...                0.0           0.0   \n1               0.0          0.0  ...                0.0           0.0   \n2               0.0          0.0  ...                0.0           0.0   \n3               0.0          0.0  ...                0.0           0.0   \n4               0.0          0.0  ...                0.0           0.0   \n\n   marca_PUREZA  marca_QUAKER  marca_SER  marca_VILLA DEL SUR  \\\n0           0.0           0.0        0.0                  0.0   \n1           0.0           0.0        0.0                  0.0   \n2           0.0           0.0        0.0                  0.0   \n3           0.0           0.0        0.0                  0.0   \n4           0.0           0.0        0.0                  0.0   \n\n   marca_VILLAVICENCIO  tipo_cadena_Autoservicio  tipo_cadena_Hipermercado  \\\n0                  1.0                       0.0                       1.0   \n1                  1.0                       0.0                       0.0   \n2                  1.0                       0.0                       0.0   \n3                  1.0                       0.0                       1.0   \n4                  1.0                       0.0                       1.0   \n\n   tipo_cadena_Supermercado  \n0                       0.0  \n1                       1.0  \n2                       1.0  \n3                       0.0  \n4                       0.0  \n\n[5 rows x 36 columns]",
      "text/html": "<div>\n<style scoped>\n    .dataframe tbody tr th:only-of-type {\n        vertical-align: middle;\n    }\n\n    .dataframe tbody tr th {\n        vertical-align: top;\n    }\n\n    .dataframe thead th {\n        text-align: right;\n    }\n</style>\n<table border=\"1\" class=\"dataframe\">\n  <thead>\n    <tr style=\"text-align: right;\">\n      <th></th>\n      <th>presentacion</th>\n      <th>precio</th>\n      <th>cadena</th>\n      <th>unidad_presentacion</th>\n      <th>categoria_Agua</th>\n      <th>categoria_Arroz</th>\n      <th>categoria_Harinas</th>\n      <th>categoria_Leche</th>\n      <th>categoria_Pastas</th>\n      <th>marca_ARCOR</th>\n      <th>...</th>\n      <th>marca_MOLINOS ALA</th>\n      <th>marca_NESTLÉ</th>\n      <th>marca_PUREZA</th>\n      <th>marca_QUAKER</th>\n      <th>marca_SER</th>\n      <th>marca_VILLA DEL SUR</th>\n      <th>marca_VILLAVICENCIO</th>\n      <th>tipo_cadena_Autoservicio</th>\n      <th>tipo_cadena_Hipermercado</th>\n      <th>tipo_cadena_Supermercado</th>\n    </tr>\n  </thead>\n  <tbody>\n    <tr>\n      <th>0</th>\n      <td>2.0</td>\n      <td>-0.026846</td>\n      <td>Hipermercado Carrefour</td>\n      <td>lt</td>\n      <td>1.0</td>\n      <td>0.0</td>\n      <td>0.0</td>\n      <td>0.0</td>\n      <td>0.0</td>\n      <td>0.0</td>\n      <td>...</td>\n      <td>0.0</td>\n      <td>0.0</td>\n      <td>0.0</td>\n      <td>0.0</td>\n      <td>0.0</td>\n      <td>0.0</td>\n      <td>1.0</td>\n      <td>0.0</td>\n      <td>1.0</td>\n      <td>0.0</td>\n    </tr>\n    <tr>\n      <th>1</th>\n      <td>2.0</td>\n      <td>0.375839</td>\n      <td>Hipermercado Carrefour</td>\n      <td>lt</td>\n      <td>1.0</td>\n      <td>0.0</td>\n      <td>0.0</td>\n      <td>0.0</td>\n      <td>0.0</td>\n      <td>0.0</td>\n      <td>...</td>\n      <td>0.0</td>\n      <td>0.0</td>\n      <td>0.0</td>\n      <td>0.0</td>\n      <td>0.0</td>\n      <td>0.0</td>\n      <td>1.0</td>\n      <td>0.0</td>\n      <td>0.0</td>\n      <td>1.0</td>\n    </tr>\n    <tr>\n      <th>2</th>\n      <td>2.0</td>\n      <td>-0.053691</td>\n      <td>Hipermercado Carrefour</td>\n      <td>lt</td>\n      <td>1.0</td>\n      <td>0.0</td>\n      <td>0.0</td>\n      <td>0.0</td>\n      <td>0.0</td>\n      <td>0.0</td>\n      <td>...</td>\n      <td>0.0</td>\n      <td>0.0</td>\n      <td>0.0</td>\n      <td>0.0</td>\n      <td>0.0</td>\n      <td>0.0</td>\n      <td>1.0</td>\n      <td>0.0</td>\n      <td>0.0</td>\n      <td>1.0</td>\n    </tr>\n    <tr>\n      <th>3</th>\n      <td>2.0</td>\n      <td>0.120805</td>\n      <td>Hipermercado Carrefour</td>\n      <td>lt</td>\n      <td>1.0</td>\n      <td>0.0</td>\n      <td>0.0</td>\n      <td>0.0</td>\n      <td>0.0</td>\n      <td>0.0</td>\n      <td>...</td>\n      <td>0.0</td>\n      <td>0.0</td>\n      <td>0.0</td>\n      <td>0.0</td>\n      <td>0.0</td>\n      <td>0.0</td>\n      <td>1.0</td>\n      <td>0.0</td>\n      <td>1.0</td>\n      <td>0.0</td>\n    </tr>\n    <tr>\n      <th>4</th>\n      <td>2.0</td>\n      <td>0.053691</td>\n      <td>Hipermercado Carrefour</td>\n      <td>lt</td>\n      <td>1.0</td>\n      <td>0.0</td>\n      <td>0.0</td>\n      <td>0.0</td>\n      <td>0.0</td>\n      <td>0.0</td>\n      <td>...</td>\n      <td>0.0</td>\n      <td>0.0</td>\n      <td>0.0</td>\n      <td>0.0</td>\n      <td>0.0</td>\n      <td>0.0</td>\n      <td>1.0</td>\n      <td>0.0</td>\n      <td>1.0</td>\n      <td>0.0</td>\n    </tr>\n  </tbody>\n</table>\n<p>5 rows × 36 columns</p>\n</div>"
     },
     "execution_count": 95,
     "metadata": {},
     "output_type": "execute_result"
    }
   ],
   "source": [
    "from sklearn.preprocessing import OneHotEncoder\n",
    "\n",
    "ohe = OneHotEncoder(sparse=False)\n",
    "\n",
    "df = precios_claros\n",
    "variable = 'tipo_cadena'\n",
    "\n",
    "ohe.fit(df[[variable]])\n",
    "\n",
    "display(ohe.categories_)\n",
    "\n",
    "display(ohe.get_feature_names_out())\n",
    "\n",
    "variable_encoded = ohe.transform(df[[variable]])\n",
    "\n",
    "df[ohe.get_feature_names_out()] = variable_encoded\n",
    "\n",
    "df.drop(columns = variable, inplace = True)\n",
    "\n",
    "print(f\"Como {variable} es una variable multicategorica, creo una columna binaria para cada categoria\")\n",
    "\n",
    "df.head()"
   ],
   "metadata": {
    "collapsed": false
   }
  },
  {
   "cell_type": "code",
   "execution_count": 96,
   "outputs": [
    {
     "name": "stdout",
     "output_type": "stream",
     "text": [
      "Como tengo una columna con dos categorias, hago el one-hot pero tranformando la columna en binaria\n"
     ]
    },
    {
     "data": {
      "text/plain": "   presentacion    precio                  cadena  unidad_presentacion  \\\n0           2.0 -0.026846  Hipermercado Carrefour                  0.0   \n1           2.0  0.375839  Hipermercado Carrefour                  0.0   \n2           2.0 -0.053691  Hipermercado Carrefour                  0.0   \n3           2.0  0.120805  Hipermercado Carrefour                  0.0   \n4           2.0  0.053691  Hipermercado Carrefour                  0.0   \n\n   categoria_Agua  categoria_Arroz  categoria_Harinas  categoria_Leche  \\\n0             1.0              0.0                0.0              0.0   \n1             1.0              0.0                0.0              0.0   \n2             1.0              0.0                0.0              0.0   \n3             1.0              0.0                0.0              0.0   \n4             1.0              0.0                0.0              0.0   \n\n   categoria_Pastas  marca_ARCOR  ...  marca_MOLINOS ALA  marca_NESTLÉ  \\\n0               0.0          0.0  ...                0.0           0.0   \n1               0.0          0.0  ...                0.0           0.0   \n2               0.0          0.0  ...                0.0           0.0   \n3               0.0          0.0  ...                0.0           0.0   \n4               0.0          0.0  ...                0.0           0.0   \n\n   marca_PUREZA  marca_QUAKER  marca_SER  marca_VILLA DEL SUR  \\\n0           0.0           0.0        0.0                  0.0   \n1           0.0           0.0        0.0                  0.0   \n2           0.0           0.0        0.0                  0.0   \n3           0.0           0.0        0.0                  0.0   \n4           0.0           0.0        0.0                  0.0   \n\n   marca_VILLAVICENCIO  tipo_cadena_Autoservicio  tipo_cadena_Hipermercado  \\\n0                  1.0                       0.0                       1.0   \n1                  1.0                       0.0                       0.0   \n2                  1.0                       0.0                       0.0   \n3                  1.0                       0.0                       1.0   \n4                  1.0                       0.0                       1.0   \n\n   tipo_cadena_Supermercado  \n0                       0.0  \n1                       1.0  \n2                       1.0  \n3                       0.0  \n4                       0.0  \n\n[5 rows x 36 columns]",
      "text/html": "<div>\n<style scoped>\n    .dataframe tbody tr th:only-of-type {\n        vertical-align: middle;\n    }\n\n    .dataframe tbody tr th {\n        vertical-align: top;\n    }\n\n    .dataframe thead th {\n        text-align: right;\n    }\n</style>\n<table border=\"1\" class=\"dataframe\">\n  <thead>\n    <tr style=\"text-align: right;\">\n      <th></th>\n      <th>presentacion</th>\n      <th>precio</th>\n      <th>cadena</th>\n      <th>unidad_presentacion</th>\n      <th>categoria_Agua</th>\n      <th>categoria_Arroz</th>\n      <th>categoria_Harinas</th>\n      <th>categoria_Leche</th>\n      <th>categoria_Pastas</th>\n      <th>marca_ARCOR</th>\n      <th>...</th>\n      <th>marca_MOLINOS ALA</th>\n      <th>marca_NESTLÉ</th>\n      <th>marca_PUREZA</th>\n      <th>marca_QUAKER</th>\n      <th>marca_SER</th>\n      <th>marca_VILLA DEL SUR</th>\n      <th>marca_VILLAVICENCIO</th>\n      <th>tipo_cadena_Autoservicio</th>\n      <th>tipo_cadena_Hipermercado</th>\n      <th>tipo_cadena_Supermercado</th>\n    </tr>\n  </thead>\n  <tbody>\n    <tr>\n      <th>0</th>\n      <td>2.0</td>\n      <td>-0.026846</td>\n      <td>Hipermercado Carrefour</td>\n      <td>0.0</td>\n      <td>1.0</td>\n      <td>0.0</td>\n      <td>0.0</td>\n      <td>0.0</td>\n      <td>0.0</td>\n      <td>0.0</td>\n      <td>...</td>\n      <td>0.0</td>\n      <td>0.0</td>\n      <td>0.0</td>\n      <td>0.0</td>\n      <td>0.0</td>\n      <td>0.0</td>\n      <td>1.0</td>\n      <td>0.0</td>\n      <td>1.0</td>\n      <td>0.0</td>\n    </tr>\n    <tr>\n      <th>1</th>\n      <td>2.0</td>\n      <td>0.375839</td>\n      <td>Hipermercado Carrefour</td>\n      <td>0.0</td>\n      <td>1.0</td>\n      <td>0.0</td>\n      <td>0.0</td>\n      <td>0.0</td>\n      <td>0.0</td>\n      <td>0.0</td>\n      <td>...</td>\n      <td>0.0</td>\n      <td>0.0</td>\n      <td>0.0</td>\n      <td>0.0</td>\n      <td>0.0</td>\n      <td>0.0</td>\n      <td>1.0</td>\n      <td>0.0</td>\n      <td>0.0</td>\n      <td>1.0</td>\n    </tr>\n    <tr>\n      <th>2</th>\n      <td>2.0</td>\n      <td>-0.053691</td>\n      <td>Hipermercado Carrefour</td>\n      <td>0.0</td>\n      <td>1.0</td>\n      <td>0.0</td>\n      <td>0.0</td>\n      <td>0.0</td>\n      <td>0.0</td>\n      <td>0.0</td>\n      <td>...</td>\n      <td>0.0</td>\n      <td>0.0</td>\n      <td>0.0</td>\n      <td>0.0</td>\n      <td>0.0</td>\n      <td>0.0</td>\n      <td>1.0</td>\n      <td>0.0</td>\n      <td>0.0</td>\n      <td>1.0</td>\n    </tr>\n    <tr>\n      <th>3</th>\n      <td>2.0</td>\n      <td>0.120805</td>\n      <td>Hipermercado Carrefour</td>\n      <td>0.0</td>\n      <td>1.0</td>\n      <td>0.0</td>\n      <td>0.0</td>\n      <td>0.0</td>\n      <td>0.0</td>\n      <td>0.0</td>\n      <td>...</td>\n      <td>0.0</td>\n      <td>0.0</td>\n      <td>0.0</td>\n      <td>0.0</td>\n      <td>0.0</td>\n      <td>0.0</td>\n      <td>1.0</td>\n      <td>0.0</td>\n      <td>1.0</td>\n      <td>0.0</td>\n    </tr>\n    <tr>\n      <th>4</th>\n      <td>2.0</td>\n      <td>0.053691</td>\n      <td>Hipermercado Carrefour</td>\n      <td>0.0</td>\n      <td>1.0</td>\n      <td>0.0</td>\n      <td>0.0</td>\n      <td>0.0</td>\n      <td>0.0</td>\n      <td>0.0</td>\n      <td>...</td>\n      <td>0.0</td>\n      <td>0.0</td>\n      <td>0.0</td>\n      <td>0.0</td>\n      <td>0.0</td>\n      <td>0.0</td>\n      <td>1.0</td>\n      <td>0.0</td>\n      <td>1.0</td>\n      <td>0.0</td>\n    </tr>\n  </tbody>\n</table>\n<p>5 rows × 36 columns</p>\n</div>"
     },
     "execution_count": 96,
     "metadata": {},
     "output_type": "execute_result"
    }
   ],
   "source": [
    "hot_encoder = OneHotEncoder(sparse = False, drop = 'if_binary', categories=[['lt', 'kg']]) #lt va a ser cero y kg va a ser 1\n",
    "\n",
    "df = precios_claros\n",
    "variable = 'unidad_presentacion'\n",
    "\n",
    "df[variable] = hot_encoder.fit_transform(df[[variable]])\n",
    "\n",
    "print(\"Como tengo una columna con dos categorias, hago el one-hot pero tranformando la columna en binaria\")\n",
    "\n",
    "df.head()"
   ],
   "metadata": {
    "collapsed": false
   }
  },
  {
   "cell_type": "markdown",
   "source": [
    "Ahora aplicamos el Label Encoder a tipo_cadena, que es nuestro target. Siendo 0 Disco, 1 Hipermercados Carrefour y 2 Supermercados Dia."
   ],
   "metadata": {
    "collapsed": false
   }
  },
  {
   "cell_type": "code",
   "execution_count": 97,
   "outputs": [
    {
     "data": {
      "text/plain": "   presentacion    precio  cadena  unidad_presentacion  categoria_Agua  \\\n0           2.0 -0.026846       1                  0.0             1.0   \n1           2.0  0.375839       1                  0.0             1.0   \n2           2.0 -0.053691       1                  0.0             1.0   \n3           2.0  0.120805       1                  0.0             1.0   \n4           2.0  0.053691       1                  0.0             1.0   \n\n   categoria_Arroz  categoria_Harinas  categoria_Leche  categoria_Pastas  \\\n0              0.0                0.0              0.0               0.0   \n1              0.0                0.0              0.0               0.0   \n2              0.0                0.0              0.0               0.0   \n3              0.0                0.0              0.0               0.0   \n4              0.0                0.0              0.0               0.0   \n\n   marca_ARCOR  ...  marca_MOLINOS ALA  marca_NESTLÉ  marca_PUREZA  \\\n0          0.0  ...                0.0           0.0           0.0   \n1          0.0  ...                0.0           0.0           0.0   \n2          0.0  ...                0.0           0.0           0.0   \n3          0.0  ...                0.0           0.0           0.0   \n4          0.0  ...                0.0           0.0           0.0   \n\n   marca_QUAKER  marca_SER  marca_VILLA DEL SUR  marca_VILLAVICENCIO  \\\n0           0.0        0.0                  0.0                  1.0   \n1           0.0        0.0                  0.0                  1.0   \n2           0.0        0.0                  0.0                  1.0   \n3           0.0        0.0                  0.0                  1.0   \n4           0.0        0.0                  0.0                  1.0   \n\n   tipo_cadena_Autoservicio  tipo_cadena_Hipermercado  \\\n0                       0.0                       1.0   \n1                       0.0                       0.0   \n2                       0.0                       0.0   \n3                       0.0                       1.0   \n4                       0.0                       1.0   \n\n   tipo_cadena_Supermercado  \n0                       0.0  \n1                       1.0  \n2                       1.0  \n3                       0.0  \n4                       0.0  \n\n[5 rows x 36 columns]",
      "text/html": "<div>\n<style scoped>\n    .dataframe tbody tr th:only-of-type {\n        vertical-align: middle;\n    }\n\n    .dataframe tbody tr th {\n        vertical-align: top;\n    }\n\n    .dataframe thead th {\n        text-align: right;\n    }\n</style>\n<table border=\"1\" class=\"dataframe\">\n  <thead>\n    <tr style=\"text-align: right;\">\n      <th></th>\n      <th>presentacion</th>\n      <th>precio</th>\n      <th>cadena</th>\n      <th>unidad_presentacion</th>\n      <th>categoria_Agua</th>\n      <th>categoria_Arroz</th>\n      <th>categoria_Harinas</th>\n      <th>categoria_Leche</th>\n      <th>categoria_Pastas</th>\n      <th>marca_ARCOR</th>\n      <th>...</th>\n      <th>marca_MOLINOS ALA</th>\n      <th>marca_NESTLÉ</th>\n      <th>marca_PUREZA</th>\n      <th>marca_QUAKER</th>\n      <th>marca_SER</th>\n      <th>marca_VILLA DEL SUR</th>\n      <th>marca_VILLAVICENCIO</th>\n      <th>tipo_cadena_Autoservicio</th>\n      <th>tipo_cadena_Hipermercado</th>\n      <th>tipo_cadena_Supermercado</th>\n    </tr>\n  </thead>\n  <tbody>\n    <tr>\n      <th>0</th>\n      <td>2.0</td>\n      <td>-0.026846</td>\n      <td>1</td>\n      <td>0.0</td>\n      <td>1.0</td>\n      <td>0.0</td>\n      <td>0.0</td>\n      <td>0.0</td>\n      <td>0.0</td>\n      <td>0.0</td>\n      <td>...</td>\n      <td>0.0</td>\n      <td>0.0</td>\n      <td>0.0</td>\n      <td>0.0</td>\n      <td>0.0</td>\n      <td>0.0</td>\n      <td>1.0</td>\n      <td>0.0</td>\n      <td>1.0</td>\n      <td>0.0</td>\n    </tr>\n    <tr>\n      <th>1</th>\n      <td>2.0</td>\n      <td>0.375839</td>\n      <td>1</td>\n      <td>0.0</td>\n      <td>1.0</td>\n      <td>0.0</td>\n      <td>0.0</td>\n      <td>0.0</td>\n      <td>0.0</td>\n      <td>0.0</td>\n      <td>...</td>\n      <td>0.0</td>\n      <td>0.0</td>\n      <td>0.0</td>\n      <td>0.0</td>\n      <td>0.0</td>\n      <td>0.0</td>\n      <td>1.0</td>\n      <td>0.0</td>\n      <td>0.0</td>\n      <td>1.0</td>\n    </tr>\n    <tr>\n      <th>2</th>\n      <td>2.0</td>\n      <td>-0.053691</td>\n      <td>1</td>\n      <td>0.0</td>\n      <td>1.0</td>\n      <td>0.0</td>\n      <td>0.0</td>\n      <td>0.0</td>\n      <td>0.0</td>\n      <td>0.0</td>\n      <td>...</td>\n      <td>0.0</td>\n      <td>0.0</td>\n      <td>0.0</td>\n      <td>0.0</td>\n      <td>0.0</td>\n      <td>0.0</td>\n      <td>1.0</td>\n      <td>0.0</td>\n      <td>0.0</td>\n      <td>1.0</td>\n    </tr>\n    <tr>\n      <th>3</th>\n      <td>2.0</td>\n      <td>0.120805</td>\n      <td>1</td>\n      <td>0.0</td>\n      <td>1.0</td>\n      <td>0.0</td>\n      <td>0.0</td>\n      <td>0.0</td>\n      <td>0.0</td>\n      <td>0.0</td>\n      <td>...</td>\n      <td>0.0</td>\n      <td>0.0</td>\n      <td>0.0</td>\n      <td>0.0</td>\n      <td>0.0</td>\n      <td>0.0</td>\n      <td>1.0</td>\n      <td>0.0</td>\n      <td>1.0</td>\n      <td>0.0</td>\n    </tr>\n    <tr>\n      <th>4</th>\n      <td>2.0</td>\n      <td>0.053691</td>\n      <td>1</td>\n      <td>0.0</td>\n      <td>1.0</td>\n      <td>0.0</td>\n      <td>0.0</td>\n      <td>0.0</td>\n      <td>0.0</td>\n      <td>0.0</td>\n      <td>...</td>\n      <td>0.0</td>\n      <td>0.0</td>\n      <td>0.0</td>\n      <td>0.0</td>\n      <td>0.0</td>\n      <td>0.0</td>\n      <td>1.0</td>\n      <td>0.0</td>\n      <td>1.0</td>\n      <td>0.0</td>\n    </tr>\n  </tbody>\n</table>\n<p>5 rows × 36 columns</p>\n</div>"
     },
     "execution_count": 97,
     "metadata": {},
     "output_type": "execute_result"
    }
   ],
   "source": [
    "from sklearn.preprocessing import LabelEncoder\n",
    "\n",
    "df = precios_claros\n",
    "variable = 'cadena'\n",
    "\n",
    "df[variable] = LabelEncoder().fit_transform(df[variable])\n",
    "df.head()"
   ],
   "metadata": {
    "collapsed": false
   }
  },
  {
   "cell_type": "markdown",
   "source": [
    "## 6 - MODELO"
   ],
   "metadata": {
    "collapsed": false
   }
  },
  {
   "cell_type": "markdown",
   "source": [
    "Hacemos un primer modelo de regresion logistica mediante cross validation, ajustando el parametro para obtener un mejor accuracy."
   ],
   "metadata": {
    "collapsed": false
   }
  },
  {
   "cell_type": "code",
   "execution_count": 110,
   "outputs": [
    {
     "name": "stderr",
     "output_type": "stream",
     "text": [
      "/Users/usuario/PycharmProjects/pythonProject5/POO/lib/python3.9/site-packages/sklearn/linear_model/_logistic.py:444: ConvergenceWarning: lbfgs failed to converge (status=1):\n",
      "STOP: TOTAL NO. of ITERATIONS REACHED LIMIT.\n",
      "\n",
      "Increase the number of iterations (max_iter) or scale the data as shown in:\n",
      "    https://scikit-learn.org/stable/modules/preprocessing.html\n",
      "Please also refer to the documentation for alternative solver options:\n",
      "    https://scikit-learn.org/stable/modules/linear_model.html#logistic-regression\n",
      "  n_iter_i = _check_optimize_result(\n",
      "/Users/usuario/PycharmProjects/pythonProject5/POO/lib/python3.9/site-packages/sklearn/linear_model/_logistic.py:444: ConvergenceWarning: lbfgs failed to converge (status=1):\n",
      "STOP: TOTAL NO. of ITERATIONS REACHED LIMIT.\n",
      "\n",
      "Increase the number of iterations (max_iter) or scale the data as shown in:\n",
      "    https://scikit-learn.org/stable/modules/preprocessing.html\n",
      "Please also refer to the documentation for alternative solver options:\n",
      "    https://scikit-learn.org/stable/modules/linear_model.html#logistic-regression\n",
      "  n_iter_i = _check_optimize_result(\n",
      "/Users/usuario/PycharmProjects/pythonProject5/POO/lib/python3.9/site-packages/sklearn/linear_model/_logistic.py:444: ConvergenceWarning: lbfgs failed to converge (status=1):\n",
      "STOP: TOTAL NO. of ITERATIONS REACHED LIMIT.\n",
      "\n",
      "Increase the number of iterations (max_iter) or scale the data as shown in:\n",
      "    https://scikit-learn.org/stable/modules/preprocessing.html\n",
      "Please also refer to the documentation for alternative solver options:\n",
      "    https://scikit-learn.org/stable/modules/linear_model.html#logistic-regression\n",
      "  n_iter_i = _check_optimize_result(\n",
      "/Users/usuario/PycharmProjects/pythonProject5/POO/lib/python3.9/site-packages/sklearn/linear_model/_logistic.py:444: ConvergenceWarning: lbfgs failed to converge (status=1):\n",
      "STOP: TOTAL NO. of ITERATIONS REACHED LIMIT.\n",
      "\n",
      "Increase the number of iterations (max_iter) or scale the data as shown in:\n",
      "    https://scikit-learn.org/stable/modules/preprocessing.html\n",
      "Please also refer to the documentation for alternative solver options:\n",
      "    https://scikit-learn.org/stable/modules/linear_model.html#logistic-regression\n",
      "  n_iter_i = _check_optimize_result(\n",
      "/Users/usuario/PycharmProjects/pythonProject5/POO/lib/python3.9/site-packages/sklearn/linear_model/_logistic.py:444: ConvergenceWarning: lbfgs failed to converge (status=1):\n",
      "STOP: TOTAL NO. of ITERATIONS REACHED LIMIT.\n",
      "\n",
      "Increase the number of iterations (max_iter) or scale the data as shown in:\n",
      "    https://scikit-learn.org/stable/modules/preprocessing.html\n",
      "Please also refer to the documentation for alternative solver options:\n",
      "    https://scikit-learn.org/stable/modules/linear_model.html#logistic-regression\n",
      "  n_iter_i = _check_optimize_result(\n",
      "/Users/usuario/PycharmProjects/pythonProject5/POO/lib/python3.9/site-packages/sklearn/linear_model/_logistic.py:444: ConvergenceWarning: lbfgs failed to converge (status=1):\n",
      "STOP: TOTAL NO. of ITERATIONS REACHED LIMIT.\n",
      "\n",
      "Increase the number of iterations (max_iter) or scale the data as shown in:\n",
      "    https://scikit-learn.org/stable/modules/preprocessing.html\n",
      "Please also refer to the documentation for alternative solver options:\n",
      "    https://scikit-learn.org/stable/modules/linear_model.html#logistic-regression\n",
      "  n_iter_i = _check_optimize_result(\n",
      "/Users/usuario/PycharmProjects/pythonProject5/POO/lib/python3.9/site-packages/sklearn/linear_model/_logistic.py:444: ConvergenceWarning: lbfgs failed to converge (status=1):\n",
      "STOP: TOTAL NO. of ITERATIONS REACHED LIMIT.\n",
      "\n",
      "Increase the number of iterations (max_iter) or scale the data as shown in:\n",
      "    https://scikit-learn.org/stable/modules/preprocessing.html\n",
      "Please also refer to the documentation for alternative solver options:\n",
      "    https://scikit-learn.org/stable/modules/linear_model.html#logistic-regression\n",
      "  n_iter_i = _check_optimize_result(\n"
     ]
    },
    {
     "name": "stdout",
     "output_type": "stream",
     "text": [
      " En este primer modelo se obtuvo un accuracy de 0.8005\n"
     ]
    },
    {
     "name": "stderr",
     "output_type": "stream",
     "text": [
      "/Users/usuario/PycharmProjects/pythonProject5/POO/lib/python3.9/site-packages/sklearn/linear_model/_logistic.py:444: ConvergenceWarning: lbfgs failed to converge (status=1):\n",
      "STOP: TOTAL NO. of ITERATIONS REACHED LIMIT.\n",
      "\n",
      "Increase the number of iterations (max_iter) or scale the data as shown in:\n",
      "    https://scikit-learn.org/stable/modules/preprocessing.html\n",
      "Please also refer to the documentation for alternative solver options:\n",
      "    https://scikit-learn.org/stable/modules/linear_model.html#logistic-regression\n",
      "  n_iter_i = _check_optimize_result(\n",
      "/Users/usuario/PycharmProjects/pythonProject5/POO/lib/python3.9/site-packages/sklearn/linear_model/_logistic.py:444: ConvergenceWarning: lbfgs failed to converge (status=1):\n",
      "STOP: TOTAL NO. of ITERATIONS REACHED LIMIT.\n",
      "\n",
      "Increase the number of iterations (max_iter) or scale the data as shown in:\n",
      "    https://scikit-learn.org/stable/modules/preprocessing.html\n",
      "Please also refer to the documentation for alternative solver options:\n",
      "    https://scikit-learn.org/stable/modules/linear_model.html#logistic-regression\n",
      "  n_iter_i = _check_optimize_result(\n"
     ]
    }
   ],
   "source": [
    "from sklearn.model_selection import cross_val_score\n",
    "from sklearn.linear_model import LogisticRegression\n",
    "\n",
    "X = precios_claros.drop(columns = \"cadena\")\n",
    "y = precios_claros[\"cadena\"]\n",
    "\n",
    "model = LogisticRegression()\n",
    "\n",
    "scores = cross_val_score(model, X, y, cv = 10)\n",
    "base_model_score = scores.mean()\n",
    "\n",
    "print(f\" En este primer modelo se obtuvo un accuracy de {round(base_model_score, 4)}\")"
   ],
   "metadata": {
    "collapsed": false
   }
  },
  {
   "cell_type": "code",
   "execution_count": 118,
   "outputs": [
    {
     "name": "stdout",
     "output_type": "stream",
     "text": [
      "Realizamos un train y test mara mejorar nuestro modelo y obtuvimos un score de: 0.8343, pudiendo ver que mejoro nuestro modelo en 0.0338\n"
     ]
    },
    {
     "name": "stderr",
     "output_type": "stream",
     "text": [
      "/Users/usuario/PycharmProjects/pythonProject5/POO/lib/python3.9/site-packages/sklearn/linear_model/_logistic.py:444: ConvergenceWarning: lbfgs failed to converge (status=1):\n",
      "STOP: TOTAL NO. of ITERATIONS REACHED LIMIT.\n",
      "\n",
      "Increase the number of iterations (max_iter) or scale the data as shown in:\n",
      "    https://scikit-learn.org/stable/modules/preprocessing.html\n",
      "Please also refer to the documentation for alternative solver options:\n",
      "    https://scikit-learn.org/stable/modules/linear_model.html#logistic-regression\n",
      "  n_iter_i = _check_optimize_result(\n"
     ]
    }
   ],
   "source": [
    "from sklearn.linear_model import LogisticRegression\n",
    "from sklearn.model_selection import train_test_split\n",
    "\n",
    "X_train, X_test, y_train, y_test = train_test_split(X, y, test_size = 0.3, random_state = 10)\n",
    "\n",
    "model = LogisticRegression()\n",
    "\n",
    "model.fit(X_train, y_train)\n",
    "\n",
    "y_pred = model.predict(X_test)\n",
    "\n",
    "train_test = model.score(X_test, y_test)\n",
    "\n",
    "print(f\"Realizamos un train y test mara mejorar nuestro modelo y obtuvimos un score de: {round(train_test, 4)}, pudiendo ver que mejoro nuestro modelo en {round(train_test - base_model_score, 4)}\")"
   ],
   "metadata": {
    "collapsed": false
   }
  },
  {
   "cell_type": "code",
   "execution_count": 120,
   "outputs": [
    {
     "name": "stdout",
     "output_type": "stream",
     "text": [
      "Estratificamos nuestra variable target obteniendo un accuracy 0.8535645472061657, mejorado un 0.0193 con respecto al anterior\n"
     ]
    },
    {
     "name": "stderr",
     "output_type": "stream",
     "text": [
      "/Users/usuario/PycharmProjects/pythonProject5/POO/lib/python3.9/site-packages/sklearn/linear_model/_logistic.py:444: ConvergenceWarning: lbfgs failed to converge (status=1):\n",
      "STOP: TOTAL NO. of ITERATIONS REACHED LIMIT.\n",
      "\n",
      "Increase the number of iterations (max_iter) or scale the data as shown in:\n",
      "    https://scikit-learn.org/stable/modules/preprocessing.html\n",
      "Please also refer to the documentation for alternative solver options:\n",
      "    https://scikit-learn.org/stable/modules/linear_model.html#logistic-regression\n",
      "  n_iter_i = _check_optimize_result(\n"
     ]
    }
   ],
   "source": [
    "X_train, X_test, y_train, y_test = train_test_split(X, y, test_size = 0.3, stratify = y, random_state = 10)\n",
    "model = LogisticRegression()\n",
    "model.fit(X_train, y_train)\n",
    "y_pred = model.predict(X_test)\n",
    "\n",
    "stratify_score = model.score(X_test, y_test)\n",
    "\n",
    "print(f'Estratificamos nuestra variable target obteniendo un accuracy {stratify_score}, mejorado un {round(stratify_score - train_test, 4)} con respecto al anterior')"
   ],
   "metadata": {
    "collapsed": false
   }
  },
  {
   "cell_type": "markdown",
   "source": [
    "Utilizamos la funcion para etablecer cuales son las variables con mayor influencia en nuestro modelo. A estas variables les llamaremos variables \"fuertes\", y mediante un umbral seleccionaremos aquellas que nos quedaremos en nuestro modelo."
   ],
   "metadata": {
    "collapsed": false
   }
  },
  {
   "cell_type": "code",
   "execution_count": 121,
   "outputs": [
    {
     "name": "stdout",
     "output_type": "stream",
     "text": [
      "Antes de la permutacion, el score del model es: 0.8005\n"
     ]
    },
    {
     "name": "stderr",
     "output_type": "stream",
     "text": [
      "/Users/usuario/PycharmProjects/pythonProject5/POO/lib/python3.9/site-packages/sklearn/linear_model/_logistic.py:444: ConvergenceWarning: lbfgs failed to converge (status=1):\n",
      "STOP: TOTAL NO. of ITERATIONS REACHED LIMIT.\n",
      "\n",
      "Increase the number of iterations (max_iter) or scale the data as shown in:\n",
      "    https://scikit-learn.org/stable/modules/preprocessing.html\n",
      "Please also refer to the documentation for alternative solver options:\n",
      "    https://scikit-learn.org/stable/modules/linear_model.html#logistic-regression\n",
      "  n_iter_i = _check_optimize_result(\n"
     ]
    },
    {
     "name": "stdout",
     "output_type": "stream",
     "text": [
      "Despues de la permutacion de variables, asi decrece el score en terminos de variables:\n"
     ]
    },
    {
     "data": {
      "text/plain": "                     feature feature_importance\n33  tipo_cadena_Hipermercado           0.104928\n34  tipo_cadena_Supermercado           0.044708\n32  tipo_cadena_Autoservicio           0.039479\n1                     precio           0.009728\n0               presentacion           0.003875\n21       marca_LA SERENÍSIMA           0.003592\n3             categoria_Agua           0.003094\n7           categoria_Pastas           0.002927\n5          categoria_Harinas           0.002695\n23             marca_MAIZENA           0.002053\n18                 marca_KIN            0.00181\n2        unidad_presentacion           0.001591\n22           marca_LUCCHETTI           0.001353\n9              marca_ARMONÍA            0.00133\n10             marca_BONAQUA           0.001296\n20          marca_LA SALTEÑA            0.00118\n6            categoria_Leche           0.000723\n11            marca_CAÑUELAS           0.000636\n30       marca_VILLA DEL SUR           0.000376\n29                 marca_SER           0.000376\n27              marca_PUREZA           0.000335\n31       marca_VILLAVICENCIO           0.000301\n15               marca_GALLO           0.000272\n26              marca_NESTLÉ           0.000208\n13    marca_ECO DE LOS ANDES           0.000098\n17             marca_GLACIAR           0.000098\n24           marca_MATARAZZO           0.000098\n19               marca_KNORR           0.000035\n25         marca_MOLINOS ALA           0.000006\n14            marca_FAVORITA           0.000006\n8                marca_ARCOR           0.000006\n28              marca_QUAKER                0.0\n12         marca_DON VICENTE          -0.000064\n4            categoria_Arroz          -0.000752\n16             marca_GIACOMO          -0.001319",
      "text/html": "<div>\n<style scoped>\n    .dataframe tbody tr th:only-of-type {\n        vertical-align: middle;\n    }\n\n    .dataframe tbody tr th {\n        vertical-align: top;\n    }\n\n    .dataframe thead th {\n        text-align: right;\n    }\n</style>\n<table border=\"1\" class=\"dataframe\">\n  <thead>\n    <tr style=\"text-align: right;\">\n      <th></th>\n      <th>feature</th>\n      <th>feature_importance</th>\n    </tr>\n  </thead>\n  <tbody>\n    <tr>\n      <th>33</th>\n      <td>tipo_cadena_Hipermercado</td>\n      <td>0.104928</td>\n    </tr>\n    <tr>\n      <th>34</th>\n      <td>tipo_cadena_Supermercado</td>\n      <td>0.044708</td>\n    </tr>\n    <tr>\n      <th>32</th>\n      <td>tipo_cadena_Autoservicio</td>\n      <td>0.039479</td>\n    </tr>\n    <tr>\n      <th>1</th>\n      <td>precio</td>\n      <td>0.009728</td>\n    </tr>\n    <tr>\n      <th>0</th>\n      <td>presentacion</td>\n      <td>0.003875</td>\n    </tr>\n    <tr>\n      <th>21</th>\n      <td>marca_LA SERENÍSIMA</td>\n      <td>0.003592</td>\n    </tr>\n    <tr>\n      <th>3</th>\n      <td>categoria_Agua</td>\n      <td>0.003094</td>\n    </tr>\n    <tr>\n      <th>7</th>\n      <td>categoria_Pastas</td>\n      <td>0.002927</td>\n    </tr>\n    <tr>\n      <th>5</th>\n      <td>categoria_Harinas</td>\n      <td>0.002695</td>\n    </tr>\n    <tr>\n      <th>23</th>\n      <td>marca_MAIZENA</td>\n      <td>0.002053</td>\n    </tr>\n    <tr>\n      <th>18</th>\n      <td>marca_KIN</td>\n      <td>0.00181</td>\n    </tr>\n    <tr>\n      <th>2</th>\n      <td>unidad_presentacion</td>\n      <td>0.001591</td>\n    </tr>\n    <tr>\n      <th>22</th>\n      <td>marca_LUCCHETTI</td>\n      <td>0.001353</td>\n    </tr>\n    <tr>\n      <th>9</th>\n      <td>marca_ARMONÍA</td>\n      <td>0.00133</td>\n    </tr>\n    <tr>\n      <th>10</th>\n      <td>marca_BONAQUA</td>\n      <td>0.001296</td>\n    </tr>\n    <tr>\n      <th>20</th>\n      <td>marca_LA SALTEÑA</td>\n      <td>0.00118</td>\n    </tr>\n    <tr>\n      <th>6</th>\n      <td>categoria_Leche</td>\n      <td>0.000723</td>\n    </tr>\n    <tr>\n      <th>11</th>\n      <td>marca_CAÑUELAS</td>\n      <td>0.000636</td>\n    </tr>\n    <tr>\n      <th>30</th>\n      <td>marca_VILLA DEL SUR</td>\n      <td>0.000376</td>\n    </tr>\n    <tr>\n      <th>29</th>\n      <td>marca_SER</td>\n      <td>0.000376</td>\n    </tr>\n    <tr>\n      <th>27</th>\n      <td>marca_PUREZA</td>\n      <td>0.000335</td>\n    </tr>\n    <tr>\n      <th>31</th>\n      <td>marca_VILLAVICENCIO</td>\n      <td>0.000301</td>\n    </tr>\n    <tr>\n      <th>15</th>\n      <td>marca_GALLO</td>\n      <td>0.000272</td>\n    </tr>\n    <tr>\n      <th>26</th>\n      <td>marca_NESTLÉ</td>\n      <td>0.000208</td>\n    </tr>\n    <tr>\n      <th>13</th>\n      <td>marca_ECO DE LOS ANDES</td>\n      <td>0.000098</td>\n    </tr>\n    <tr>\n      <th>17</th>\n      <td>marca_GLACIAR</td>\n      <td>0.000098</td>\n    </tr>\n    <tr>\n      <th>24</th>\n      <td>marca_MATARAZZO</td>\n      <td>0.000098</td>\n    </tr>\n    <tr>\n      <th>19</th>\n      <td>marca_KNORR</td>\n      <td>0.000035</td>\n    </tr>\n    <tr>\n      <th>25</th>\n      <td>marca_MOLINOS ALA</td>\n      <td>0.000006</td>\n    </tr>\n    <tr>\n      <th>14</th>\n      <td>marca_FAVORITA</td>\n      <td>0.000006</td>\n    </tr>\n    <tr>\n      <th>8</th>\n      <td>marca_ARCOR</td>\n      <td>0.000006</td>\n    </tr>\n    <tr>\n      <th>28</th>\n      <td>marca_QUAKER</td>\n      <td>0.0</td>\n    </tr>\n    <tr>\n      <th>12</th>\n      <td>marca_DON VICENTE</td>\n      <td>-0.000064</td>\n    </tr>\n    <tr>\n      <th>4</th>\n      <td>categoria_Arroz</td>\n      <td>-0.000752</td>\n    </tr>\n    <tr>\n      <th>16</th>\n      <td>marca_GIACOMO</td>\n      <td>-0.001319</td>\n    </tr>\n  </tbody>\n</table>\n</div>"
     },
     "execution_count": 121,
     "metadata": {},
     "output_type": "execute_result"
    }
   ],
   "source": [
    "from sklearn.model_selection import cross_validate\n",
    "from sklearn.inspection import permutation_importance\n",
    "\n",
    "print(f\"Antes de la permutacion, el score del model es: {round(base_model_score,4)}\")\n",
    "\n",
    "model = LogisticRegression().fit(X,y)\n",
    "permutation_score = permutation_importance(model, X, y, n_repeats=100)\n",
    "importance_df = pd.DataFrame(np.vstack((X.columns,\n",
    "                                        permutation_score.importances_mean)).T,\n",
    "                            columns = ['feature','feature_importance'])\n",
    "\n",
    "print(\"Despues de la permutacion de variables, asi decrece el score en terminos de variables:\")\n",
    "importance_df = importance_df.sort_values(by=\"feature_importance\", ascending = False)\n",
    "importance_df"
   ],
   "metadata": {
    "collapsed": false
   }
  },
  {
   "cell_type": "code",
   "execution_count": 122,
   "outputs": [
    {
     "name": "stdout",
     "output_type": "stream",
     "text": [
      "Estas son las variables debiles del modelo segun el ubral establecido a criterio para poder elevar el score:\n"
     ]
    },
    {
     "data": {
      "text/plain": "array(['precio', 'presentacion', 'marca_LA SERENÍSIMA', 'categoria_Agua',\n       'categoria_Pastas', 'categoria_Harinas', 'marca_MAIZENA',\n       'marca_KIN', 'unidad_presentacion', 'marca_LUCCHETTI',\n       'marca_ARMONÍA', 'marca_BONAQUA', 'marca_LA SALTEÑA',\n       'categoria_Leche', 'marca_CAÑUELAS', 'marca_VILLA DEL SUR',\n       'marca_SER', 'marca_PUREZA', 'marca_VILLAVICENCIO', 'marca_GALLO',\n       'marca_NESTLÉ', 'marca_ECO DE LOS ANDES', 'marca_GLACIAR',\n       'marca_MATARAZZO', 'marca_KNORR', 'marca_MOLINOS ALA',\n       'marca_FAVORITA', 'marca_ARCOR', 'marca_QUAKER',\n       'marca_DON VICENTE', 'categoria_Arroz', 'marca_GIACOMO'],\n      dtype=object)"
     },
     "execution_count": 122,
     "metadata": {},
     "output_type": "execute_result"
    }
   ],
   "source": [
    "# Definamos un umbral de score\n",
    "threshold = 0.03\n",
    "\n",
    "# Decompose this one-liner piece of code step by step if you don't understand it at first sight!\n",
    "weak_features = importance_df[importance_df.feature_importance <= threshold][\"feature\"].values\n",
    "print(\"Estas son las variables debiles del modelo segun el ubral establecido a criterio para poder elevar el score:\")\n",
    "weak_features"
   ],
   "metadata": {
    "collapsed": false
   }
  },
  {
   "cell_type": "code",
   "execution_count": 123,
   "outputs": [
    {
     "name": "stdout",
     "output_type": "stream",
     "text": [
      "Las variables fuertes son ['tipo_cadena_Autoservicio', 'tipo_cadena_Hipermercado', 'tipo_cadena_Supermercado']\n",
      "Antes de remover las variables el Accurracy es 0.8005\n",
      "El modelo entrenado con las variables fuertes dan un accuracy de 0.8571279741900794, se puede ver que nuestro accuracy subio en 0.0228\n"
     ]
    }
   ],
   "source": [
    "X_strong_features = df.drop(columns=list(weak_features) + [\"cadena\"])\n",
    "\n",
    "print(f\"Las variables fuertes son {list(X_strong_features.columns)}\")\n",
    "\n",
    "model = LogisticRegression()\n",
    "\n",
    "scores = cross_val_score(model, X_strong_features, y, cv = 10)\n",
    "strong_model_score = scores.mean()\n",
    "\n",
    "print(f\"Antes de remover las variables el Accurracy es {round(base_model_score, 4)}\")\n",
    "\n",
    "print(f\"El modelo entrenado con las variables fuertes dan un accuracy de {strong_model_score}, se puede ver que nuestro accuracy subio en {round(strong_model_score - train_test, 4)}\")"
   ],
   "metadata": {
    "collapsed": false
   }
  },
  {
   "cell_type": "markdown",
   "source": [
    "### **Matriz de confusion**"
   ],
   "metadata": {
    "collapsed": false
   }
  },
  {
   "cell_type": "code",
   "execution_count": 104,
   "outputs": [
    {
     "name": "stdout",
     "output_type": "stream",
     "text": [
      "[[ 54   7  12]\n",
      " [ 26 353   1]\n",
      " [ 30   0  36]]\n"
     ]
    }
   ],
   "source": [
    "from sklearn.metrics import confusion_matrix\n",
    "\n",
    "confusion = confusion_matrix(y_test, y_pred)\n",
    "\n",
    "print(confusion)"
   ],
   "metadata": {
    "collapsed": false
   }
  },
  {
   "cell_type": "code",
   "execution_count": 105,
   "outputs": [
    {
     "name": "stdout",
     "output_type": "stream",
     "text": [
      "              precision    recall  f1-score   support\n",
      "\n",
      "           0       0.49      0.74      0.59        73\n",
      "           1       0.98      0.93      0.95       380\n",
      "           2       0.73      0.55      0.63        66\n",
      "\n",
      "    accuracy                           0.85       519\n",
      "   macro avg       0.74      0.74      0.72       519\n",
      "weighted avg       0.88      0.85      0.86       519\n",
      "\n"
     ]
    }
   ],
   "source": [
    "from sklearn.metrics import classification_report\n",
    "\n",
    "print(classification_report(y_test, y_pred))"
   ],
   "metadata": {
    "collapsed": false
   }
  },
  {
   "cell_type": "code",
   "execution_count": 106,
   "outputs": [
    {
     "name": "stderr",
     "output_type": "stream",
     "text": [
      "/Users/usuario/PycharmProjects/pythonProject5/POO/lib/python3.9/site-packages/sklearn/linear_model/_logistic.py:444: ConvergenceWarning: lbfgs failed to converge (status=1):\n",
      "STOP: TOTAL NO. of ITERATIONS REACHED LIMIT.\n",
      "\n",
      "Increase the number of iterations (max_iter) or scale the data as shown in:\n",
      "    https://scikit-learn.org/stable/modules/preprocessing.html\n",
      "Please also refer to the documentation for alternative solver options:\n",
      "    https://scikit-learn.org/stable/modules/linear_model.html#logistic-regression\n",
      "  n_iter_i = _check_optimize_result(\n",
      "/Users/usuario/PycharmProjects/pythonProject5/POO/lib/python3.9/site-packages/sklearn/linear_model/_logistic.py:444: ConvergenceWarning: lbfgs failed to converge (status=1):\n",
      "STOP: TOTAL NO. of ITERATIONS REACHED LIMIT.\n",
      "\n",
      "Increase the number of iterations (max_iter) or scale the data as shown in:\n",
      "    https://scikit-learn.org/stable/modules/preprocessing.html\n",
      "Please also refer to the documentation for alternative solver options:\n",
      "    https://scikit-learn.org/stable/modules/linear_model.html#logistic-regression\n",
      "  n_iter_i = _check_optimize_result(\n",
      "/Users/usuario/PycharmProjects/pythonProject5/POO/lib/python3.9/site-packages/sklearn/linear_model/_logistic.py:444: ConvergenceWarning: lbfgs failed to converge (status=1):\n",
      "STOP: TOTAL NO. of ITERATIONS REACHED LIMIT.\n",
      "\n",
      "Increase the number of iterations (max_iter) or scale the data as shown in:\n",
      "    https://scikit-learn.org/stable/modules/preprocessing.html\n",
      "Please also refer to the documentation for alternative solver options:\n",
      "    https://scikit-learn.org/stable/modules/linear_model.html#logistic-regression\n",
      "  n_iter_i = _check_optimize_result(\n",
      "/Users/usuario/PycharmProjects/pythonProject5/POO/lib/python3.9/site-packages/sklearn/linear_model/_logistic.py:444: ConvergenceWarning: lbfgs failed to converge (status=1):\n",
      "STOP: TOTAL NO. of ITERATIONS REACHED LIMIT.\n",
      "\n",
      "Increase the number of iterations (max_iter) or scale the data as shown in:\n",
      "    https://scikit-learn.org/stable/modules/preprocessing.html\n",
      "Please also refer to the documentation for alternative solver options:\n",
      "    https://scikit-learn.org/stable/modules/linear_model.html#logistic-regression\n",
      "  n_iter_i = _check_optimize_result(\n",
      "/Users/usuario/PycharmProjects/pythonProject5/POO/lib/python3.9/site-packages/sklearn/linear_model/_logistic.py:444: ConvergenceWarning: lbfgs failed to converge (status=1):\n",
      "STOP: TOTAL NO. of ITERATIONS REACHED LIMIT.\n",
      "\n",
      "Increase the number of iterations (max_iter) or scale the data as shown in:\n",
      "    https://scikit-learn.org/stable/modules/preprocessing.html\n",
      "Please also refer to the documentation for alternative solver options:\n",
      "    https://scikit-learn.org/stable/modules/linear_model.html#logistic-regression\n",
      "  n_iter_i = _check_optimize_result(\n",
      "/Users/usuario/PycharmProjects/pythonProject5/POO/lib/python3.9/site-packages/sklearn/linear_model/_logistic.py:444: ConvergenceWarning: lbfgs failed to converge (status=1):\n",
      "STOP: TOTAL NO. of ITERATIONS REACHED LIMIT.\n",
      "\n",
      "Increase the number of iterations (max_iter) or scale the data as shown in:\n",
      "    https://scikit-learn.org/stable/modules/preprocessing.html\n",
      "Please also refer to the documentation for alternative solver options:\n",
      "    https://scikit-learn.org/stable/modules/linear_model.html#logistic-regression\n",
      "  n_iter_i = _check_optimize_result(\n",
      "/Users/usuario/PycharmProjects/pythonProject5/POO/lib/python3.9/site-packages/sklearn/linear_model/_logistic.py:444: ConvergenceWarning: lbfgs failed to converge (status=1):\n",
      "STOP: TOTAL NO. of ITERATIONS REACHED LIMIT.\n",
      "\n",
      "Increase the number of iterations (max_iter) or scale the data as shown in:\n",
      "    https://scikit-learn.org/stable/modules/preprocessing.html\n",
      "Please also refer to the documentation for alternative solver options:\n",
      "    https://scikit-learn.org/stable/modules/linear_model.html#logistic-regression\n",
      "  n_iter_i = _check_optimize_result(\n",
      "/Users/usuario/PycharmProjects/pythonProject5/POO/lib/python3.9/site-packages/sklearn/linear_model/_logistic.py:444: ConvergenceWarning: lbfgs failed to converge (status=1):\n",
      "STOP: TOTAL NO. of ITERATIONS REACHED LIMIT.\n",
      "\n",
      "Increase the number of iterations (max_iter) or scale the data as shown in:\n",
      "    https://scikit-learn.org/stable/modules/preprocessing.html\n",
      "Please also refer to the documentation for alternative solver options:\n",
      "    https://scikit-learn.org/stable/modules/linear_model.html#logistic-regression\n",
      "  n_iter_i = _check_optimize_result(\n",
      "/Users/usuario/PycharmProjects/pythonProject5/POO/lib/python3.9/site-packages/sklearn/linear_model/_logistic.py:444: ConvergenceWarning: lbfgs failed to converge (status=1):\n",
      "STOP: TOTAL NO. of ITERATIONS REACHED LIMIT.\n",
      "\n",
      "Increase the number of iterations (max_iter) or scale the data as shown in:\n",
      "    https://scikit-learn.org/stable/modules/preprocessing.html\n",
      "Please also refer to the documentation for alternative solver options:\n",
      "    https://scikit-learn.org/stable/modules/linear_model.html#logistic-regression\n",
      "  n_iter_i = _check_optimize_result(\n",
      "/Users/usuario/PycharmProjects/pythonProject5/POO/lib/python3.9/site-packages/sklearn/linear_model/_logistic.py:444: ConvergenceWarning: lbfgs failed to converge (status=1):\n",
      "STOP: TOTAL NO. of ITERATIONS REACHED LIMIT.\n",
      "\n",
      "Increase the number of iterations (max_iter) or scale the data as shown in:\n",
      "    https://scikit-learn.org/stable/modules/preprocessing.html\n",
      "Please also refer to the documentation for alternative solver options:\n",
      "    https://scikit-learn.org/stable/modules/linear_model.html#logistic-regression\n",
      "  n_iter_i = _check_optimize_result(\n",
      "/Users/usuario/PycharmProjects/pythonProject5/POO/lib/python3.9/site-packages/sklearn/linear_model/_logistic.py:444: ConvergenceWarning: lbfgs failed to converge (status=1):\n",
      "STOP: TOTAL NO. of ITERATIONS REACHED LIMIT.\n",
      "\n",
      "Increase the number of iterations (max_iter) or scale the data as shown in:\n",
      "    https://scikit-learn.org/stable/modules/preprocessing.html\n",
      "Please also refer to the documentation for alternative solver options:\n",
      "    https://scikit-learn.org/stable/modules/linear_model.html#logistic-regression\n",
      "  n_iter_i = _check_optimize_result(\n",
      "/Users/usuario/PycharmProjects/pythonProject5/POO/lib/python3.9/site-packages/sklearn/linear_model/_logistic.py:444: ConvergenceWarning: lbfgs failed to converge (status=1):\n",
      "STOP: TOTAL NO. of ITERATIONS REACHED LIMIT.\n",
      "\n",
      "Increase the number of iterations (max_iter) or scale the data as shown in:\n",
      "    https://scikit-learn.org/stable/modules/preprocessing.html\n",
      "Please also refer to the documentation for alternative solver options:\n",
      "    https://scikit-learn.org/stable/modules/linear_model.html#logistic-regression\n",
      "  n_iter_i = _check_optimize_result(\n",
      "/Users/usuario/PycharmProjects/pythonProject5/POO/lib/python3.9/site-packages/sklearn/linear_model/_logistic.py:444: ConvergenceWarning: lbfgs failed to converge (status=1):\n",
      "STOP: TOTAL NO. of ITERATIONS REACHED LIMIT.\n",
      "\n",
      "Increase the number of iterations (max_iter) or scale the data as shown in:\n",
      "    https://scikit-learn.org/stable/modules/preprocessing.html\n",
      "Please also refer to the documentation for alternative solver options:\n",
      "    https://scikit-learn.org/stable/modules/linear_model.html#logistic-regression\n",
      "  n_iter_i = _check_optimize_result(\n",
      "/Users/usuario/PycharmProjects/pythonProject5/POO/lib/python3.9/site-packages/sklearn/linear_model/_logistic.py:444: ConvergenceWarning: lbfgs failed to converge (status=1):\n",
      "STOP: TOTAL NO. of ITERATIONS REACHED LIMIT.\n",
      "\n",
      "Increase the number of iterations (max_iter) or scale the data as shown in:\n",
      "    https://scikit-learn.org/stable/modules/preprocessing.html\n",
      "Please also refer to the documentation for alternative solver options:\n",
      "    https://scikit-learn.org/stable/modules/linear_model.html#logistic-regression\n",
      "  n_iter_i = _check_optimize_result(\n",
      "/Users/usuario/PycharmProjects/pythonProject5/POO/lib/python3.9/site-packages/sklearn/linear_model/_logistic.py:444: ConvergenceWarning: lbfgs failed to converge (status=1):\n",
      "STOP: TOTAL NO. of ITERATIONS REACHED LIMIT.\n",
      "\n",
      "Increase the number of iterations (max_iter) or scale the data as shown in:\n",
      "    https://scikit-learn.org/stable/modules/preprocessing.html\n",
      "Please also refer to the documentation for alternative solver options:\n",
      "    https://scikit-learn.org/stable/modules/linear_model.html#logistic-regression\n",
      "  n_iter_i = _check_optimize_result(\n",
      "/Users/usuario/PycharmProjects/pythonProject5/POO/lib/python3.9/site-packages/sklearn/linear_model/_logistic.py:444: ConvergenceWarning: lbfgs failed to converge (status=1):\n",
      "STOP: TOTAL NO. of ITERATIONS REACHED LIMIT.\n",
      "\n",
      "Increase the number of iterations (max_iter) or scale the data as shown in:\n",
      "    https://scikit-learn.org/stable/modules/preprocessing.html\n",
      "Please also refer to the documentation for alternative solver options:\n",
      "    https://scikit-learn.org/stable/modules/linear_model.html#logistic-regression\n",
      "  n_iter_i = _check_optimize_result(\n",
      "/Users/usuario/PycharmProjects/pythonProject5/POO/lib/python3.9/site-packages/sklearn/linear_model/_logistic.py:444: ConvergenceWarning: lbfgs failed to converge (status=1):\n",
      "STOP: TOTAL NO. of ITERATIONS REACHED LIMIT.\n",
      "\n",
      "Increase the number of iterations (max_iter) or scale the data as shown in:\n",
      "    https://scikit-learn.org/stable/modules/preprocessing.html\n",
      "Please also refer to the documentation for alternative solver options:\n",
      "    https://scikit-learn.org/stable/modules/linear_model.html#logistic-regression\n",
      "  n_iter_i = _check_optimize_result(\n",
      "/Users/usuario/PycharmProjects/pythonProject5/POO/lib/python3.9/site-packages/sklearn/linear_model/_logistic.py:444: ConvergenceWarning: lbfgs failed to converge (status=1):\n",
      "STOP: TOTAL NO. of ITERATIONS REACHED LIMIT.\n",
      "\n",
      "Increase the number of iterations (max_iter) or scale the data as shown in:\n",
      "    https://scikit-learn.org/stable/modules/preprocessing.html\n",
      "Please also refer to the documentation for alternative solver options:\n",
      "    https://scikit-learn.org/stable/modules/linear_model.html#logistic-regression\n",
      "  n_iter_i = _check_optimize_result(\n",
      "/Users/usuario/PycharmProjects/pythonProject5/POO/lib/python3.9/site-packages/sklearn/linear_model/_logistic.py:444: ConvergenceWarning: lbfgs failed to converge (status=1):\n",
      "STOP: TOTAL NO. of ITERATIONS REACHED LIMIT.\n",
      "\n",
      "Increase the number of iterations (max_iter) or scale the data as shown in:\n",
      "    https://scikit-learn.org/stable/modules/preprocessing.html\n",
      "Please also refer to the documentation for alternative solver options:\n",
      "    https://scikit-learn.org/stable/modules/linear_model.html#logistic-regression\n",
      "  n_iter_i = _check_optimize_result(\n",
      "/Users/usuario/PycharmProjects/pythonProject5/POO/lib/python3.9/site-packages/sklearn/linear_model/_logistic.py:444: ConvergenceWarning: lbfgs failed to converge (status=1):\n",
      "STOP: TOTAL NO. of ITERATIONS REACHED LIMIT.\n",
      "\n",
      "Increase the number of iterations (max_iter) or scale the data as shown in:\n",
      "    https://scikit-learn.org/stable/modules/preprocessing.html\n",
      "Please also refer to the documentation for alternative solver options:\n",
      "    https://scikit-learn.org/stable/modules/linear_model.html#logistic-regression\n",
      "  n_iter_i = _check_optimize_result(\n",
      "/Users/usuario/PycharmProjects/pythonProject5/POO/lib/python3.9/site-packages/sklearn/linear_model/_logistic.py:444: ConvergenceWarning: lbfgs failed to converge (status=1):\n",
      "STOP: TOTAL NO. of ITERATIONS REACHED LIMIT.\n",
      "\n",
      "Increase the number of iterations (max_iter) or scale the data as shown in:\n",
      "    https://scikit-learn.org/stable/modules/preprocessing.html\n",
      "Please also refer to the documentation for alternative solver options:\n",
      "    https://scikit-learn.org/stable/modules/linear_model.html#logistic-regression\n",
      "  n_iter_i = _check_optimize_result(\n",
      "/Users/usuario/PycharmProjects/pythonProject5/POO/lib/python3.9/site-packages/sklearn/linear_model/_logistic.py:444: ConvergenceWarning: lbfgs failed to converge (status=1):\n",
      "STOP: TOTAL NO. of ITERATIONS REACHED LIMIT.\n",
      "\n",
      "Increase the number of iterations (max_iter) or scale the data as shown in:\n",
      "    https://scikit-learn.org/stable/modules/preprocessing.html\n",
      "Please also refer to the documentation for alternative solver options:\n",
      "    https://scikit-learn.org/stable/modules/linear_model.html#logistic-regression\n",
      "  n_iter_i = _check_optimize_result(\n",
      "/Users/usuario/PycharmProjects/pythonProject5/POO/lib/python3.9/site-packages/sklearn/linear_model/_logistic.py:444: ConvergenceWarning: lbfgs failed to converge (status=1):\n",
      "STOP: TOTAL NO. of ITERATIONS REACHED LIMIT.\n",
      "\n",
      "Increase the number of iterations (max_iter) or scale the data as shown in:\n",
      "    https://scikit-learn.org/stable/modules/preprocessing.html\n",
      "Please also refer to the documentation for alternative solver options:\n",
      "    https://scikit-learn.org/stable/modules/linear_model.html#logistic-regression\n",
      "  n_iter_i = _check_optimize_result(\n",
      "/Users/usuario/PycharmProjects/pythonProject5/POO/lib/python3.9/site-packages/sklearn/linear_model/_logistic.py:444: ConvergenceWarning: lbfgs failed to converge (status=1):\n",
      "STOP: TOTAL NO. of ITERATIONS REACHED LIMIT.\n",
      "\n",
      "Increase the number of iterations (max_iter) or scale the data as shown in:\n",
      "    https://scikit-learn.org/stable/modules/preprocessing.html\n",
      "Please also refer to the documentation for alternative solver options:\n",
      "    https://scikit-learn.org/stable/modules/linear_model.html#logistic-regression\n",
      "  n_iter_i = _check_optimize_result(\n",
      "/Users/usuario/PycharmProjects/pythonProject5/POO/lib/python3.9/site-packages/sklearn/linear_model/_logistic.py:444: ConvergenceWarning: lbfgs failed to converge (status=1):\n",
      "STOP: TOTAL NO. of ITERATIONS REACHED LIMIT.\n",
      "\n",
      "Increase the number of iterations (max_iter) or scale the data as shown in:\n",
      "    https://scikit-learn.org/stable/modules/preprocessing.html\n",
      "Please also refer to the documentation for alternative solver options:\n",
      "    https://scikit-learn.org/stable/modules/linear_model.html#logistic-regression\n",
      "  n_iter_i = _check_optimize_result(\n",
      "/Users/usuario/PycharmProjects/pythonProject5/POO/lib/python3.9/site-packages/sklearn/linear_model/_logistic.py:444: ConvergenceWarning: lbfgs failed to converge (status=1):\n",
      "STOP: TOTAL NO. of ITERATIONS REACHED LIMIT.\n",
      "\n",
      "Increase the number of iterations (max_iter) or scale the data as shown in:\n",
      "    https://scikit-learn.org/stable/modules/preprocessing.html\n",
      "Please also refer to the documentation for alternative solver options:\n",
      "    https://scikit-learn.org/stable/modules/linear_model.html#logistic-regression\n",
      "  n_iter_i = _check_optimize_result(\n",
      "/Users/usuario/PycharmProjects/pythonProject5/POO/lib/python3.9/site-packages/sklearn/linear_model/_logistic.py:444: ConvergenceWarning: lbfgs failed to converge (status=1):\n",
      "STOP: TOTAL NO. of ITERATIONS REACHED LIMIT.\n",
      "\n",
      "Increase the number of iterations (max_iter) or scale the data as shown in:\n",
      "    https://scikit-learn.org/stable/modules/preprocessing.html\n",
      "Please also refer to the documentation for alternative solver options:\n",
      "    https://scikit-learn.org/stable/modules/linear_model.html#logistic-regression\n",
      "  n_iter_i = _check_optimize_result(\n",
      "/Users/usuario/PycharmProjects/pythonProject5/POO/lib/python3.9/site-packages/sklearn/linear_model/_logistic.py:444: ConvergenceWarning: lbfgs failed to converge (status=1):\n",
      "STOP: TOTAL NO. of ITERATIONS REACHED LIMIT.\n",
      "\n",
      "Increase the number of iterations (max_iter) or scale the data as shown in:\n",
      "    https://scikit-learn.org/stable/modules/preprocessing.html\n",
      "Please also refer to the documentation for alternative solver options:\n",
      "    https://scikit-learn.org/stable/modules/linear_model.html#logistic-regression\n",
      "  n_iter_i = _check_optimize_result(\n",
      "/Users/usuario/PycharmProjects/pythonProject5/POO/lib/python3.9/site-packages/sklearn/linear_model/_logistic.py:444: ConvergenceWarning: lbfgs failed to converge (status=1):\n",
      "STOP: TOTAL NO. of ITERATIONS REACHED LIMIT.\n",
      "\n",
      "Increase the number of iterations (max_iter) or scale the data as shown in:\n",
      "    https://scikit-learn.org/stable/modules/preprocessing.html\n",
      "Please also refer to the documentation for alternative solver options:\n",
      "    https://scikit-learn.org/stable/modules/linear_model.html#logistic-regression\n",
      "  n_iter_i = _check_optimize_result(\n",
      "/Users/usuario/PycharmProjects/pythonProject5/POO/lib/python3.9/site-packages/sklearn/linear_model/_logistic.py:444: ConvergenceWarning: lbfgs failed to converge (status=1):\n",
      "STOP: TOTAL NO. of ITERATIONS REACHED LIMIT.\n",
      "\n",
      "Increase the number of iterations (max_iter) or scale the data as shown in:\n",
      "    https://scikit-learn.org/stable/modules/preprocessing.html\n",
      "Please also refer to the documentation for alternative solver options:\n",
      "    https://scikit-learn.org/stable/modules/linear_model.html#logistic-regression\n",
      "  n_iter_i = _check_optimize_result(\n",
      "/Users/usuario/PycharmProjects/pythonProject5/POO/lib/python3.9/site-packages/sklearn/linear_model/_logistic.py:444: ConvergenceWarning: lbfgs failed to converge (status=1):\n",
      "STOP: TOTAL NO. of ITERATIONS REACHED LIMIT.\n",
      "\n",
      "Increase the number of iterations (max_iter) or scale the data as shown in:\n",
      "    https://scikit-learn.org/stable/modules/preprocessing.html\n",
      "Please also refer to the documentation for alternative solver options:\n",
      "    https://scikit-learn.org/stable/modules/linear_model.html#logistic-regression\n",
      "  n_iter_i = _check_optimize_result(\n",
      "/Users/usuario/PycharmProjects/pythonProject5/POO/lib/python3.9/site-packages/sklearn/linear_model/_logistic.py:444: ConvergenceWarning: lbfgs failed to converge (status=1):\n",
      "STOP: TOTAL NO. of ITERATIONS REACHED LIMIT.\n",
      "\n",
      "Increase the number of iterations (max_iter) or scale the data as shown in:\n",
      "    https://scikit-learn.org/stable/modules/preprocessing.html\n",
      "Please also refer to the documentation for alternative solver options:\n",
      "    https://scikit-learn.org/stable/modules/linear_model.html#logistic-regression\n",
      "  n_iter_i = _check_optimize_result(\n",
      "/Users/usuario/PycharmProjects/pythonProject5/POO/lib/python3.9/site-packages/sklearn/linear_model/_logistic.py:444: ConvergenceWarning: lbfgs failed to converge (status=1):\n",
      "STOP: TOTAL NO. of ITERATIONS REACHED LIMIT.\n",
      "\n",
      "Increase the number of iterations (max_iter) or scale the data as shown in:\n",
      "    https://scikit-learn.org/stable/modules/preprocessing.html\n",
      "Please also refer to the documentation for alternative solver options:\n",
      "    https://scikit-learn.org/stable/modules/linear_model.html#logistic-regression\n",
      "  n_iter_i = _check_optimize_result(\n",
      "/Users/usuario/PycharmProjects/pythonProject5/POO/lib/python3.9/site-packages/sklearn/linear_model/_logistic.py:444: ConvergenceWarning: lbfgs failed to converge (status=1):\n",
      "STOP: TOTAL NO. of ITERATIONS REACHED LIMIT.\n",
      "\n",
      "Increase the number of iterations (max_iter) or scale the data as shown in:\n",
      "    https://scikit-learn.org/stable/modules/preprocessing.html\n",
      "Please also refer to the documentation for alternative solver options:\n",
      "    https://scikit-learn.org/stable/modules/linear_model.html#logistic-regression\n",
      "  n_iter_i = _check_optimize_result(\n",
      "/Users/usuario/PycharmProjects/pythonProject5/POO/lib/python3.9/site-packages/sklearn/linear_model/_logistic.py:444: ConvergenceWarning: lbfgs failed to converge (status=1):\n",
      "STOP: TOTAL NO. of ITERATIONS REACHED LIMIT.\n",
      "\n",
      "Increase the number of iterations (max_iter) or scale the data as shown in:\n",
      "    https://scikit-learn.org/stable/modules/preprocessing.html\n",
      "Please also refer to the documentation for alternative solver options:\n",
      "    https://scikit-learn.org/stable/modules/linear_model.html#logistic-regression\n",
      "  n_iter_i = _check_optimize_result(\n",
      "/Users/usuario/PycharmProjects/pythonProject5/POO/lib/python3.9/site-packages/sklearn/linear_model/_logistic.py:444: ConvergenceWarning: lbfgs failed to converge (status=1):\n",
      "STOP: TOTAL NO. of ITERATIONS REACHED LIMIT.\n",
      "\n",
      "Increase the number of iterations (max_iter) or scale the data as shown in:\n",
      "    https://scikit-learn.org/stable/modules/preprocessing.html\n",
      "Please also refer to the documentation for alternative solver options:\n",
      "    https://scikit-learn.org/stable/modules/linear_model.html#logistic-regression\n",
      "  n_iter_i = _check_optimize_result(\n",
      "/Users/usuario/PycharmProjects/pythonProject5/POO/lib/python3.9/site-packages/sklearn/linear_model/_logistic.py:444: ConvergenceWarning: lbfgs failed to converge (status=1):\n",
      "STOP: TOTAL NO. of ITERATIONS REACHED LIMIT.\n",
      "\n",
      "Increase the number of iterations (max_iter) or scale the data as shown in:\n",
      "    https://scikit-learn.org/stable/modules/preprocessing.html\n",
      "Please also refer to the documentation for alternative solver options:\n",
      "    https://scikit-learn.org/stable/modules/linear_model.html#logistic-regression\n",
      "  n_iter_i = _check_optimize_result(\n",
      "/Users/usuario/PycharmProjects/pythonProject5/POO/lib/python3.9/site-packages/sklearn/linear_model/_logistic.py:444: ConvergenceWarning: lbfgs failed to converge (status=1):\n",
      "STOP: TOTAL NO. of ITERATIONS REACHED LIMIT.\n",
      "\n",
      "Increase the number of iterations (max_iter) or scale the data as shown in:\n",
      "    https://scikit-learn.org/stable/modules/preprocessing.html\n",
      "Please also refer to the documentation for alternative solver options:\n",
      "    https://scikit-learn.org/stable/modules/linear_model.html#logistic-regression\n",
      "  n_iter_i = _check_optimize_result(\n",
      "/Users/usuario/PycharmProjects/pythonProject5/POO/lib/python3.9/site-packages/sklearn/linear_model/_logistic.py:444: ConvergenceWarning: lbfgs failed to converge (status=1):\n",
      "STOP: TOTAL NO. of ITERATIONS REACHED LIMIT.\n",
      "\n",
      "Increase the number of iterations (max_iter) or scale the data as shown in:\n",
      "    https://scikit-learn.org/stable/modules/preprocessing.html\n",
      "Please also refer to the documentation for alternative solver options:\n",
      "    https://scikit-learn.org/stable/modules/linear_model.html#logistic-regression\n",
      "  n_iter_i = _check_optimize_result(\n",
      "/Users/usuario/PycharmProjects/pythonProject5/POO/lib/python3.9/site-packages/sklearn/linear_model/_logistic.py:444: ConvergenceWarning: lbfgs failed to converge (status=1):\n",
      "STOP: TOTAL NO. of ITERATIONS REACHED LIMIT.\n",
      "\n",
      "Increase the number of iterations (max_iter) or scale the data as shown in:\n",
      "    https://scikit-learn.org/stable/modules/preprocessing.html\n",
      "Please also refer to the documentation for alternative solver options:\n",
      "    https://scikit-learn.org/stable/modules/linear_model.html#logistic-regression\n",
      "  n_iter_i = _check_optimize_result(\n",
      "/Users/usuario/PycharmProjects/pythonProject5/POO/lib/python3.9/site-packages/sklearn/linear_model/_logistic.py:444: ConvergenceWarning: lbfgs failed to converge (status=1):\n",
      "STOP: TOTAL NO. of ITERATIONS REACHED LIMIT.\n",
      "\n",
      "Increase the number of iterations (max_iter) or scale the data as shown in:\n",
      "    https://scikit-learn.org/stable/modules/preprocessing.html\n",
      "Please also refer to the documentation for alternative solver options:\n",
      "    https://scikit-learn.org/stable/modules/linear_model.html#logistic-regression\n",
      "  n_iter_i = _check_optimize_result(\n",
      "/Users/usuario/PycharmProjects/pythonProject5/POO/lib/python3.9/site-packages/sklearn/linear_model/_logistic.py:444: ConvergenceWarning: lbfgs failed to converge (status=1):\n",
      "STOP: TOTAL NO. of ITERATIONS REACHED LIMIT.\n",
      "\n",
      "Increase the number of iterations (max_iter) or scale the data as shown in:\n",
      "    https://scikit-learn.org/stable/modules/preprocessing.html\n",
      "Please also refer to the documentation for alternative solver options:\n",
      "    https://scikit-learn.org/stable/modules/linear_model.html#logistic-regression\n",
      "  n_iter_i = _check_optimize_result(\n",
      "/Users/usuario/PycharmProjects/pythonProject5/POO/lib/python3.9/site-packages/sklearn/linear_model/_logistic.py:444: ConvergenceWarning: lbfgs failed to converge (status=1):\n",
      "STOP: TOTAL NO. of ITERATIONS REACHED LIMIT.\n",
      "\n",
      "Increase the number of iterations (max_iter) or scale the data as shown in:\n",
      "    https://scikit-learn.org/stable/modules/preprocessing.html\n",
      "Please also refer to the documentation for alternative solver options:\n",
      "    https://scikit-learn.org/stable/modules/linear_model.html#logistic-regression\n",
      "  n_iter_i = _check_optimize_result(\n",
      "/Users/usuario/PycharmProjects/pythonProject5/POO/lib/python3.9/site-packages/sklearn/linear_model/_logistic.py:444: ConvergenceWarning: lbfgs failed to converge (status=1):\n",
      "STOP: TOTAL NO. of ITERATIONS REACHED LIMIT.\n",
      "\n",
      "Increase the number of iterations (max_iter) or scale the data as shown in:\n",
      "    https://scikit-learn.org/stable/modules/preprocessing.html\n",
      "Please also refer to the documentation for alternative solver options:\n",
      "    https://scikit-learn.org/stable/modules/linear_model.html#logistic-regression\n",
      "  n_iter_i = _check_optimize_result(\n",
      "/Users/usuario/PycharmProjects/pythonProject5/POO/lib/python3.9/site-packages/sklearn/linear_model/_logistic.py:444: ConvergenceWarning: lbfgs failed to converge (status=1):\n",
      "STOP: TOTAL NO. of ITERATIONS REACHED LIMIT.\n",
      "\n",
      "Increase the number of iterations (max_iter) or scale the data as shown in:\n",
      "    https://scikit-learn.org/stable/modules/preprocessing.html\n",
      "Please also refer to the documentation for alternative solver options:\n",
      "    https://scikit-learn.org/stable/modules/linear_model.html#logistic-regression\n",
      "  n_iter_i = _check_optimize_result(\n",
      "/Users/usuario/PycharmProjects/pythonProject5/POO/lib/python3.9/site-packages/sklearn/linear_model/_logistic.py:444: ConvergenceWarning: lbfgs failed to converge (status=1):\n",
      "STOP: TOTAL NO. of ITERATIONS REACHED LIMIT.\n",
      "\n",
      "Increase the number of iterations (max_iter) or scale the data as shown in:\n",
      "    https://scikit-learn.org/stable/modules/preprocessing.html\n",
      "Please also refer to the documentation for alternative solver options:\n",
      "    https://scikit-learn.org/stable/modules/linear_model.html#logistic-regression\n",
      "  n_iter_i = _check_optimize_result(\n"
     ]
    },
    {
     "data": {
      "text/plain": "<matplotlib.legend.Legend at 0x1233b21c0>"
     },
     "execution_count": 106,
     "metadata": {},
     "output_type": "execute_result"
    },
    {
     "data": {
      "text/plain": "<Figure size 640x480 with 1 Axes>",
      "image/png": "[encoded data removed]"
     },
     "metadata": {},
     "output_type": "display_data"
    }
   ],
   "source": [
    "import matplotlib.pyplot as plt\n",
    "from sklearn.model_selection import learning_curve\n",
    "import numpy as np\n",
    "train_sizes, train_scores, test_scores = learning_curve(estimator = LogisticRegression(max_iter=100),\n",
    "                                                              X = X,\n",
    "                                                              y = y,\n",
    "                                                              train_sizes = [25,50,75,100,300,400,500,600,700,800],\n",
    "                                                              cv = 10)\n",
    "\n",
    "# Take the mean of cross-validated train scores and validation scores\n",
    "train_scores_mean = np.mean(train_scores, axis=1)\n",
    "test_scores_mean = np.mean(test_scores, axis=1)\n",
    "\n",
    "# Plot the learning curves!\n",
    "plt.plot(train_sizes, train_scores_mean, label = 'Training score')\n",
    "plt.plot(train_sizes, test_scores_mean, label = 'Test score')\n",
    "plt.ylabel('Accuracy score', fontsize = 14)\n",
    "plt.xlabel('Training set size', fontsize = 14)\n",
    "plt.title('Learning curves', fontsize = 18, y = 1.03)\n",
    "#plt.xlim([0, 1000])\n",
    "#plt.ylim([0, 1])\n",
    "plt.legend()"
   ],
   "metadata": {
    "collapsed": false
   }
  },
  {
   "cell_type": "code",
   "execution_count": 108,
   "outputs": [
    {
     "data": {
      "text/plain": "Index(['presentacion', 'precio', 'unidad_presentacion', 'categoria_Agua',\n       'categoria_Arroz', 'categoria_Harinas', 'categoria_Leche',\n       'categoria_Pastas', 'marca_ARCOR', 'marca_ARMONÍA', 'marca_BONAQUA',\n       'marca_CAÑUELAS', 'marca_DON VICENTE', 'marca_ECO DE LOS ANDES',\n       'marca_FAVORITA', 'marca_GALLO', 'marca_GIACOMO', 'marca_GLACIAR',\n       'marca_KIN', 'marca_KNORR', 'marca_LA SALTEÑA', 'marca_LA SERENÍSIMA',\n       'marca_LUCCHETTI', 'marca_MAIZENA', 'marca_MATARAZZO',\n       'marca_MOLINOS ALA', 'marca_NESTLÉ', 'marca_PUREZA', 'marca_QUAKER',\n       'marca_SER', 'marca_VILLA DEL SUR', 'marca_VILLAVICENCIO',\n       'tipo_cadena_Autoservicio', 'tipo_cadena_Hipermercado',\n       'tipo_cadena_Supermercado'],\n      dtype='object')"
     },
     "execution_count": 108,
     "metadata": {},
     "output_type": "execute_result"
    }
   ],
   "source": [
    "X.columns"
   ],
   "metadata": {
    "collapsed": false
   }
  },
  {
   "cell_type": "code",
   "execution_count": 127,
   "outputs": [
    {
     "name": "stdout",
     "output_type": "stream",
     "text": [
      "Probamos el modelo con un Agua de Villavicencio, con una presentacion de 100lt con un precio de 70 pesos en un Supermercado, nuestro modelo predijo que pertenece a 1, que es Hipermercados Carrefour\n"
     ]
    }
   ],
   "source": [
    "# Import the model\n",
    "from sklearn.linear_model import LogisticRegression\n",
    "\n",
    "# Instanciate the model\n",
    "log_model = LogisticRegression(max_iter=1000)\n",
    "\n",
    "# Train the model on the training data\n",
    "log_model.fit(np.array(X), y)\n",
    "\n",
    "# Use the trained model to predict\n",
    "prediction = log_model.predict([[100, 70, 0, 1, 0,0,0,0,0,0,0,0,0,0,0,0,0,0,0,0,0,0,0,0,0,0,0,0,0,0,0,1,0,0,1]])[0]\n",
    "\n",
    "print(f\"Probamos el modelo con un Agua de Villavicencio, con una presentacion de 100 lt con un precio de 70 pesos en un Supermercado, nuestro modelo predijo que pertenece a {prediction}, que es Hipermercados Carrefour\")"
   ],
   "metadata": {
    "collapsed": false
   }
  }
 ],
 "metadata": {
  "kernelspec": {
   "display_name": "Python 3",
   "language": "python",
   "name": "python3"
  },
  "language_info": {
   "codemirror_mode": {
    "name": "ipython",
    "version": 2
   },
   "file_extension": ".py",
   "mimetype": "text/x-python",
   "name": "python",
   "nbconvert_exporter": "python",
   "pygments_lexer": "ipython2",
   "version": "2.7.6"
  }
 },
 "nbformat": 4,
 "nbformat_minor": 0
}
